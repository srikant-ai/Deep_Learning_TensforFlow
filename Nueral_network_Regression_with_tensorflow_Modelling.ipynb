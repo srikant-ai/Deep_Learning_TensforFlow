{
  "nbformat": 4,
  "nbformat_minor": 0,
  "metadata": {
    "colab": {
      "name": "Nueral_network_Regression_with_tensorflow.ipynb",
      "provenance": [],
      "collapsed_sections": [],
      "toc_visible": true,
      "authorship_tag": "ABX9TyMiSjWSdgBe0M5msSCjUu0N",
      "include_colab_link": true
    },
    "kernelspec": {
      "name": "python3",
      "display_name": "Python 3"
    },
    "language_info": {
      "name": "python"
    }
  },
  "cells": [
    {
      "cell_type": "markdown",
      "metadata": {
        "id": "view-in-github",
        "colab_type": "text"
      },
      "source": [
        "<a href=\"https://colab.research.google.com/github/srikant-ai/Deep_Learning_TensforFlow/blob/main/Nueral_network_Regression_with_tensorflow_Modelling.ipynb\" target=\"_parent\"><img src=\"https://colab.research.google.com/assets/colab-badge.svg\" alt=\"Open In Colab\"/></a>"
      ]
    },
    {
      "cell_type": "markdown",
      "metadata": {
        "id": "6Q98aOF9AUz2"
      },
      "source": [
        "### Introduction to Regression with Nueral networks in TensorFlow."
      ]
    },
    {
      "cell_type": "code",
      "metadata": {
        "colab": {
          "base_uri": "https://localhost:8080/"
        },
        "id": "y4xRuRNUK66N",
        "outputId": "d57da28d-b358-4c53-eb91-a6e0bf6713fa"
      },
      "source": [
        "#Import Tensorflow\n",
        "import tensorflow as tf\n",
        "print(tf.__version__)"
      ],
      "execution_count": 1,
      "outputs": [
        {
          "output_type": "stream",
          "text": [
            "2.5.0\n"
          ],
          "name": "stdout"
        }
      ]
    },
    {
      "cell_type": "markdown",
      "metadata": {
        "id": "Dj28otH3LDqO"
      },
      "source": [
        "### Creating data to view and fit"
      ]
    },
    {
      "cell_type": "code",
      "metadata": {
        "colab": {
          "base_uri": "https://localhost:8080/",
          "height": 286
        },
        "id": "KqKx7eEOLNBx",
        "outputId": "feb93e29-65d3-4287-84e7-cc2a0e2a1bcf"
      },
      "source": [
        "import numpy as np \n",
        "import matplotlib.pyplot as plt\n",
        "\n",
        "# Create features\n",
        "X = np.array([-7.0,-4.0,-1.0,2.0,5.0,8.0,11.0,14.0])\n",
        "\n",
        "# Create Labels\n",
        "y=np.array([3.0,6.0,9.0,12.0,15.0,18.0,21.0,24.0])\n",
        "\n",
        "# visualize it\n",
        "plt.scatter(X,y) "
      ],
      "execution_count": 4,
      "outputs": [
        {
          "output_type": "execute_result",
          "data": {
            "text/plain": [
              "<matplotlib.collections.PathCollection at 0x7f3109126610>"
            ]
          },
          "metadata": {
            "tags": []
          },
          "execution_count": 4
        },
        {
          "output_type": "display_data",
          "data": {
            "image/png": "[encoded data removed]",
            "text/plain": [
              "<Figure size 432x288 with 1 Axes>"
            ]
          },
          "metadata": {
            "tags": [],
            "needs_background": "light"
          }
        }
      ]
    },
    {
      "cell_type": "code",
      "metadata": {
        "colab": {
          "base_uri": "https://localhost:8080/"
        },
        "id": "mz02O4RcLtjN",
        "outputId": "8e0fcf2d-5d91-4a0e-d37d-e8041569d8cb"
      },
      "source": [
        "# The Equation we would want aour nueral network to learn \n",
        "y == X + 10"
      ],
      "execution_count": 5,
      "outputs": [
        {
          "output_type": "execute_result",
          "data": {
            "text/plain": [
              "array([ True,  True,  True,  True,  True,  True,  True,  True])"
            ]
          },
          "metadata": {
            "tags": []
          },
          "execution_count": 5
        }
      ]
    },
    {
      "cell_type": "markdown",
      "metadata": {
        "id": "ZPw32zu-NQJo"
      },
      "source": [
        "### Input and Output Shapes"
      ]
    },
    {
      "cell_type": "code",
      "metadata": {
        "colab": {
          "base_uri": "https://localhost:8080/"
        },
        "id": "QUtjW2-bNZCt",
        "outputId": "7e00f098-3367-4ba9-c566-dfb0761aa19c"
      },
      "source": [
        "# Create a Demo Tensor  for Housing Price Prediction Problem\n",
        "\n",
        "house_info = tf.constant([\"bedroom\",\"bathroom\",\"garage\"])\n",
        "house_price = tf.constant([939700])\n",
        "\n",
        "house_info, house_price"
      ],
      "execution_count": 7,
      "outputs": [
        {
          "output_type": "execute_result",
          "data": {
            "text/plain": [
              "(<tf.Tensor: shape=(3,), dtype=string, numpy=array([b'bedroom', b'bathroom', b'garage'], dtype=object)>,\n",
              " <tf.Tensor: shape=(1,), dtype=int32, numpy=array([939700], dtype=int32)>)"
            ]
          },
          "metadata": {
            "tags": []
          },
          "execution_count": 7
        }
      ]
    },
    {
      "cell_type": "code",
      "metadata": {
        "colab": {
          "base_uri": "https://localhost:8080/"
        },
        "id": "ah0kPn5oOCiC",
        "outputId": "a6af0ac3-ed2e-4847-b0f7-107c030a2303"
      },
      "source": [
        "X[0] , y[0]"
      ],
      "execution_count": 9,
      "outputs": [
        {
          "output_type": "execute_result",
          "data": {
            "text/plain": [
              "(-7.0, 3.0)"
            ]
          },
          "metadata": {
            "tags": []
          },
          "execution_count": 9
        }
      ]
    },
    {
      "cell_type": "code",
      "metadata": {
        "colab": {
          "base_uri": "https://localhost:8080/"
        },
        "id": "5iWWyncEOFmJ",
        "outputId": "35f4f415-ae2e-4f99-d03d-262d189f89f2"
      },
      "source": [
        "X[1] , y[1]"
      ],
      "execution_count": 10,
      "outputs": [
        {
          "output_type": "execute_result",
          "data": {
            "text/plain": [
              "(-4.0, 6.0)"
            ]
          },
          "metadata": {
            "tags": []
          },
          "execution_count": 10
        }
      ]
    },
    {
      "cell_type": "code",
      "metadata": {
        "colab": {
          "base_uri": "https://localhost:8080/"
        },
        "id": "54RvExOYNyhw",
        "outputId": "88ddc060-5f67-4a99-c34f-10ffe165db1d"
      },
      "source": [
        "input_shape = X[0].shape\n",
        "output_shape = y[0].shape\n",
        "\n",
        "input_shape , output_shape"
      ],
      "execution_count": 11,
      "outputs": [
        {
          "output_type": "execute_result",
          "data": {
            "text/plain": [
              "((), ())"
            ]
          },
          "metadata": {
            "tags": []
          },
          "execution_count": 11
        }
      ]
    },
    {
      "cell_type": "code",
      "metadata": {
        "colab": {
          "base_uri": "https://localhost:8080/"
        },
        "id": "8iRE8vWTN8vF",
        "outputId": "1a14c673-2ded-4e17-a599-91c417230d6c"
      },
      "source": [
        "# Scalers : hence no dimension\n",
        "X[0].ndim "
      ],
      "execution_count": 14,
      "outputs": [
        {
          "output_type": "execute_result",
          "data": {
            "text/plain": [
              "0"
            ]
          },
          "metadata": {
            "tags": []
          },
          "execution_count": 14
        }
      ]
    },
    {
      "cell_type": "code",
      "metadata": {
        "colab": {
          "base_uri": "https://localhost:8080/"
        },
        "id": "5Ne4t71lOcZv",
        "outputId": "7e606b08-e17a-4f36-8220-2952f743a744"
      },
      "source": [
        "# Turn the numpy array's into tensors\n",
        "X = tf.constant(X)\n",
        "y = tf.constant(y)\n",
        "\n",
        "X,y"
      ],
      "execution_count": 15,
      "outputs": [
        {
          "output_type": "execute_result",
          "data": {
            "text/plain": [
              "(<tf.Tensor: shape=(8,), dtype=float64, numpy=array([-7., -4., -1.,  2.,  5.,  8., 11., 14.])>,\n",
              " <tf.Tensor: shape=(8,), dtype=float64, numpy=array([ 3.,  6.,  9., 12., 15., 18., 21., 24.])>)"
            ]
          },
          "metadata": {
            "tags": []
          },
          "execution_count": 15
        }
      ]
    },
    {
      "cell_type": "code",
      "metadata": {
        "colab": {
          "base_uri": "https://localhost:8080/"
        },
        "id": "_-S4IZ58OzgA",
        "outputId": "f18a0ea8-e8dc-4fbc-fb24-e7a1319b8aaf"
      },
      "source": [
        "input_shape = X[0].shape\n",
        "output_shape = y[0].shape\n",
        "\n",
        "input_shape , output_shape"
      ],
      "execution_count": 16,
      "outputs": [
        {
          "output_type": "execute_result",
          "data": {
            "text/plain": [
              "(TensorShape([]), TensorShape([]))"
            ]
          },
          "metadata": {
            "tags": []
          },
          "execution_count": 16
        }
      ]
    },
    {
      "cell_type": "code",
      "metadata": {
        "colab": {
          "base_uri": "https://localhost:8080/",
          "height": 286
        },
        "id": "NjEZy3RDO5ZX",
        "outputId": "7f5e8b29-18f4-4dee-c7a8-8f4f12c34c35"
      },
      "source": [
        "plt.scatter(X,y)"
      ],
      "execution_count": 17,
      "outputs": [
        {
          "output_type": "execute_result",
          "data": {
            "text/plain": [
              "<matplotlib.collections.PathCollection at 0x7f310908e190>"
            ]
          },
          "metadata": {
            "tags": []
          },
          "execution_count": 17
        },
        {
          "output_type": "display_data",
          "data": {
            "image/png": "[encoded data removed]",
            "text/plain": [
              "<Figure size 432x288 with 1 Axes>"
            ]
          },
          "metadata": {
            "tags": [],
            "needs_background": "light"
          }
        }
      ]
    },
    {
      "cell_type": "markdown",
      "metadata": {
        "id": "cFoO8kUsPCP7"
      },
      "source": [
        "#### Steps in Modellling in TensorFlow :\n",
        "\n",
        "1. **Creating a model** - Define the input and output Layers , as well as the hidden layers of a deep learning model.\n",
        "2. **Compiling a model**  - Define the loss function (in other words , the function which tells our model how wrong it is) and the optimizer (tells our model how to improve the patterns its learning) and the evaluation metrics (whar we can use to interprete the performance of our model).\n",
        "3. Fitting a model - Letting the Model try to find the patterns between X & y (features and labels)"
      ]
    },
    {
      "cell_type": "code",
      "metadata": {
        "colab": {
          "base_uri": "https://localhost:8080/"
        },
        "id": "7cTAwmoyQ2iy",
        "outputId": "fc550b5c-57ee-4468-93da-8f621636b29e"
      },
      "source": [
        "# set random seed \n",
        "tf.random.set_seed(42)\n",
        "\n",
        "# 1. Create a model using the Sequential API : This Groups a Linear Stack of Layers into Model\n",
        "# Method : 1\n",
        "#-----------\n",
        "model = tf.keras.Sequential([\n",
        "  tf.keras.layers.Dense(1)\n",
        "])\n",
        "\n",
        "\n",
        "# Method : 2\n",
        "#-----------\n",
        "#model = tf.keras.Sequential()\n",
        "#model.add(tf.keras.layers.Dense(1))\n",
        "\n",
        "#2. Compile the model\n",
        "model.compile(loss=tf.keras.losses.mae ,# mae -> Mean Absolute Error between Labels and Predictions  : mean(abs(y_true - y_pred))\n",
        "              optimizer = tf.keras.optimizers.SGD(),# sgd : Stochastic Gradient Descent \n",
        "              metrics =[ tf.keras.losses.mae])\n",
        "\n",
        "#3. Fit the Model\n",
        "model.fit(X,y,epochs=5) # Epochs tells the model how many time the model has to go through the examples to understand the patterns "
      ],
      "execution_count": 20,
      "outputs": [
        {
          "output_type": "stream",
          "text": [
            "Epoch 1/5\n",
            "1/1 [==============================] - 0s 209ms/step - loss: 11.5048 - mean_absolute_error: 11.5048\n",
            "Epoch 2/5\n",
            "1/1 [==============================] - 0s 4ms/step - loss: 11.3723 - mean_absolute_error: 11.3723\n",
            "Epoch 3/5\n",
            "1/1 [==============================] - 0s 5ms/step - loss: 11.2398 - mean_absolute_error: 11.2398\n",
            "Epoch 4/5\n",
            "1/1 [==============================] - 0s 3ms/step - loss: 11.1073 - mean_absolute_error: 11.1073\n",
            "Epoch 5/5\n",
            "1/1 [==============================] - 0s 5ms/step - loss: 10.9748 - mean_absolute_error: 10.9748\n"
          ],
          "name": "stdout"
        },
        {
          "output_type": "execute_result",
          "data": {
            "text/plain": [
              "<tensorflow.python.keras.callbacks.History at 0x7f31032f1550>"
            ]
          },
          "metadata": {
            "tags": []
          },
          "execution_count": 20
        }
      ]
    },
    {
      "cell_type": "code",
      "metadata": {
        "colab": {
          "base_uri": "https://localhost:8080/"
        },
        "id": "-1sTz5kSSI35",
        "outputId": "00320fe4-29ea-4211-88c4-11a869cdf72a"
      },
      "source": [
        "# check out X and y \n",
        "X,y"
      ],
      "execution_count": 21,
      "outputs": [
        {
          "output_type": "execute_result",
          "data": {
            "text/plain": [
              "(<tf.Tensor: shape=(8,), dtype=float64, numpy=array([-7., -4., -1.,  2.,  5.,  8., 11., 14.])>,\n",
              " <tf.Tensor: shape=(8,), dtype=float64, numpy=array([ 3.,  6.,  9., 12., 15., 18., 21., 24.])>)"
            ]
          },
          "metadata": {
            "tags": []
          },
          "execution_count": 21
        }
      ]
    },
    {
      "cell_type": "code",
      "metadata": {
        "colab": {
          "base_uri": "https://localhost:8080/"
        },
        "id": "UJIpZzU9Tla8",
        "outputId": "69e83076-09db-4488-f22d-92d233e8d1ec"
      },
      "source": [
        "# Try and make a prediction using our model\n",
        "y_pred=model.predict([17.0])\n",
        "y_pred"
      ],
      "execution_count": 23,
      "outputs": [
        {
          "output_type": "execute_result",
          "data": {
            "text/plain": [
              "array([[12.716021]], dtype=float32)"
            ]
          },
          "metadata": {
            "tags": []
          },
          "execution_count": 23
        }
      ]
    },
    {
      "cell_type": "code",
      "metadata": {
        "colab": {
          "base_uri": "https://localhost:8080/"
        },
        "id": "yxkBuqUKTvDq",
        "outputId": "f7c355c6-d771-4731-f8eb-b9678d769cab"
      },
      "source": [
        "y_pred + 11"
      ],
      "execution_count": 24,
      "outputs": [
        {
          "output_type": "execute_result",
          "data": {
            "text/plain": [
              "array([[23.71602]], dtype=float32)"
            ]
          },
          "metadata": {
            "tags": []
          },
          "execution_count": 24
        }
      ]
    },
    {
      "cell_type": "markdown",
      "metadata": {
        "id": "OeMSt821T_b_"
      },
      "source": [
        "### Improving our Model\n",
        "\n",
        "we can improve our model , by altering the steps we took to create a model.\n",
        "\n",
        "1. **Creating a model** - Here we might add more layers, increase the number of hidden units, (all called nuerons) within each of the hidden layers, change the activation function of each layer.\n",
        "\n",
        "2. **Compiling a model** - here we might change the optimization function or perhaps the **learning rate**  of the optimization function.\n",
        "\n",
        "3. **Fitting a model** - here we might fit a model for more **epochs** (leave it training for longer) or on more data (give the model more examaples to learn form.)"
      ]
    },
    {
      "cell_type": "code",
      "metadata": {
        "colab": {
          "base_uri": "https://localhost:8080/"
        },
        "id": "5ZYpCZosUExo",
        "outputId": "23471e6f-512c-434c-fc7f-c3c87d7a4db5"
      },
      "source": [
        "# Let's Rebuild our model\n",
        "\n",
        "# set random seed \n",
        "tf.random.set_seed(42)\n",
        "\n",
        "# 1. Create a model using the Sequential API : This Groups a Linear Stack of Layers into Model\n",
        "# Method : 1\n",
        "#-----------\n",
        "model = tf.keras.Sequential([\n",
        "  tf.keras.layers.Dense(1)\n",
        "])\n",
        "\n",
        "\n",
        "# Method : 2\n",
        "#-----------\n",
        "#model = tf.keras.Sequential()\n",
        "#model.add(tf.keras.layers.Dense(1))\n",
        "\n",
        "#2. Compile the model\n",
        "model.compile(loss=tf.keras.losses.mae ,# mae -> Mean Absolute Error between Labels and Predictions  : mean(abs(y_true - y_pred))\n",
        "              optimizer = tf.keras.optimizers.SGD(),# sgd : Stochastic Gradient Descent \n",
        "              metrics =[ tf.keras.losses.mae])\n",
        "\n",
        "#3. Fit the Model\n",
        "model.fit(X,y,epochs=100) # Epochs tells the model how many time the model has to go through the examples to understand the patterns "
      ],
      "execution_count": 26,
      "outputs": [
        {
          "output_type": "stream",
          "text": [
            "Epoch 1/100\n",
            "1/1 [==============================] - 0s 201ms/step - loss: 11.5048 - mean_absolute_error: 11.5048\n",
            "Epoch 2/100\n",
            "1/1 [==============================] - 0s 6ms/step - loss: 11.3723 - mean_absolute_error: 11.3723\n",
            "Epoch 3/100\n",
            "1/1 [==============================] - 0s 3ms/step - loss: 11.2398 - mean_absolute_error: 11.2398\n",
            "Epoch 4/100\n",
            "1/1 [==============================] - 0s 4ms/step - loss: 11.1073 - mean_absolute_error: 11.1073\n",
            "Epoch 5/100\n",
            "1/1 [==============================] - 0s 10ms/step - loss: 10.9748 - mean_absolute_error: 10.9748\n",
            "Epoch 6/100\n",
            "1/1 [==============================] - 0s 5ms/step - loss: 10.8423 - mean_absolute_error: 10.8423\n",
            "Epoch 7/100\n",
            "1/1 [==============================] - 0s 4ms/step - loss: 10.7098 - mean_absolute_error: 10.7098\n",
            "Epoch 8/100\n",
            "1/1 [==============================] - 0s 4ms/step - loss: 10.5773 - mean_absolute_error: 10.5773\n",
            "Epoch 9/100\n",
            "1/1 [==============================] - 0s 4ms/step - loss: 10.4448 - mean_absolute_error: 10.4448\n",
            "Epoch 10/100\n",
            "1/1 [==============================] - 0s 3ms/step - loss: 10.3123 - mean_absolute_error: 10.3123\n",
            "Epoch 11/100\n",
            "1/1 [==============================] - 0s 3ms/step - loss: 10.1798 - mean_absolute_error: 10.1798\n",
            "Epoch 12/100\n",
            "1/1 [==============================] - 0s 5ms/step - loss: 10.0473 - mean_absolute_error: 10.0473\n",
            "Epoch 13/100\n",
            "1/1 [==============================] - 0s 4ms/step - loss: 9.9148 - mean_absolute_error: 9.9148\n",
            "Epoch 14/100\n",
            "1/1 [==============================] - 0s 4ms/step - loss: 9.7823 - mean_absolute_error: 9.7823\n",
            "Epoch 15/100\n",
            "1/1 [==============================] - 0s 4ms/step - loss: 9.6498 - mean_absolute_error: 9.6498\n",
            "Epoch 16/100\n",
            "1/1 [==============================] - 0s 4ms/step - loss: 9.5173 - mean_absolute_error: 9.5173\n",
            "Epoch 17/100\n",
            "1/1 [==============================] - 0s 7ms/step - loss: 9.3848 - mean_absolute_error: 9.3848\n",
            "Epoch 18/100\n",
            "1/1 [==============================] - 0s 4ms/step - loss: 9.2523 - mean_absolute_error: 9.2523\n",
            "Epoch 19/100\n",
            "1/1 [==============================] - 0s 5ms/step - loss: 9.1198 - mean_absolute_error: 9.1198\n",
            "Epoch 20/100\n",
            "1/1 [==============================] - 0s 4ms/step - loss: 8.9873 - mean_absolute_error: 8.9873\n",
            "Epoch 21/100\n",
            "1/1 [==============================] - 0s 8ms/step - loss: 8.8548 - mean_absolute_error: 8.8548\n",
            "Epoch 22/100\n",
            "1/1 [==============================] - 0s 7ms/step - loss: 8.7223 - mean_absolute_error: 8.7223\n",
            "Epoch 23/100\n",
            "1/1 [==============================] - 0s 3ms/step - loss: 8.5898 - mean_absolute_error: 8.5898\n",
            "Epoch 24/100\n",
            "1/1 [==============================] - 0s 4ms/step - loss: 8.4573 - mean_absolute_error: 8.4573\n",
            "Epoch 25/100\n",
            "1/1 [==============================] - 0s 9ms/step - loss: 8.3248 - mean_absolute_error: 8.3248\n",
            "Epoch 26/100\n",
            "1/1 [==============================] - 0s 5ms/step - loss: 8.1923 - mean_absolute_error: 8.1923\n",
            "Epoch 27/100\n",
            "1/1 [==============================] - 0s 3ms/step - loss: 8.0598 - mean_absolute_error: 8.0598\n",
            "Epoch 28/100\n",
            "1/1 [==============================] - 0s 3ms/step - loss: 7.9273 - mean_absolute_error: 7.9273\n",
            "Epoch 29/100\n",
            "1/1 [==============================] - 0s 5ms/step - loss: 7.7948 - mean_absolute_error: 7.7948\n",
            "Epoch 30/100\n",
            "1/1 [==============================] - 0s 3ms/step - loss: 7.6623 - mean_absolute_error: 7.6623\n",
            "Epoch 31/100\n",
            "1/1 [==============================] - 0s 4ms/step - loss: 7.5298 - mean_absolute_error: 7.5298\n",
            "Epoch 32/100\n",
            "1/1 [==============================] - 0s 3ms/step - loss: 7.3973 - mean_absolute_error: 7.3973\n",
            "Epoch 33/100\n",
            "1/1 [==============================] - 0s 3ms/step - loss: 7.2648 - mean_absolute_error: 7.2648\n",
            "Epoch 34/100\n",
            "1/1 [==============================] - 0s 5ms/step - loss: 7.2525 - mean_absolute_error: 7.2525\n",
            "Epoch 35/100\n",
            "1/1 [==============================] - 0s 3ms/step - loss: 7.2469 - mean_absolute_error: 7.2469\n",
            "Epoch 36/100\n",
            "1/1 [==============================] - 0s 3ms/step - loss: 7.2413 - mean_absolute_error: 7.2413\n",
            "Epoch 37/100\n",
            "1/1 [==============================] - 0s 4ms/step - loss: 7.2356 - mean_absolute_error: 7.2356\n",
            "Epoch 38/100\n",
            "1/1 [==============================] - 0s 4ms/step - loss: 7.2300 - mean_absolute_error: 7.2300\n",
            "Epoch 39/100\n",
            "1/1 [==============================] - 0s 4ms/step - loss: 7.2244 - mean_absolute_error: 7.2244\n",
            "Epoch 40/100\n",
            "1/1 [==============================] - 0s 6ms/step - loss: 7.2188 - mean_absolute_error: 7.2188\n",
            "Epoch 41/100\n",
            "1/1 [==============================] - 0s 3ms/step - loss: 7.2131 - mean_absolute_error: 7.2131\n",
            "Epoch 42/100\n",
            "1/1 [==============================] - 0s 3ms/step - loss: 7.2075 - mean_absolute_error: 7.2075\n",
            "Epoch 43/100\n",
            "1/1 [==============================] - 0s 3ms/step - loss: 7.2019 - mean_absolute_error: 7.2019\n",
            "Epoch 44/100\n",
            "1/1 [==============================] - 0s 2ms/step - loss: 7.1963 - mean_absolute_error: 7.1963\n",
            "Epoch 45/100\n",
            "1/1 [==============================] - 0s 2ms/step - loss: 7.1906 - mean_absolute_error: 7.1906\n",
            "Epoch 46/100\n",
            "1/1 [==============================] - 0s 6ms/step - loss: 7.1850 - mean_absolute_error: 7.1850\n",
            "Epoch 47/100\n",
            "1/1 [==============================] - 0s 3ms/step - loss: 7.1794 - mean_absolute_error: 7.1794\n",
            "Epoch 48/100\n",
            "1/1 [==============================] - 0s 3ms/step - loss: 7.1738 - mean_absolute_error: 7.1738\n",
            "Epoch 49/100\n",
            "1/1 [==============================] - 0s 4ms/step - loss: 7.1681 - mean_absolute_error: 7.1681\n",
            "Epoch 50/100\n",
            "1/1 [==============================] - 0s 6ms/step - loss: 7.1625 - mean_absolute_error: 7.1625\n",
            "Epoch 51/100\n",
            "1/1 [==============================] - 0s 5ms/step - loss: 7.1569 - mean_absolute_error: 7.1569\n",
            "Epoch 52/100\n",
            "1/1 [==============================] - 0s 9ms/step - loss: 7.1512 - mean_absolute_error: 7.1512\n",
            "Epoch 53/100\n",
            "1/1 [==============================] - 0s 3ms/step - loss: 7.1456 - mean_absolute_error: 7.1456\n",
            "Epoch 54/100\n",
            "1/1 [==============================] - 0s 3ms/step - loss: 7.1400 - mean_absolute_error: 7.1400\n",
            "Epoch 55/100\n",
            "1/1 [==============================] - 0s 4ms/step - loss: 7.1344 - mean_absolute_error: 7.1344\n",
            "Epoch 56/100\n",
            "1/1 [==============================] - 0s 5ms/step - loss: 7.1287 - mean_absolute_error: 7.1287\n",
            "Epoch 57/100\n",
            "1/1 [==============================] - 0s 3ms/step - loss: 7.1231 - mean_absolute_error: 7.1231\n",
            "Epoch 58/100\n",
            "1/1 [==============================] - 0s 5ms/step - loss: 7.1175 - mean_absolute_error: 7.1175\n",
            "Epoch 59/100\n",
            "1/1 [==============================] - 0s 3ms/step - loss: 7.1119 - mean_absolute_error: 7.1119\n",
            "Epoch 60/100\n",
            "1/1 [==============================] - 0s 4ms/step - loss: 7.1063 - mean_absolute_error: 7.1063\n",
            "Epoch 61/100\n",
            "1/1 [==============================] - 0s 7ms/step - loss: 7.1006 - mean_absolute_error: 7.1006\n",
            "Epoch 62/100\n",
            "1/1 [==============================] - 0s 4ms/step - loss: 7.0950 - mean_absolute_error: 7.0950\n",
            "Epoch 63/100\n",
            "1/1 [==============================] - 0s 3ms/step - loss: 7.0894 - mean_absolute_error: 7.0894\n",
            "Epoch 64/100\n",
            "1/1 [==============================] - 0s 4ms/step - loss: 7.0838 - mean_absolute_error: 7.0838\n",
            "Epoch 65/100\n",
            "1/1 [==============================] - 0s 5ms/step - loss: 7.0781 - mean_absolute_error: 7.0781\n",
            "Epoch 66/100\n",
            "1/1 [==============================] - 0s 6ms/step - loss: 7.0725 - mean_absolute_error: 7.0725\n",
            "Epoch 67/100\n",
            "1/1 [==============================] - 0s 5ms/step - loss: 7.0669 - mean_absolute_error: 7.0669\n",
            "Epoch 68/100\n",
            "1/1 [==============================] - 0s 3ms/step - loss: 7.0613 - mean_absolute_error: 7.0613\n",
            "Epoch 69/100\n",
            "1/1 [==============================] - 0s 4ms/step - loss: 7.0556 - mean_absolute_error: 7.0556\n",
            "Epoch 70/100\n",
            "1/1 [==============================] - 0s 4ms/step - loss: 7.0500 - mean_absolute_error: 7.0500\n",
            "Epoch 71/100\n",
            "1/1 [==============================] - 0s 5ms/step - loss: 7.0444 - mean_absolute_error: 7.0444\n",
            "Epoch 72/100\n",
            "1/1 [==============================] - 0s 5ms/step - loss: 7.0388 - mean_absolute_error: 7.0388\n",
            "Epoch 73/100\n",
            "1/1 [==============================] - 0s 5ms/step - loss: 7.0331 - mean_absolute_error: 7.0331\n",
            "Epoch 74/100\n",
            "1/1 [==============================] - 0s 6ms/step - loss: 7.0275 - mean_absolute_error: 7.0275\n",
            "Epoch 75/100\n",
            "1/1 [==============================] - 0s 6ms/step - loss: 7.0219 - mean_absolute_error: 7.0219\n",
            "Epoch 76/100\n",
            "1/1 [==============================] - 0s 5ms/step - loss: 7.0163 - mean_absolute_error: 7.0163\n",
            "Epoch 77/100\n",
            "1/1 [==============================] - 0s 3ms/step - loss: 7.0106 - mean_absolute_error: 7.0106\n",
            "Epoch 78/100\n",
            "1/1 [==============================] - 0s 5ms/step - loss: 7.0050 - mean_absolute_error: 7.0050\n",
            "Epoch 79/100\n",
            "1/1 [==============================] - 0s 6ms/step - loss: 6.9994 - mean_absolute_error: 6.9994\n",
            "Epoch 80/100\n",
            "1/1 [==============================] - 0s 3ms/step - loss: 6.9938 - mean_absolute_error: 6.9938\n",
            "Epoch 81/100\n",
            "1/1 [==============================] - 0s 7ms/step - loss: 6.9881 - mean_absolute_error: 6.9881\n",
            "Epoch 82/100\n",
            "1/1 [==============================] - 0s 11ms/step - loss: 6.9825 - mean_absolute_error: 6.9825\n",
            "Epoch 83/100\n",
            "1/1 [==============================] - 0s 8ms/step - loss: 6.9769 - mean_absolute_error: 6.9769\n",
            "Epoch 84/100\n",
            "1/1 [==============================] - 0s 6ms/step - loss: 6.9713 - mean_absolute_error: 6.9713\n",
            "Epoch 85/100\n",
            "1/1 [==============================] - 0s 5ms/step - loss: 6.9656 - mean_absolute_error: 6.9656\n",
            "Epoch 86/100\n",
            "1/1 [==============================] - 0s 3ms/step - loss: 6.9600 - mean_absolute_error: 6.9600\n",
            "Epoch 87/100\n",
            "1/1 [==============================] - 0s 4ms/step - loss: 6.9544 - mean_absolute_error: 6.9544\n",
            "Epoch 88/100\n",
            "1/1 [==============================] - 0s 6ms/step - loss: 6.9488 - mean_absolute_error: 6.9488\n",
            "Epoch 89/100\n",
            "1/1 [==============================] - 0s 5ms/step - loss: 6.9431 - mean_absolute_error: 6.9431\n",
            "Epoch 90/100\n",
            "1/1 [==============================] - 0s 3ms/step - loss: 6.9375 - mean_absolute_error: 6.9375\n",
            "Epoch 91/100\n",
            "1/1 [==============================] - 0s 5ms/step - loss: 6.9319 - mean_absolute_error: 6.9319\n",
            "Epoch 92/100\n",
            "1/1 [==============================] - 0s 4ms/step - loss: 6.9263 - mean_absolute_error: 6.9263\n",
            "Epoch 93/100\n",
            "1/1 [==============================] - 0s 14ms/step - loss: 6.9206 - mean_absolute_error: 6.9206\n",
            "Epoch 94/100\n",
            "1/1 [==============================] - 0s 4ms/step - loss: 6.9150 - mean_absolute_error: 6.9150\n",
            "Epoch 95/100\n",
            "1/1 [==============================] - 0s 7ms/step - loss: 6.9094 - mean_absolute_error: 6.9094\n",
            "Epoch 96/100\n",
            "1/1 [==============================] - 0s 5ms/step - loss: 6.9038 - mean_absolute_error: 6.9038\n",
            "Epoch 97/100\n",
            "1/1 [==============================] - 0s 7ms/step - loss: 6.8981 - mean_absolute_error: 6.8981\n",
            "Epoch 98/100\n",
            "1/1 [==============================] - 0s 12ms/step - loss: 6.8925 - mean_absolute_error: 6.8925\n",
            "Epoch 99/100\n",
            "1/1 [==============================] - 0s 3ms/step - loss: 6.8869 - mean_absolute_error: 6.8869\n",
            "Epoch 100/100\n",
            "1/1 [==============================] - 0s 7ms/step - loss: 6.8813 - mean_absolute_error: 6.8813\n"
          ],
          "name": "stdout"
        },
        {
          "output_type": "execute_result",
          "data": {
            "text/plain": [
              "<tensorflow.python.keras.callbacks.History at 0x7f310194a910>"
            ]
          },
          "metadata": {
            "tags": []
          },
          "execution_count": 26
        }
      ]
    },
    {
      "cell_type": "code",
      "metadata": {
        "colab": {
          "base_uri": "https://localhost:8080/"
        },
        "id": "4hfYb7A2WncI",
        "outputId": "0c10db48-8b84-40ac-a7e9-893e8e79d16f"
      },
      "source": [
        "# check out X and y \n",
        "X,y"
      ],
      "execution_count": 27,
      "outputs": [
        {
          "output_type": "execute_result",
          "data": {
            "text/plain": [
              "(<tf.Tensor: shape=(8,), dtype=float64, numpy=array([-7., -4., -1.,  2.,  5.,  8., 11., 14.])>,\n",
              " <tf.Tensor: shape=(8,), dtype=float64, numpy=array([ 3.,  6.,  9., 12., 15., 18., 21., 24.])>)"
            ]
          },
          "metadata": {
            "tags": []
          },
          "execution_count": 27
        }
      ]
    },
    {
      "cell_type": "code",
      "metadata": {
        "colab": {
          "base_uri": "https://localhost:8080/"
        },
        "id": "1QQBdqioWzZL",
        "outputId": "0675c568-22ea-4fda-d4ed-360ac5695230"
      },
      "source": [
        "model.predict([17.0])"
      ],
      "execution_count": 28,
      "outputs": [
        {
          "output_type": "execute_result",
          "data": {
            "text/plain": [
              "array([[30.158512]], dtype=float32)"
            ]
          },
          "metadata": {
            "tags": []
          },
          "execution_count": 28
        }
      ]
    },
    {
      "cell_type": "code",
      "metadata": {
        "colab": {
          "base_uri": "https://localhost:8080/"
        },
        "id": "XJJ7LOfPW1rw",
        "outputId": "56a17ee6-f935-486e-a12a-5b1a8c441a12"
      },
      "source": [
        "# Let's Rebuild our model\n",
        "\n",
        "# set random seed \n",
        "tf.random.set_seed(42)\n",
        "\n",
        "# 1. Create a model using the Sequential API : This Groups a Linear Stack of Layers into Model\n",
        "# Method : 1\n",
        "#-----------\n",
        "model = tf.keras.Sequential([\n",
        "  tf.keras.layers.Dense(1)\n",
        "])\n",
        "\n",
        "\n",
        "# Method : 2\n",
        "#-----------\n",
        "#model = tf.keras.Sequential()\n",
        "#model.add(tf.keras.layers.Dense(1))\n",
        "\n",
        "#2. Compile the model\n",
        "model.compile(loss=tf.keras.losses.mae ,# mae -> Mean Absolute Error between Labels and Predictions  : mean(abs(y_true - y_pred))\n",
        "              optimizer = tf.keras.optimizers.Adam(learning_rate=0.001),# Adam : Best of AdaGrad and RMSProp\n",
        "              metrics =[ tf.keras.losses.mae])\n",
        "\n",
        "#3. Fit the Model\n",
        "model.fit(X,y,epochs=100) # Epochs tells the model how many time the model has to go through the examples to understand the patterns "
      ],
      "execution_count": 29,
      "outputs": [
        {
          "output_type": "stream",
          "text": [
            "Epoch 1/100\n",
            "1/1 [==============================] - 0s 266ms/step - loss: 11.5048 - mean_absolute_error: 11.5048\n",
            "Epoch 2/100\n",
            "1/1 [==============================] - 0s 4ms/step - loss: 11.5003 - mean_absolute_error: 11.5003\n",
            "Epoch 3/100\n",
            "1/1 [==============================] - 0s 5ms/step - loss: 11.4958 - mean_absolute_error: 11.4958\n",
            "Epoch 4/100\n",
            "1/1 [==============================] - 0s 7ms/step - loss: 11.4913 - mean_absolute_error: 11.4913\n",
            "Epoch 5/100\n",
            "1/1 [==============================] - 0s 6ms/step - loss: 11.4868 - mean_absolute_error: 11.4868\n",
            "Epoch 6/100\n",
            "1/1 [==============================] - 0s 5ms/step - loss: 11.4823 - mean_absolute_error: 11.4823\n",
            "Epoch 7/100\n",
            "1/1 [==============================] - 0s 5ms/step - loss: 11.4778 - mean_absolute_error: 11.4778\n",
            "Epoch 8/100\n",
            "1/1 [==============================] - 0s 9ms/step - loss: 11.4733 - mean_absolute_error: 11.4733\n",
            "Epoch 9/100\n",
            "1/1 [==============================] - 0s 5ms/step - loss: 11.4688 - mean_absolute_error: 11.4688\n",
            "Epoch 10/100\n",
            "1/1 [==============================] - 0s 5ms/step - loss: 11.4643 - mean_absolute_error: 11.4643\n",
            "Epoch 11/100\n",
            "1/1 [==============================] - 0s 6ms/step - loss: 11.4598 - mean_absolute_error: 11.4598\n",
            "Epoch 12/100\n",
            "1/1 [==============================] - 0s 6ms/step - loss: 11.4553 - mean_absolute_error: 11.4553\n",
            "Epoch 13/100\n",
            "1/1 [==============================] - 0s 4ms/step - loss: 11.4508 - mean_absolute_error: 11.4508\n",
            "Epoch 14/100\n",
            "1/1 [==============================] - 0s 3ms/step - loss: 11.4463 - mean_absolute_error: 11.4463\n",
            "Epoch 15/100\n",
            "1/1 [==============================] - 0s 3ms/step - loss: 11.4418 - mean_absolute_error: 11.4418\n",
            "Epoch 16/100\n",
            "1/1 [==============================] - 0s 4ms/step - loss: 11.4373 - mean_absolute_error: 11.4373\n",
            "Epoch 17/100\n",
            "1/1 [==============================] - 0s 6ms/step - loss: 11.4328 - mean_absolute_error: 11.4328\n",
            "Epoch 18/100\n",
            "1/1 [==============================] - 0s 5ms/step - loss: 11.4283 - mean_absolute_error: 11.4283\n",
            "Epoch 19/100\n",
            "1/1 [==============================] - 0s 3ms/step - loss: 11.4238 - mean_absolute_error: 11.4238\n",
            "Epoch 20/100\n",
            "1/1 [==============================] - 0s 7ms/step - loss: 11.4193 - mean_absolute_error: 11.4193\n",
            "Epoch 21/100\n",
            "1/1 [==============================] - 0s 7ms/step - loss: 11.4148 - mean_absolute_error: 11.4148\n",
            "Epoch 22/100\n",
            "1/1 [==============================] - 0s 4ms/step - loss: 11.4103 - mean_absolute_error: 11.4103\n",
            "Epoch 23/100\n",
            "1/1 [==============================] - 0s 4ms/step - loss: 11.4058 - mean_absolute_error: 11.4058\n",
            "Epoch 24/100\n",
            "1/1 [==============================] - 0s 8ms/step - loss: 11.4013 - mean_absolute_error: 11.4013\n",
            "Epoch 25/100\n",
            "1/1 [==============================] - 0s 5ms/step - loss: 11.3968 - mean_absolute_error: 11.3968\n",
            "Epoch 26/100\n",
            "1/1 [==============================] - 0s 11ms/step - loss: 11.3923 - mean_absolute_error: 11.3923\n",
            "Epoch 27/100\n",
            "1/1 [==============================] - 0s 3ms/step - loss: 11.3878 - mean_absolute_error: 11.3878\n",
            "Epoch 28/100\n",
            "1/1 [==============================] - 0s 8ms/step - loss: 11.3833 - mean_absolute_error: 11.3833\n",
            "Epoch 29/100\n",
            "1/1 [==============================] - 0s 10ms/step - loss: 11.3788 - mean_absolute_error: 11.3788\n",
            "Epoch 30/100\n",
            "1/1 [==============================] - 0s 4ms/step - loss: 11.3743 - mean_absolute_error: 11.3743\n",
            "Epoch 31/100\n",
            "1/1 [==============================] - 0s 8ms/step - loss: 11.3698 - mean_absolute_error: 11.3698\n",
            "Epoch 32/100\n",
            "1/1 [==============================] - 0s 4ms/step - loss: 11.3653 - mean_absolute_error: 11.3653\n",
            "Epoch 33/100\n",
            "1/1 [==============================] - 0s 4ms/step - loss: 11.3608 - mean_absolute_error: 11.3608\n",
            "Epoch 34/100\n",
            "1/1 [==============================] - 0s 5ms/step - loss: 11.3563 - mean_absolute_error: 11.3563\n",
            "Epoch 35/100\n",
            "1/1 [==============================] - 0s 6ms/step - loss: 11.3518 - mean_absolute_error: 11.3518\n",
            "Epoch 36/100\n",
            "1/1 [==============================] - 0s 3ms/step - loss: 11.3473 - mean_absolute_error: 11.3473\n",
            "Epoch 37/100\n",
            "1/1 [==============================] - 0s 4ms/step - loss: 11.3428 - mean_absolute_error: 11.3428\n",
            "Epoch 38/100\n",
            "1/1 [==============================] - 0s 6ms/step - loss: 11.3383 - mean_absolute_error: 11.3383\n",
            "Epoch 39/100\n",
            "1/1 [==============================] - 0s 5ms/step - loss: 11.3338 - mean_absolute_error: 11.3338\n",
            "Epoch 40/100\n",
            "1/1 [==============================] - 0s 3ms/step - loss: 11.3293 - mean_absolute_error: 11.3293\n",
            "Epoch 41/100\n",
            "1/1 [==============================] - 0s 4ms/step - loss: 11.3248 - mean_absolute_error: 11.3248\n",
            "Epoch 42/100\n",
            "1/1 [==============================] - 0s 4ms/step - loss: 11.3203 - mean_absolute_error: 11.3203\n",
            "Epoch 43/100\n",
            "1/1 [==============================] - 0s 6ms/step - loss: 11.3158 - mean_absolute_error: 11.3158\n",
            "Epoch 44/100\n",
            "1/1 [==============================] - 0s 3ms/step - loss: 11.3113 - mean_absolute_error: 11.3113\n",
            "Epoch 45/100\n",
            "1/1 [==============================] - 0s 4ms/step - loss: 11.3068 - mean_absolute_error: 11.3068\n",
            "Epoch 46/100\n",
            "1/1 [==============================] - 0s 7ms/step - loss: 11.3023 - mean_absolute_error: 11.3023\n",
            "Epoch 47/100\n",
            "1/1 [==============================] - 0s 3ms/step - loss: 11.2978 - mean_absolute_error: 11.2978\n",
            "Epoch 48/100\n",
            "1/1 [==============================] - 0s 3ms/step - loss: 11.2933 - mean_absolute_error: 11.2933\n",
            "Epoch 49/100\n",
            "1/1 [==============================] - 0s 4ms/step - loss: 11.2888 - mean_absolute_error: 11.2888\n",
            "Epoch 50/100\n",
            "1/1 [==============================] - 0s 6ms/step - loss: 11.2843 - mean_absolute_error: 11.2843\n",
            "Epoch 51/100\n",
            "1/1 [==============================] - 0s 3ms/step - loss: 11.2798 - mean_absolute_error: 11.2798\n",
            "Epoch 52/100\n",
            "1/1 [==============================] - 0s 4ms/step - loss: 11.2753 - mean_absolute_error: 11.2753\n",
            "Epoch 53/100\n",
            "1/1 [==============================] - 0s 3ms/step - loss: 11.2708 - mean_absolute_error: 11.2708\n",
            "Epoch 54/100\n",
            "1/1 [==============================] - 0s 6ms/step - loss: 11.2663 - mean_absolute_error: 11.2663\n",
            "Epoch 55/100\n",
            "1/1 [==============================] - 0s 5ms/step - loss: 11.2618 - mean_absolute_error: 11.2618\n",
            "Epoch 56/100\n",
            "1/1 [==============================] - 0s 17ms/step - loss: 11.2573 - mean_absolute_error: 11.2573\n",
            "Epoch 57/100\n",
            "1/1 [==============================] - 0s 6ms/step - loss: 11.2528 - mean_absolute_error: 11.2528\n",
            "Epoch 58/100\n",
            "1/1 [==============================] - 0s 4ms/step - loss: 11.2483 - mean_absolute_error: 11.2483\n",
            "Epoch 59/100\n",
            "1/1 [==============================] - 0s 5ms/step - loss: 11.2438 - mean_absolute_error: 11.2438\n",
            "Epoch 60/100\n",
            "1/1 [==============================] - 0s 5ms/step - loss: 11.2393 - mean_absolute_error: 11.2393\n",
            "Epoch 61/100\n",
            "1/1 [==============================] - 0s 5ms/step - loss: 11.2348 - mean_absolute_error: 11.2348\n",
            "Epoch 62/100\n",
            "1/1 [==============================] - 0s 5ms/step - loss: 11.2303 - mean_absolute_error: 11.2303\n",
            "Epoch 63/100\n",
            "1/1 [==============================] - 0s 3ms/step - loss: 11.2258 - mean_absolute_error: 11.2258\n",
            "Epoch 64/100\n",
            "1/1 [==============================] - 0s 6ms/step - loss: 11.2213 - mean_absolute_error: 11.2213\n",
            "Epoch 65/100\n",
            "1/1 [==============================] - 0s 4ms/step - loss: 11.2168 - mean_absolute_error: 11.2168\n",
            "Epoch 66/100\n",
            "1/1 [==============================] - 0s 3ms/step - loss: 11.2123 - mean_absolute_error: 11.2123\n",
            "Epoch 67/100\n",
            "1/1 [==============================] - 0s 3ms/step - loss: 11.2078 - mean_absolute_error: 11.2078\n",
            "Epoch 68/100\n",
            "1/1 [==============================] - 0s 3ms/step - loss: 11.2033 - mean_absolute_error: 11.2033\n",
            "Epoch 69/100\n",
            "1/1 [==============================] - 0s 5ms/step - loss: 11.1988 - mean_absolute_error: 11.1988\n",
            "Epoch 70/100\n",
            "1/1 [==============================] - 0s 4ms/step - loss: 11.1943 - mean_absolute_error: 11.1943\n",
            "Epoch 71/100\n",
            "1/1 [==============================] - 0s 8ms/step - loss: 11.1898 - mean_absolute_error: 11.1898\n",
            "Epoch 72/100\n",
            "1/1 [==============================] - 0s 4ms/step - loss: 11.1853 - mean_absolute_error: 11.1853\n",
            "Epoch 73/100\n",
            "1/1 [==============================] - 0s 5ms/step - loss: 11.1808 - mean_absolute_error: 11.1808\n",
            "Epoch 74/100\n",
            "1/1 [==============================] - 0s 3ms/step - loss: 11.1763 - mean_absolute_error: 11.1763\n",
            "Epoch 75/100\n",
            "1/1 [==============================] - 0s 4ms/step - loss: 11.1718 - mean_absolute_error: 11.1718\n",
            "Epoch 76/100\n",
            "1/1 [==============================] - 0s 8ms/step - loss: 11.1673 - mean_absolute_error: 11.1673\n",
            "Epoch 77/100\n",
            "1/1 [==============================] - 0s 3ms/step - loss: 11.1628 - mean_absolute_error: 11.1628\n",
            "Epoch 78/100\n",
            "1/1 [==============================] - 0s 4ms/step - loss: 11.1583 - mean_absolute_error: 11.1583\n",
            "Epoch 79/100\n",
            "1/1 [==============================] - 0s 14ms/step - loss: 11.1538 - mean_absolute_error: 11.1538\n",
            "Epoch 80/100\n",
            "1/1 [==============================] - 0s 4ms/step - loss: 11.1493 - mean_absolute_error: 11.1493\n",
            "Epoch 81/100\n",
            "1/1 [==============================] - 0s 11ms/step - loss: 11.1448 - mean_absolute_error: 11.1448\n",
            "Epoch 82/100\n",
            "1/1 [==============================] - 0s 13ms/step - loss: 11.1403 - mean_absolute_error: 11.1403\n",
            "Epoch 83/100\n",
            "1/1 [==============================] - 0s 8ms/step - loss: 11.1358 - mean_absolute_error: 11.1358\n",
            "Epoch 84/100\n",
            "1/1 [==============================] - 0s 15ms/step - loss: 11.1313 - mean_absolute_error: 11.1313\n",
            "Epoch 85/100\n",
            "1/1 [==============================] - 0s 4ms/step - loss: 11.1268 - mean_absolute_error: 11.1268\n",
            "Epoch 86/100\n",
            "1/1 [==============================] - 0s 4ms/step - loss: 11.1223 - mean_absolute_error: 11.1223\n",
            "Epoch 87/100\n",
            "1/1 [==============================] - 0s 5ms/step - loss: 11.1178 - mean_absolute_error: 11.1178\n",
            "Epoch 88/100\n",
            "1/1 [==============================] - 0s 6ms/step - loss: 11.1133 - mean_absolute_error: 11.1133\n",
            "Epoch 89/100\n",
            "1/1 [==============================] - 0s 3ms/step - loss: 11.1088 - mean_absolute_error: 11.1088\n",
            "Epoch 90/100\n",
            "1/1 [==============================] - 0s 6ms/step - loss: 11.1043 - mean_absolute_error: 11.1043\n",
            "Epoch 91/100\n",
            "1/1 [==============================] - 0s 6ms/step - loss: 11.0998 - mean_absolute_error: 11.0998\n",
            "Epoch 92/100\n",
            "1/1 [==============================] - 0s 4ms/step - loss: 11.0953 - mean_absolute_error: 11.0953\n",
            "Epoch 93/100\n",
            "1/1 [==============================] - 0s 6ms/step - loss: 11.0908 - mean_absolute_error: 11.0908\n",
            "Epoch 94/100\n",
            "1/1 [==============================] - 0s 4ms/step - loss: 11.0863 - mean_absolute_error: 11.0863\n",
            "Epoch 95/100\n",
            "1/1 [==============================] - 0s 6ms/step - loss: 11.0818 - mean_absolute_error: 11.0818\n",
            "Epoch 96/100\n",
            "1/1 [==============================] - 0s 6ms/step - loss: 11.0773 - mean_absolute_error: 11.0773\n",
            "Epoch 97/100\n",
            "1/1 [==============================] - 0s 6ms/step - loss: 11.0728 - mean_absolute_error: 11.0728\n",
            "Epoch 98/100\n",
            "1/1 [==============================] - 0s 5ms/step - loss: 11.0683 - mean_absolute_error: 11.0683\n",
            "Epoch 99/100\n",
            "1/1 [==============================] - 0s 5ms/step - loss: 11.0638 - mean_absolute_error: 11.0638\n",
            "Epoch 100/100\n",
            "1/1 [==============================] - 0s 4ms/step - loss: 11.0593 - mean_absolute_error: 11.0593\n"
          ],
          "name": "stdout"
        },
        {
          "output_type": "execute_result",
          "data": {
            "text/plain": [
              "<tensorflow.python.keras.callbacks.History at 0x7f310103b950>"
            ]
          },
          "metadata": {
            "tags": []
          },
          "execution_count": 29
        }
      ]
    },
    {
      "cell_type": "code",
      "metadata": {
        "colab": {
          "base_uri": "https://localhost:8080/"
        },
        "id": "Hd3LBa-NXVLA",
        "outputId": "ff5c2bb0-1722-400d-9dff-0bd403bbf49a"
      },
      "source": [
        "model.predict([17.0])"
      ],
      "execution_count": 30,
      "outputs": [
        {
          "output_type": "execute_result",
          "data": {
            "text/plain": [
              "array([[11.490996]], dtype=float32)"
            ]
          },
          "metadata": {
            "tags": []
          },
          "execution_count": 30
        }
      ]
    },
    {
      "cell_type": "code",
      "metadata": {
        "colab": {
          "base_uri": "https://localhost:8080/"
        },
        "id": "QfzP27SGXXJ4",
        "outputId": "3b8fa3d3-7f1f-49c8-9bb3-e03de83b827b"
      },
      "source": [
        "# Let's Rebuild our model\n",
        "\n",
        "# set random seed \n",
        "tf.random.set_seed(42)\n",
        "\n",
        "# 1. Create a model using the Sequential API : This Groups a Linear Stack of Layers into Model\n",
        "# Method : 1\n",
        "#-----------\n",
        "model = tf.keras.Sequential([\n",
        "  tf.keras.layers.Dense(50, activation =None),\n",
        "  tf.keras.layers.Dense(1)\n",
        "])\n",
        "\n",
        "\n",
        "# Method : 2\n",
        "#-----------\n",
        "#model = tf.keras.Sequential()\n",
        "#model.add(tf.keras.layers.Dense(1))\n",
        "\n",
        "#2. Compile the model\n",
        "model.compile(loss=tf.keras.losses.mae ,# mae -> Mean Absolute Error between Labels and Predictions  : mean(abs(y_true - y_pred))\n",
        "              optimizer = tf.keras.optimizers.Adam(learning_rate=0.01),# Adam : Best of AdaGrad and RMSProp\n",
        "              metrics =[ tf.keras.losses.mae])\n",
        "\n",
        "#3. Fit the Model\n",
        "model.fit(X,y,epochs=100) # Epochs tells the model how many time the model has to go through the examples to understand the patterns "
      ],
      "execution_count": 38,
      "outputs": [
        {
          "output_type": "stream",
          "text": [
            "Epoch 1/100\n",
            "1/1 [==============================] - 0s 268ms/step - loss: 13.1820 - mean_absolute_error: 13.1820\n",
            "Epoch 2/100\n",
            "1/1 [==============================] - 0s 4ms/step - loss: 12.5071 - mean_absolute_error: 12.5071\n",
            "Epoch 3/100\n",
            "1/1 [==============================] - 0s 3ms/step - loss: 11.8279 - mean_absolute_error: 11.8279\n",
            "Epoch 4/100\n",
            "1/1 [==============================] - 0s 5ms/step - loss: 11.1425 - mean_absolute_error: 11.1425\n",
            "Epoch 5/100\n",
            "1/1 [==============================] - 0s 8ms/step - loss: 10.4485 - mean_absolute_error: 10.4485\n",
            "Epoch 6/100\n",
            "1/1 [==============================] - 0s 3ms/step - loss: 9.7427 - mean_absolute_error: 9.7427\n",
            "Epoch 7/100\n",
            "1/1 [==============================] - 0s 5ms/step - loss: 9.0218 - mean_absolute_error: 9.0218\n",
            "Epoch 8/100\n",
            "1/1 [==============================] - 0s 3ms/step - loss: 8.2826 - mean_absolute_error: 8.2826\n",
            "Epoch 9/100\n",
            "1/1 [==============================] - 0s 4ms/step - loss: 7.5221 - mean_absolute_error: 7.5221\n",
            "Epoch 10/100\n",
            "1/1 [==============================] - 0s 5ms/step - loss: 6.7841 - mean_absolute_error: 6.7841\n",
            "Epoch 11/100\n",
            "1/1 [==============================] - 0s 3ms/step - loss: 6.7505 - mean_absolute_error: 6.7505\n",
            "Epoch 12/100\n",
            "1/1 [==============================] - 0s 10ms/step - loss: 7.0302 - mean_absolute_error: 7.0302\n",
            "Epoch 13/100\n",
            "1/1 [==============================] - 0s 3ms/step - loss: 7.1931 - mean_absolute_error: 7.1931\n",
            "Epoch 14/100\n",
            "1/1 [==============================] - 0s 3ms/step - loss: 7.2735 - mean_absolute_error: 7.2735\n",
            "Epoch 15/100\n",
            "1/1 [==============================] - 0s 3ms/step - loss: 7.2165 - mean_absolute_error: 7.2165\n",
            "Epoch 16/100\n",
            "1/1 [==============================] - 0s 4ms/step - loss: 7.0282 - mean_absolute_error: 7.0282\n",
            "Epoch 17/100\n",
            "1/1 [==============================] - 0s 5ms/step - loss: 6.8275 - mean_absolute_error: 6.8275\n",
            "Epoch 18/100\n",
            "1/1 [==============================] - 0s 3ms/step - loss: 6.5956 - mean_absolute_error: 6.5956\n",
            "Epoch 19/100\n",
            "1/1 [==============================] - 0s 4ms/step - loss: 6.3389 - mean_absolute_error: 6.3389\n",
            "Epoch 20/100\n",
            "1/1 [==============================] - 0s 3ms/step - loss: 6.0742 - mean_absolute_error: 6.0742\n",
            "Epoch 21/100\n",
            "1/1 [==============================] - 0s 6ms/step - loss: 6.0195 - mean_absolute_error: 6.0195\n",
            "Epoch 22/100\n",
            "1/1 [==============================] - 0s 3ms/step - loss: 5.9610 - mean_absolute_error: 5.9610\n",
            "Epoch 23/100\n",
            "1/1 [==============================] - 0s 4ms/step - loss: 6.0150 - mean_absolute_error: 6.0150\n",
            "Epoch 24/100\n",
            "1/1 [==============================] - 0s 5ms/step - loss: 6.0147 - mean_absolute_error: 6.0147\n",
            "Epoch 25/100\n",
            "1/1 [==============================] - 0s 3ms/step - loss: 5.9085 - mean_absolute_error: 5.9085\n",
            "Epoch 26/100\n",
            "1/1 [==============================] - 0s 4ms/step - loss: 5.7090 - mean_absolute_error: 5.7090\n",
            "Epoch 27/100\n",
            "1/1 [==============================] - 0s 4ms/step - loss: 5.5382 - mean_absolute_error: 5.5382\n",
            "Epoch 28/100\n",
            "1/1 [==============================] - 0s 5ms/step - loss: 5.4295 - mean_absolute_error: 5.4295\n",
            "Epoch 29/100\n",
            "1/1 [==============================] - 0s 3ms/step - loss: 5.3177 - mean_absolute_error: 5.3177\n",
            "Epoch 30/100\n",
            "1/1 [==============================] - 0s 6ms/step - loss: 5.3173 - mean_absolute_error: 5.3173\n",
            "Epoch 31/100\n",
            "1/1 [==============================] - 0s 3ms/step - loss: 5.2878 - mean_absolute_error: 5.2878\n",
            "Epoch 32/100\n",
            "1/1 [==============================] - 0s 13ms/step - loss: 5.2103 - mean_absolute_error: 5.2103\n",
            "Epoch 33/100\n",
            "1/1 [==============================] - 0s 3ms/step - loss: 5.0890 - mean_absolute_error: 5.0890\n",
            "Epoch 34/100\n",
            "1/1 [==============================] - 0s 4ms/step - loss: 4.9280 - mean_absolute_error: 4.9280\n",
            "Epoch 35/100\n",
            "1/1 [==============================] - 0s 3ms/step - loss: 4.7312 - mean_absolute_error: 4.7312\n",
            "Epoch 36/100\n",
            "1/1 [==============================] - 0s 3ms/step - loss: 4.6041 - mean_absolute_error: 4.6041\n",
            "Epoch 37/100\n",
            "1/1 [==============================] - 0s 6ms/step - loss: 4.5056 - mean_absolute_error: 4.5056\n",
            "Epoch 38/100\n",
            "1/1 [==============================] - 0s 4ms/step - loss: 4.4017 - mean_absolute_error: 4.4017\n",
            "Epoch 39/100\n",
            "1/1 [==============================] - 0s 4ms/step - loss: 4.2958 - mean_absolute_error: 4.2958\n",
            "Epoch 40/100\n",
            "1/1 [==============================] - 0s 6ms/step - loss: 4.1313 - mean_absolute_error: 4.1313\n",
            "Epoch 41/100\n",
            "1/1 [==============================] - 0s 5ms/step - loss: 3.9818 - mean_absolute_error: 3.9818\n",
            "Epoch 42/100\n",
            "1/1 [==============================] - 0s 5ms/step - loss: 3.8253 - mean_absolute_error: 3.8253\n",
            "Epoch 43/100\n",
            "1/1 [==============================] - 0s 3ms/step - loss: 3.6671 - mean_absolute_error: 3.6671\n",
            "Epoch 44/100\n",
            "1/1 [==============================] - 0s 5ms/step - loss: 3.5365 - mean_absolute_error: 3.5365\n",
            "Epoch 45/100\n",
            "1/1 [==============================] - 0s 4ms/step - loss: 3.3534 - mean_absolute_error: 3.3534\n",
            "Epoch 46/100\n",
            "1/1 [==============================] - 0s 5ms/step - loss: 3.1903 - mean_absolute_error: 3.1903\n",
            "Epoch 47/100\n",
            "1/1 [==============================] - 0s 6ms/step - loss: 3.0254 - mean_absolute_error: 3.0254\n",
            "Epoch 48/100\n",
            "1/1 [==============================] - 0s 3ms/step - loss: 2.8499 - mean_absolute_error: 2.8499\n",
            "Epoch 49/100\n",
            "1/1 [==============================] - 0s 4ms/step - loss: 2.6844 - mean_absolute_error: 2.6844\n",
            "Epoch 50/100\n",
            "1/1 [==============================] - 0s 4ms/step - loss: 2.4541 - mean_absolute_error: 2.4541\n",
            "Epoch 51/100\n",
            "1/1 [==============================] - 0s 5ms/step - loss: 2.2346 - mean_absolute_error: 2.2346\n",
            "Epoch 52/100\n",
            "1/1 [==============================] - 0s 5ms/step - loss: 2.0468 - mean_absolute_error: 2.0468\n",
            "Epoch 53/100\n",
            "1/1 [==============================] - 0s 3ms/step - loss: 1.8348 - mean_absolute_error: 1.8348\n",
            "Epoch 54/100\n",
            "1/1 [==============================] - 0s 3ms/step - loss: 1.5549 - mean_absolute_error: 1.5549\n",
            "Epoch 55/100\n",
            "1/1 [==============================] - 0s 6ms/step - loss: 1.3570 - mean_absolute_error: 1.3570\n",
            "Epoch 56/100\n",
            "1/1 [==============================] - 0s 3ms/step - loss: 1.1130 - mean_absolute_error: 1.1130\n",
            "Epoch 57/100\n",
            "1/1 [==============================] - 0s 3ms/step - loss: 0.8263 - mean_absolute_error: 0.8263\n",
            "Epoch 58/100\n",
            "1/1 [==============================] - 0s 4ms/step - loss: 0.6080 - mean_absolute_error: 0.6080\n",
            "Epoch 59/100\n",
            "1/1 [==============================] - 0s 5ms/step - loss: 0.2654 - mean_absolute_error: 0.2654\n",
            "Epoch 60/100\n",
            "1/1 [==============================] - 0s 5ms/step - loss: 0.1994 - mean_absolute_error: 0.1994\n",
            "Epoch 61/100\n",
            "1/1 [==============================] - 0s 4ms/step - loss: 0.3319 - mean_absolute_error: 0.3319\n",
            "Epoch 62/100\n",
            "1/1 [==============================] - 0s 4ms/step - loss: 0.5022 - mean_absolute_error: 0.5022\n",
            "Epoch 63/100\n",
            "1/1 [==============================] - 0s 5ms/step - loss: 0.6316 - mean_absolute_error: 0.6316\n",
            "Epoch 64/100\n",
            "1/1 [==============================] - 0s 6ms/step - loss: 0.7575 - mean_absolute_error: 0.7575\n",
            "Epoch 65/100\n",
            "1/1 [==============================] - 0s 3ms/step - loss: 0.6993 - mean_absolute_error: 0.6993\n",
            "Epoch 66/100\n",
            "1/1 [==============================] - 0s 8ms/step - loss: 0.8384 - mean_absolute_error: 0.8384\n",
            "Epoch 67/100\n",
            "1/1 [==============================] - 0s 5ms/step - loss: 0.8231 - mean_absolute_error: 0.8231\n",
            "Epoch 68/100\n",
            "1/1 [==============================] - 0s 4ms/step - loss: 0.6088 - mean_absolute_error: 0.6088\n",
            "Epoch 69/100\n",
            "1/1 [==============================] - 0s 5ms/step - loss: 0.6624 - mean_absolute_error: 0.6624\n",
            "Epoch 70/100\n",
            "1/1 [==============================] - 0s 6ms/step - loss: 0.6882 - mean_absolute_error: 0.6882\n",
            "Epoch 71/100\n",
            "1/1 [==============================] - 0s 8ms/step - loss: 0.4096 - mean_absolute_error: 0.4096\n",
            "Epoch 72/100\n",
            "1/1 [==============================] - 0s 22ms/step - loss: 0.2376 - mean_absolute_error: 0.2376\n",
            "Epoch 73/100\n",
            "1/1 [==============================] - 0s 11ms/step - loss: 0.4573 - mean_absolute_error: 0.4573\n",
            "Epoch 74/100\n",
            "1/1 [==============================] - 0s 8ms/step - loss: 0.3699 - mean_absolute_error: 0.3699\n",
            "Epoch 75/100\n",
            "1/1 [==============================] - 0s 8ms/step - loss: 0.3439 - mean_absolute_error: 0.3439\n",
            "Epoch 76/100\n",
            "1/1 [==============================] - 0s 16ms/step - loss: 0.5023 - mean_absolute_error: 0.5023\n",
            "Epoch 77/100\n",
            "1/1 [==============================] - 0s 9ms/step - loss: 0.4859 - mean_absolute_error: 0.4859\n",
            "Epoch 78/100\n",
            "1/1 [==============================] - 0s 7ms/step - loss: 0.3219 - mean_absolute_error: 0.3219\n",
            "Epoch 79/100\n",
            "1/1 [==============================] - 0s 7ms/step - loss: 0.3975 - mean_absolute_error: 0.3975\n",
            "Epoch 80/100\n",
            "1/1 [==============================] - 0s 4ms/step - loss: 0.3645 - mean_absolute_error: 0.3645\n",
            "Epoch 81/100\n",
            "1/1 [==============================] - 0s 4ms/step - loss: 0.1428 - mean_absolute_error: 0.1428\n",
            "Epoch 82/100\n",
            "1/1 [==============================] - 0s 6ms/step - loss: 0.0749 - mean_absolute_error: 0.0749\n",
            "Epoch 83/100\n",
            "1/1 [==============================] - 0s 5ms/step - loss: 0.1437 - mean_absolute_error: 0.1437\n",
            "Epoch 84/100\n",
            "1/1 [==============================] - 0s 5ms/step - loss: 0.1804 - mean_absolute_error: 0.1804\n",
            "Epoch 85/100\n",
            "1/1 [==============================] - 0s 5ms/step - loss: 0.3013 - mean_absolute_error: 0.3013\n",
            "Epoch 86/100\n",
            "1/1 [==============================] - 0s 5ms/step - loss: 0.2711 - mean_absolute_error: 0.2711\n",
            "Epoch 87/100\n",
            "1/1 [==============================] - 0s 8ms/step - loss: 0.2547 - mean_absolute_error: 0.2547\n",
            "Epoch 88/100\n",
            "1/1 [==============================] - 0s 3ms/step - loss: 0.2350 - mean_absolute_error: 0.2350\n",
            "Epoch 89/100\n",
            "1/1 [==============================] - 0s 3ms/step - loss: 0.0871 - mean_absolute_error: 0.0871\n",
            "Epoch 90/100\n",
            "1/1 [==============================] - 0s 3ms/step - loss: 0.0687 - mean_absolute_error: 0.0687\n",
            "Epoch 91/100\n",
            "1/1 [==============================] - 0s 6ms/step - loss: 0.2191 - mean_absolute_error: 0.2191\n",
            "Epoch 92/100\n",
            "1/1 [==============================] - 0s 3ms/step - loss: 0.2195 - mean_absolute_error: 0.2195\n",
            "Epoch 93/100\n",
            "1/1 [==============================] - 0s 4ms/step - loss: 0.2530 - mean_absolute_error: 0.2530\n",
            "Epoch 94/100\n",
            "1/1 [==============================] - 0s 13ms/step - loss: 0.2993 - mean_absolute_error: 0.2993\n",
            "Epoch 95/100\n",
            "1/1 [==============================] - 0s 7ms/step - loss: 0.1965 - mean_absolute_error: 0.1965\n",
            "Epoch 96/100\n",
            "1/1 [==============================] - 0s 14ms/step - loss: 0.2204 - mean_absolute_error: 0.2204\n",
            "Epoch 97/100\n",
            "1/1 [==============================] - 0s 6ms/step - loss: 0.1981 - mean_absolute_error: 0.1981\n",
            "Epoch 98/100\n",
            "1/1 [==============================] - 0s 6ms/step - loss: 0.1086 - mean_absolute_error: 0.1086\n",
            "Epoch 99/100\n",
            "1/1 [==============================] - 0s 5ms/step - loss: 0.1370 - mean_absolute_error: 0.1370\n",
            "Epoch 100/100\n",
            "1/1 [==============================] - 0s 4ms/step - loss: 0.1814 - mean_absolute_error: 0.1814\n"
          ],
          "name": "stdout"
        },
        {
          "output_type": "execute_result",
          "data": {
            "text/plain": [
              "<tensorflow.python.keras.callbacks.History at 0x7f3101833550>"
            ]
          },
          "metadata": {
            "tags": []
          },
          "execution_count": 38
        }
      ]
    },
    {
      "cell_type": "code",
      "metadata": {
        "colab": {
          "base_uri": "https://localhost:8080/"
        },
        "id": "wBfVF3HJXi4M",
        "outputId": "d73b74cd-8571-40cd-f271-7c9657d1762a"
      },
      "source": [
        "model.predict([17.0])"
      ],
      "execution_count": 39,
      "outputs": [
        {
          "output_type": "execute_result",
          "data": {
            "text/plain": [
              "array([[27.216782]], dtype=float32)"
            ]
          },
          "metadata": {
            "tags": []
          },
          "execution_count": 39
        }
      ]
    },
    {
      "cell_type": "markdown",
      "metadata": {
        "id": "4IaF71aLXo4U"
      },
      "source": [
        "### Evaluating a Model\n",
        "\n",
        "When it comes to evaluation. the Best Way to analyze the results would be to Visualiza the Results.\n",
        "\n",
        "Its a good idea to visualize:\n",
        "* The data - what data are we working with ? What does it look like ?\n",
        "* The Model itself - what does our model look like ?\n",
        "* The training of a model - how does a model perform while it learns?\n",
        "* The Predictions of the model - how do the predictions of a model line up against the ground truth (the original labels)"
      ]
    },
    {
      "cell_type": "code",
      "metadata": {
        "id": "31T9mbomXzpe"
      },
      "source": [
        "import tensorflow as tf"
      ],
      "execution_count": 1,
      "outputs": []
    },
    {
      "cell_type": "code",
      "metadata": {
        "colab": {
          "base_uri": "https://localhost:8080/"
        },
        "id": "cs5qSyKEYzk4",
        "outputId": "eec9c9ae-cb8a-47d6-8a4d-5bcea265320a"
      },
      "source": [
        "# Lets create a Bigger Dataset\n",
        "X = tf.range(-100,100,4)\n",
        "X"
      ],
      "execution_count": 2,
      "outputs": [
        {
          "output_type": "execute_result",
          "data": {
            "text/plain": [
              "<tf.Tensor: shape=(50,), dtype=int32, numpy=\n",
              "array([-100,  -96,  -92,  -88,  -84,  -80,  -76,  -72,  -68,  -64,  -60,\n",
              "        -56,  -52,  -48,  -44,  -40,  -36,  -32,  -28,  -24,  -20,  -16,\n",
              "        -12,   -8,   -4,    0,    4,    8,   12,   16,   20,   24,   28,\n",
              "         32,   36,   40,   44,   48,   52,   56,   60,   64,   68,   72,\n",
              "         76,   80,   84,   88,   92,   96], dtype=int32)>"
            ]
          },
          "metadata": {
            "tags": []
          },
          "execution_count": 2
        }
      ]
    },
    {
      "cell_type": "code",
      "metadata": {
        "colab": {
          "base_uri": "https://localhost:8080/"
        },
        "id": "BNjbZsztcPO0",
        "outputId": "da80f1f7-c14a-4db7-b000-b06eed54abb4"
      },
      "source": [
        "# Create Labesla for the input Features \n",
        "y= X +10 \n",
        "y"
      ],
      "execution_count": 3,
      "outputs": [
        {
          "output_type": "execute_result",
          "data": {
            "text/plain": [
              "<tf.Tensor: shape=(50,), dtype=int32, numpy=\n",
              "array([-90, -86, -82, -78, -74, -70, -66, -62, -58, -54, -50, -46, -42,\n",
              "       -38, -34, -30, -26, -22, -18, -14, -10,  -6,  -2,   2,   6,  10,\n",
              "        14,  18,  22,  26,  30,  34,  38,  42,  46,  50,  54,  58,  62,\n",
              "        66,  70,  74,  78,  82,  86,  90,  94,  98, 102, 106], dtype=int32)>"
            ]
          },
          "metadata": {
            "tags": []
          },
          "execution_count": 3
        }
      ]
    },
    {
      "cell_type": "code",
      "metadata": {
        "colab": {
          "base_uri": "https://localhost:8080/",
          "height": 282
        },
        "id": "Nfc-o2hccZ0n",
        "outputId": "e6d6f207-bc45-4b6c-a0dc-85d776e0eec8"
      },
      "source": [
        "import matplotlib.pyplot as plt\n",
        "# Visualize the Data\n",
        "\n",
        "plt.scatter(X,y)"
      ],
      "execution_count": 10,
      "outputs": [
        {
          "output_type": "execute_result",
          "data": {
            "text/plain": [
              "<matplotlib.collections.PathCollection at 0x7f444ea4af50>"
            ]
          },
          "metadata": {
            "tags": []
          },
          "execution_count": 10
        },
        {
          "output_type": "display_data",
          "data": {
            "image/png": "[encoded data removed]",
            "text/plain": [
              "<Figure size 432x288 with 1 Axes>"
            ]
          },
          "metadata": {
            "tags": [],
            "needs_background": "light"
          }
        }
      ]
    },
    {
      "cell_type": "markdown",
      "metadata": {
        "id": "DM8YtnJAcf9v"
      },
      "source": [
        "### Lets Divide the Set into the Popular 3 Sets Logic \n",
        "\n",
        "* **Training Set** : the model learns from this data, which is typically 70-80% of the total data you have available.\n",
        "* **Validation Set** : the model gets the tuned on this data, which is typically 10-15% of the data available.\n",
        "* **Test Set** : the model gets evaluated on this data to test what it has learned,  this is typically 10-15% of the total data available.\n",
        "\n"
      ]
    },
    {
      "cell_type": "code",
      "metadata": {
        "colab": {
          "base_uri": "https://localhost:8080/"
        },
        "id": "tjKtjgCGdxKW",
        "outputId": "3792a2b8-de6a-487d-93bb-fee08c5cd1c0"
      },
      "source": [
        "# check the length the of the input samples we have \n",
        "len(X)"
      ],
      "execution_count": 11,
      "outputs": [
        {
          "output_type": "execute_result",
          "data": {
            "text/plain": [
              "50"
            ]
          },
          "metadata": {
            "tags": []
          },
          "execution_count": 11
        }
      ]
    },
    {
      "cell_type": "code",
      "metadata": {
        "colab": {
          "base_uri": "https://localhost:8080/"
        },
        "id": "BBbgE6vBd7PP",
        "outputId": "61502874-08e1-43d4-ae40-a827570c4ef7"
      },
      "source": [
        "# Split the data into train and test data.\n",
        "X_train = X[:40] # first 40 are training sample (80% data)\n",
        "X_test =  X[40:] # Last 10 are test sample (20% data)\n",
        "\n",
        "y_train = y[:40] # first 40 are training sample (80% data)\n",
        "y_test =  y[40:] # Last 10 are test sample (20% data)\n",
        "\n",
        "len(X_train),len(y_train),len(X_test),len(X_test)"
      ],
      "execution_count": 12,
      "outputs": [
        {
          "output_type": "execute_result",
          "data": {
            "text/plain": [
              "(40, 40, 10, 10)"
            ]
          },
          "metadata": {
            "tags": []
          },
          "execution_count": 12
        }
      ]
    },
    {
      "cell_type": "markdown",
      "metadata": {
        "id": "ObMZRfj0ebki"
      },
      "source": [
        "### Visualizaing the data"
      ]
    },
    {
      "cell_type": "code",
      "metadata": {
        "colab": {
          "base_uri": "https://localhost:8080/",
          "height": 445
        },
        "id": "b5m1i_eNej7H",
        "outputId": "023df638-07d9-4f16-9335-9df2b9db483c"
      },
      "source": [
        "plt.figure(figsize=(10,7))\n",
        "# Plot training data in blue\n",
        "plt.scatter(X_train,y_train , c='b', label = 'training data')\n",
        "# Plot testing data in blue\n",
        "plt.scatter(X_test,y_test , c='r', label = 'testing data')\n",
        "plt.legend()"
      ],
      "execution_count": 13,
      "outputs": [
        {
          "output_type": "execute_result",
          "data": {
            "text/plain": [
              "<matplotlib.legend.Legend at 0x7f444eb63790>"
            ]
          },
          "metadata": {
            "tags": []
          },
          "execution_count": 13
        },
        {
          "output_type": "display_data",
          "data": {
            "image/png": "[encoded data removed]",
            "text/plain": [
              "<Figure size 720x504 with 1 Axes>"
            ]
          },
          "metadata": {
            "tags": [],
            "needs_background": "light"
          }
        }
      ]
    },
    {
      "cell_type": "code",
      "metadata": {
        "colab": {
          "base_uri": "https://localhost:8080/"
        },
        "id": "Nj0N1n2Xe4Dk",
        "outputId": "da5003d4-5b2a-4822-8f27-16ae27f0de95"
      },
      "source": [
        "# set random seed \n",
        "tf.random.set_seed(42)\n",
        "\n",
        "# 1. Create a model using the Sequential API : This Groups a Linear Stack of Layers into Model.\n",
        "# Method : 1\n",
        "#-----------\n",
        "model = tf.keras.Sequential([\n",
        "  tf.keras.layers.Dense(10, input_shape=[1], name='Hidden-layer-1'),  # Dense : Fully Connected Layer\n",
        "  tf.keras.layers.Dense(1 ,name='Output-layer')\n",
        "], name = 'Model-1')\n",
        "\n",
        "\n",
        "# Method : 2\n",
        "#-----------\n",
        "#model = tf.keras.Sequential()\n",
        "#model.add(tf.keras.layers.Dense(1))\n",
        "\n",
        "#2. Compile the model\n",
        "model.compile(loss=tf.keras.losses.mae ,# mae -> Mean Absolute Error between Labels and Predictions  : mean(abs(y_true - y_pred))\n",
        "              optimizer = tf.keras.optimizers.SGD(),\n",
        "              metrics =[ tf.keras.losses.mae])\n",
        "model.summary()"
      ],
      "execution_count": 14,
      "outputs": [
        {
          "output_type": "stream",
          "text": [
            "Model: \"Model-1\"\n",
            "_________________________________________________________________\n",
            "Layer (type)                 Output Shape              Param #   \n",
            "=================================================================\n",
            "Hidden-layer-1 (Dense)       (None, 10)                20        \n",
            "_________________________________________________________________\n",
            "Output-layer (Dense)         (None, 1)                 11        \n",
            "=================================================================\n",
            "Total params: 31\n",
            "Trainable params: 31\n",
            "Non-trainable params: 0\n",
            "_________________________________________________________________\n"
          ],
          "name": "stdout"
        }
      ]
    },
    {
      "cell_type": "markdown",
      "metadata": {
        "id": "tE3s61eBnqpH"
      },
      "source": [
        "* Total Params : Total number of parameters in the model.\n",
        "* Trainable Parameters : these are the parameters (patterns) the model can update as it trains.\n",
        "* Non-Trainable Params : These Parameters aren't updated during training (this is typical when you bring in already learn patterns from other models during **transfer learning**)."
      ]
    },
    {
      "cell_type": "code",
      "metadata": {
        "colab": {
          "base_uri": "https://localhost:8080/"
        },
        "id": "wG1dpVnanOkD",
        "outputId": "ab8020aa-19f3-46d6-c529-0f09542d3041"
      },
      "source": [
        "#3. Fit the Model\n",
        "model.fit(X_train,y_train,epochs=100,verbose=0) # Epochs tells the model how many time the model has to go through the examples to understand the patterns "
      ],
      "execution_count": 15,
      "outputs": [
        {
          "output_type": "execute_result",
          "data": {
            "text/plain": [
              "<tensorflow.python.keras.callbacks.History at 0x7f444dbe7d10>"
            ]
          },
          "metadata": {
            "tags": []
          },
          "execution_count": 15
        }
      ]
    },
    {
      "cell_type": "code",
      "metadata": {
        "colab": {
          "base_uri": "https://localhost:8080/",
          "height": 312
        },
        "id": "5V3lwaM30F1P",
        "outputId": "f2181bf0-53a3-4856-82d5-aec470ead5b7"
      },
      "source": [
        "from tensorflow.keras.utils import plot_model\n",
        "plot_model(model=model , show_shapes =True)"
      ],
      "execution_count": 16,
      "outputs": [
        {
          "output_type": "execute_result",
          "data": {
            "image/png": "[encoded data removed]",
            "text/plain": [
              "<IPython.core.display.Image object>"
            ]
          },
          "metadata": {
            "tags": []
          },
          "execution_count": 16
        }
      ]
    },
    {
      "cell_type": "markdown",
      "metadata": {
        "id": "U2GYOqSz0oIF"
      },
      "source": [
        "### Visualizing our Model's Predictions \n",
        "\n",
        "To Visualize Predictions, its a good odea to plot them against the ground truth labels.\n",
        "\n",
        "Often we will see this is in form of `y_test` or `y_true` versus `y_pred` "
      ]
    },
    {
      "cell_type": "code",
      "metadata": {
        "colab": {
          "base_uri": "https://localhost:8080/"
        },
        "id": "rBXZ_mVm4b_e",
        "outputId": "e8a1ad2c-a0c3-4c19-f1f2-759da0f1ff67"
      },
      "source": [
        "# Make some preidctions\n",
        "y_pred = model.predict(X_test)\n",
        "y_pred"
      ],
      "execution_count": 17,
      "outputs": [
        {
          "output_type": "execute_result",
          "data": {
            "text/plain": [
              "array([[ 70.55218 ],\n",
              "       [ 75.13991 ],\n",
              "       [ 79.72763 ],\n",
              "       [ 84.31535 ],\n",
              "       [ 88.903076],\n",
              "       [ 93.49081 ],\n",
              "       [ 98.07853 ],\n",
              "       [102.66625 ],\n",
              "       [107.253975],\n",
              "       [111.8417  ]], dtype=float32)"
            ]
          },
          "metadata": {
            "tags": []
          },
          "execution_count": 17
        }
      ]
    },
    {
      "cell_type": "code",
      "metadata": {
        "id": "MBqa8ZIx5xQM"
      },
      "source": [
        "# lets create a plotting Function\n",
        "def plot_predictions(train_data=X_train,\n",
        "                     train_labels=y_train,\n",
        "                     test_data=X_test,\n",
        "                     test_labels=y_test,\n",
        "                     predictions=y_pred):\n",
        "  \n",
        "  \"\"\"\n",
        "  Plots training data, test data and compares predictions to ground truth labels\n",
        "  \"\"\"\n",
        "  plt.figure(figsize=(10,7))\n",
        "  # Plot training data in blue\n",
        "  plt.scatter(train_data,train_labels , c='b', label = 'training data')\n",
        "  # Plot testing data in green\n",
        "  plt.scatter(test_data,test_labels , c='g', label = 'testing data')\n",
        "  # Plot testing data in red\n",
        "  plt.scatter(test_data,predictions , c='r', label = 'predictions data')\n",
        "  plt.legend()\n"
      ],
      "execution_count": 18,
      "outputs": []
    },
    {
      "cell_type": "code",
      "metadata": {
        "colab": {
          "base_uri": "https://localhost:8080/",
          "height": 428
        },
        "id": "eEZfOPjZ9nfa",
        "outputId": "f4f3eecb-20c2-4513-c3b8-5467b243552b"
      },
      "source": [
        "plot_predictions(train_data=X_train,\n",
        "                     train_labels=y_train,\n",
        "                     test_data=X_test,\n",
        "                     test_labels=y_test,\n",
        "                     predictions=y_pred)"
      ],
      "execution_count": 19,
      "outputs": [
        {
          "output_type": "display_data",
          "data": {
            "image/png": "[encoded data removed]",
            "text/plain": [
              "<Figure size 720x504 with 1 Axes>"
            ]
          },
          "metadata": {
            "tags": [],
            "needs_background": "light"
          }
        }
      ]
    },
    {
      "cell_type": "markdown",
      "metadata": {
        "id": "iCxPXVcB9q-_"
      },
      "source": [
        "###  Evaluating  our Model's Predictions with Regression Evaluation Metrics\n",
        "\n",
        "Depending on the Problem you are working on, there will be different evaluation metrics to evaluate your model's performance.\n",
        "\n",
        "Since we are working on a regression, two main metrics are :\n",
        "* **MAE** : Mean Absolute Error : \"On Average, how wrong is each of my models predictions\" \n",
        "\n",
        "* **MSE** : Mean Square Error : \"Square of the Average Errors\"\n",
        "\n",
        "* **Huber** : Combination of MSE and MAE. Less Sensitive to outliers than MSE."
      ]
    },
    {
      "cell_type": "code",
      "metadata": {
        "colab": {
          "base_uri": "https://localhost:8080/"
        },
        "id": "K9SFEp9XDTfF",
        "outputId": "189a6046-d09a-48bc-b1a9-99abfedb339a"
      },
      "source": [
        "# Evaluate the Model on the test set\n",
        "model.evaluate(X_test,y_test)"
      ],
      "execution_count": 20,
      "outputs": [
        {
          "output_type": "stream",
          "text": [
            "1/1 [==============================] - 0s 116ms/step - loss: 3.1969 - mean_absolute_error: 3.1969\n"
          ],
          "name": "stdout"
        },
        {
          "output_type": "execute_result",
          "data": {
            "text/plain": [
              "[3.196942090988159, 3.196942090988159]"
            ]
          },
          "metadata": {
            "tags": []
          },
          "execution_count": 20
        }
      ]
    },
    {
      "cell_type": "code",
      "metadata": {
        "colab": {
          "base_uri": "https://localhost:8080/"
        },
        "id": "ul1hVaY5D5Wq",
        "outputId": "9dd35e4a-b9b0-4bdf-ed01-2996e94e585f"
      },
      "source": [
        "# Calculate the Mean absolute Error\n",
        "tf.metrics.mean_absolute_error(y_test,tf.squeeze(y_pred))"
      ],
      "execution_count": 21,
      "outputs": [
        {
          "output_type": "execute_result",
          "data": {
            "text/plain": [
              "<tf.Tensor: shape=(), dtype=float32, numpy=3.1969407>"
            ]
          },
          "metadata": {
            "tags": []
          },
          "execution_count": 21
        }
      ]
    },
    {
      "cell_type": "code",
      "metadata": {
        "colab": {
          "base_uri": "https://localhost:8080/"
        },
        "id": "PGwEP8bbENSn",
        "outputId": "33e13cb3-97cd-43de-b9a5-eb90ce8c88b5"
      },
      "source": [
        "# Calculate the Mean Squared Error\n",
        "tf.metrics.mean_squared_error(y_test,tf.squeeze(y_pred))"
      ],
      "execution_count": 22,
      "outputs": [
        {
          "output_type": "execute_result",
          "data": {
            "text/plain": [
              "<tf.Tensor: shape=(), dtype=float32, numpy=13.070143>"
            ]
          },
          "metadata": {
            "tags": []
          },
          "execution_count": 22
        }
      ]
    },
    {
      "cell_type": "code",
      "metadata": {
        "colab": {
          "base_uri": "https://localhost:8080/"
        },
        "id": "95ELKP6-FEcU",
        "outputId": "ed51cd8b-0ca7-404b-97b0-1eac6635a44f"
      },
      "source": [
        "# Calculate the Huber Loss\n",
        "hubber_loss=tf.keras.losses.Huber()\n",
        "hubber_loss(y_test,tf.squeeze(y_pred)).numpy()"
      ],
      "execution_count": 23,
      "outputs": [
        {
          "output_type": "execute_result",
          "data": {
            "text/plain": [
              "2.7069678"
            ]
          },
          "metadata": {
            "tags": []
          },
          "execution_count": 23
        }
      ]
    },
    {
      "cell_type": "code",
      "metadata": {
        "colab": {
          "base_uri": "https://localhost:8080/"
        },
        "id": "1cLHsP_gFXc-",
        "outputId": "65a66425-6f2a-4f97-f1db-f3bc80ed2329"
      },
      "source": [
        " # set random seed \n",
        "tf.random.set_seed(42)\n",
        "\n",
        "# 1. Create a model using the Sequential API : This Groups a Linear Stack of Layers into Model.\n",
        "# Method : 1\n",
        "#-----------\n",
        "model_1 = tf.keras.Sequential([\n",
        "    tf.keras.layers.Dense(1 ,input_shape=[1,],name='Output-layer')\n",
        "], name = 'Model-1')\n",
        "\n",
        "#2. Compile the model\n",
        "model_1.compile(loss=tf.keras.losses.mae ,# mae -> Mean Absolute Error between Labels and Predictions  : mean(abs(y_true - y_pred))\n",
        "              optimizer = tf.keras.optimizers.SGD(),\n",
        "              metrics =[ tf.keras.losses.mae])\n",
        "model_1.summary()"
      ],
      "execution_count": 28,
      "outputs": [
        {
          "output_type": "stream",
          "text": [
            "Model: \"Model-1\"\n",
            "_________________________________________________________________\n",
            "Layer (type)                 Output Shape              Param #   \n",
            "=================================================================\n",
            "Output-layer (Dense)         (None, 1)                 2         \n",
            "=================================================================\n",
            "Total params: 2\n",
            "Trainable params: 2\n",
            "Non-trainable params: 0\n",
            "_________________________________________________________________\n"
          ],
          "name": "stdout"
        }
      ]
    },
    {
      "cell_type": "code",
      "metadata": {
        "colab": {
          "base_uri": "https://localhost:8080/"
        },
        "id": "eSP9lKw-YFzR",
        "outputId": "af6aa48a-bc0f-45c4-e019-ce25207e9495"
      },
      "source": [
        "# fit the Model \n",
        "model_1.fit(X_train,y_train, epochs=100)"
      ],
      "execution_count": 29,
      "outputs": [
        {
          "output_type": "stream",
          "text": [
            "Epoch 1/100\n",
            "2/2 [==============================] - 0s 7ms/step - loss: 15.9024 - mean_absolute_error: 15.9024\n",
            "Epoch 2/100\n",
            "2/2 [==============================] - 0s 6ms/step - loss: 11.2837 - mean_absolute_error: 11.2837\n",
            "Epoch 3/100\n",
            "2/2 [==============================] - 0s 5ms/step - loss: 11.1074 - mean_absolute_error: 11.1074\n",
            "Epoch 4/100\n",
            "2/2 [==============================] - 0s 6ms/step - loss: 9.2991 - mean_absolute_error: 9.2991\n",
            "Epoch 5/100\n",
            "2/2 [==============================] - 0s 6ms/step - loss: 10.1677 - mean_absolute_error: 10.1677\n",
            "Epoch 6/100\n",
            "2/2 [==============================] - 0s 7ms/step - loss: 9.4303 - mean_absolute_error: 9.4303\n",
            "Epoch 7/100\n",
            "2/2 [==============================] - 0s 4ms/step - loss: 8.5704 - mean_absolute_error: 8.5704\n",
            "Epoch 8/100\n",
            "2/2 [==============================] - 0s 6ms/step - loss: 9.0442 - mean_absolute_error: 9.0442\n",
            "Epoch 9/100\n",
            "2/2 [==============================] - 0s 5ms/step - loss: 18.7517 - mean_absolute_error: 18.7517\n",
            "Epoch 10/100\n",
            "2/2 [==============================] - 0s 6ms/step - loss: 10.1142 - mean_absolute_error: 10.1142\n",
            "Epoch 11/100\n",
            "2/2 [==============================] - 0s 8ms/step - loss: 8.3980 - mean_absolute_error: 8.3980\n",
            "Epoch 12/100\n",
            "2/2 [==============================] - 0s 5ms/step - loss: 10.6639 - mean_absolute_error: 10.6639\n",
            "Epoch 13/100\n",
            "2/2 [==============================] - 0s 5ms/step - loss: 9.7977 - mean_absolute_error: 9.7977\n",
            "Epoch 14/100\n",
            "2/2 [==============================] - 0s 4ms/step - loss: 16.0103 - mean_absolute_error: 16.0103\n",
            "Epoch 15/100\n",
            "2/2 [==============================] - 0s 4ms/step - loss: 11.4068 - mean_absolute_error: 11.4068\n",
            "Epoch 16/100\n",
            "2/2 [==============================] - 0s 6ms/step - loss: 8.5393 - mean_absolute_error: 8.5393\n",
            "Epoch 17/100\n",
            "2/2 [==============================] - 0s 5ms/step - loss: 13.6348 - mean_absolute_error: 13.6348\n",
            "Epoch 18/100\n",
            "2/2 [==============================] - 0s 4ms/step - loss: 11.4629 - mean_absolute_error: 11.4629\n",
            "Epoch 19/100\n",
            "2/2 [==============================] - 0s 4ms/step - loss: 17.9148 - mean_absolute_error: 17.9148\n",
            "Epoch 20/100\n",
            "2/2 [==============================] - 0s 4ms/step - loss: 15.0494 - mean_absolute_error: 15.0494\n",
            "Epoch 21/100\n",
            "2/2 [==============================] - 0s 6ms/step - loss: 11.0216 - mean_absolute_error: 11.0216\n",
            "Epoch 22/100\n",
            "2/2 [==============================] - 0s 7ms/step - loss: 8.1558 - mean_absolute_error: 8.1558\n",
            "Epoch 23/100\n",
            "2/2 [==============================] - 0s 6ms/step - loss: 9.5138 - mean_absolute_error: 9.5138\n",
            "Epoch 24/100\n",
            "2/2 [==============================] - 0s 5ms/step - loss: 7.6617 - mean_absolute_error: 7.6617\n",
            "Epoch 25/100\n",
            "2/2 [==============================] - 0s 9ms/step - loss: 13.1859 - mean_absolute_error: 13.1859\n",
            "Epoch 26/100\n",
            "2/2 [==============================] - 0s 10ms/step - loss: 16.4211 - mean_absolute_error: 16.4211\n",
            "Epoch 27/100\n",
            "2/2 [==============================] - 0s 5ms/step - loss: 13.1660 - mean_absolute_error: 13.1660\n",
            "Epoch 28/100\n",
            "2/2 [==============================] - 0s 5ms/step - loss: 14.2559 - mean_absolute_error: 14.2559\n",
            "Epoch 29/100\n",
            "2/2 [==============================] - 0s 12ms/step - loss: 10.0670 - mean_absolute_error: 10.0670\n",
            "Epoch 30/100\n",
            "2/2 [==============================] - 0s 10ms/step - loss: 16.3409 - mean_absolute_error: 16.3409\n",
            "Epoch 31/100\n",
            "2/2 [==============================] - 0s 6ms/step - loss: 23.6444 - mean_absolute_error: 23.6444\n",
            "Epoch 32/100\n",
            "2/2 [==============================] - 0s 3ms/step - loss: 7.6215 - mean_absolute_error: 7.6215\n",
            "Epoch 33/100\n",
            "2/2 [==============================] - 0s 5ms/step - loss: 9.3221 - mean_absolute_error: 9.3221\n",
            "Epoch 34/100\n",
            "2/2 [==============================] - 0s 5ms/step - loss: 13.7313 - mean_absolute_error: 13.7313\n",
            "Epoch 35/100\n",
            "2/2 [==============================] - 0s 5ms/step - loss: 11.1276 - mean_absolute_error: 11.1276\n",
            "Epoch 36/100\n",
            "2/2 [==============================] - 0s 11ms/step - loss: 13.3222 - mean_absolute_error: 13.3222\n",
            "Epoch 37/100\n",
            "2/2 [==============================] - 0s 4ms/step - loss: 9.4763 - mean_absolute_error: 9.4763\n",
            "Epoch 38/100\n",
            "2/2 [==============================] - 0s 3ms/step - loss: 10.1381 - mean_absolute_error: 10.1381\n",
            "Epoch 39/100\n",
            "2/2 [==============================] - 0s 6ms/step - loss: 10.1793 - mean_absolute_error: 10.1793\n",
            "Epoch 40/100\n",
            "2/2 [==============================] - 0s 4ms/step - loss: 10.9137 - mean_absolute_error: 10.9137\n",
            "Epoch 41/100\n",
            "2/2 [==============================] - 0s 4ms/step - loss: 7.9063 - mean_absolute_error: 7.9063\n",
            "Epoch 42/100\n",
            "2/2 [==============================] - 0s 8ms/step - loss: 10.0914 - mean_absolute_error: 10.0914\n",
            "Epoch 43/100\n",
            "2/2 [==============================] - 0s 8ms/step - loss: 8.7006 - mean_absolute_error: 8.7006\n",
            "Epoch 44/100\n",
            "2/2 [==============================] - 0s 3ms/step - loss: 12.2047 - mean_absolute_error: 12.2047\n",
            "Epoch 45/100\n",
            "2/2 [==============================] - 0s 6ms/step - loss: 13.7970 - mean_absolute_error: 13.7970\n",
            "Epoch 46/100\n",
            "2/2 [==============================] - 0s 5ms/step - loss: 8.4687 - mean_absolute_error: 8.4687\n",
            "Epoch 47/100\n",
            "2/2 [==============================] - 0s 4ms/step - loss: 9.1330 - mean_absolute_error: 9.1330\n",
            "Epoch 48/100\n",
            "2/2 [==============================] - 0s 5ms/step - loss: 10.6190 - mean_absolute_error: 10.6190\n",
            "Epoch 49/100\n",
            "2/2 [==============================] - 0s 4ms/step - loss: 7.7503 - mean_absolute_error: 7.7503\n",
            "Epoch 50/100\n",
            "2/2 [==============================] - 0s 6ms/step - loss: 9.5407 - mean_absolute_error: 9.5407\n",
            "Epoch 51/100\n",
            "2/2 [==============================] - 0s 6ms/step - loss: 9.1584 - mean_absolute_error: 9.1584\n",
            "Epoch 52/100\n",
            "2/2 [==============================] - 0s 4ms/step - loss: 16.3630 - mean_absolute_error: 16.3630\n",
            "Epoch 53/100\n",
            "2/2 [==============================] - 0s 4ms/step - loss: 14.1299 - mean_absolute_error: 14.1299\n",
            "Epoch 54/100\n",
            "2/2 [==============================] - 0s 5ms/step - loss: 21.1247 - mean_absolute_error: 21.1247\n",
            "Epoch 55/100\n",
            "2/2 [==============================] - 0s 4ms/step - loss: 16.3961 - mean_absolute_error: 16.3961\n",
            "Epoch 56/100\n",
            "2/2 [==============================] - 0s 7ms/step - loss: 9.9806 - mean_absolute_error: 9.9806\n",
            "Epoch 57/100\n",
            "2/2 [==============================] - 0s 6ms/step - loss: 9.9606 - mean_absolute_error: 9.9606\n",
            "Epoch 58/100\n",
            "2/2 [==============================] - 0s 5ms/step - loss: 9.2209 - mean_absolute_error: 9.2209\n",
            "Epoch 59/100\n",
            "2/2 [==============================] - 0s 6ms/step - loss: 8.4239 - mean_absolute_error: 8.4239\n",
            "Epoch 60/100\n",
            "2/2 [==============================] - 0s 4ms/step - loss: 9.4869 - mean_absolute_error: 9.4869\n",
            "Epoch 61/100\n",
            "2/2 [==============================] - 0s 4ms/step - loss: 11.4355 - mean_absolute_error: 11.4355\n",
            "Epoch 62/100\n",
            "2/2 [==============================] - 0s 9ms/step - loss: 11.6887 - mean_absolute_error: 11.6887\n",
            "Epoch 63/100\n",
            "2/2 [==============================] - 0s 4ms/step - loss: 7.0838 - mean_absolute_error: 7.0838\n",
            "Epoch 64/100\n",
            "2/2 [==============================] - 0s 6ms/step - loss: 16.9675 - mean_absolute_error: 16.9675\n",
            "Epoch 65/100\n",
            "2/2 [==============================] - 0s 4ms/step - loss: 12.4599 - mean_absolute_error: 12.4599\n",
            "Epoch 66/100\n",
            "2/2 [==============================] - 0s 6ms/step - loss: 13.0184 - mean_absolute_error: 13.0184\n",
            "Epoch 67/100\n",
            "2/2 [==============================] - 0s 5ms/step - loss: 8.0600 - mean_absolute_error: 8.0600\n",
            "Epoch 68/100\n",
            "2/2 [==============================] - 0s 4ms/step - loss: 10.1888 - mean_absolute_error: 10.1888\n",
            "Epoch 69/100\n",
            "2/2 [==============================] - 0s 6ms/step - loss: 12.3633 - mean_absolute_error: 12.3633\n",
            "Epoch 70/100\n",
            "2/2 [==============================] - 0s 7ms/step - loss: 9.0516 - mean_absolute_error: 9.0516\n",
            "Epoch 71/100\n",
            "2/2 [==============================] - 0s 8ms/step - loss: 10.0378 - mean_absolute_error: 10.0378\n",
            "Epoch 72/100\n",
            "2/2 [==============================] - 0s 6ms/step - loss: 10.0516 - mean_absolute_error: 10.0516\n",
            "Epoch 73/100\n",
            "2/2 [==============================] - 0s 7ms/step - loss: 12.6151 - mean_absolute_error: 12.6151\n",
            "Epoch 74/100\n",
            "2/2 [==============================] - 0s 8ms/step - loss: 10.3819 - mean_absolute_error: 10.3819\n",
            "Epoch 75/100\n",
            "2/2 [==============================] - 0s 6ms/step - loss: 9.7229 - mean_absolute_error: 9.7229\n",
            "Epoch 76/100\n",
            "2/2 [==============================] - 0s 7ms/step - loss: 11.2252 - mean_absolute_error: 11.2252\n",
            "Epoch 77/100\n",
            "2/2 [==============================] - 0s 18ms/step - loss: 8.3642 - mean_absolute_error: 8.3642\n",
            "Epoch 78/100\n",
            "2/2 [==============================] - 0s 9ms/step - loss: 9.1274 - mean_absolute_error: 9.1274\n",
            "Epoch 79/100\n",
            "2/2 [==============================] - 0s 12ms/step - loss: 19.5039 - mean_absolute_error: 19.5039\n",
            "Epoch 80/100\n",
            "2/2 [==============================] - 0s 8ms/step - loss: 14.8945 - mean_absolute_error: 14.8945\n",
            "Epoch 81/100\n",
            "2/2 [==============================] - 0s 16ms/step - loss: 9.0034 - mean_absolute_error: 9.0034\n",
            "Epoch 82/100\n",
            "2/2 [==============================] - 0s 10ms/step - loss: 13.0206 - mean_absolute_error: 13.0206\n",
            "Epoch 83/100\n",
            "2/2 [==============================] - 0s 4ms/step - loss: 7.9299 - mean_absolute_error: 7.9299\n",
            "Epoch 84/100\n",
            "2/2 [==============================] - 0s 4ms/step - loss: 7.6872 - mean_absolute_error: 7.6872\n",
            "Epoch 85/100\n",
            "2/2 [==============================] - 0s 7ms/step - loss: 10.0328 - mean_absolute_error: 10.0328\n",
            "Epoch 86/100\n",
            "2/2 [==============================] - 0s 6ms/step - loss: 9.2433 - mean_absolute_error: 9.2433\n",
            "Epoch 87/100\n",
            "2/2 [==============================] - 0s 13ms/step - loss: 12.0209 - mean_absolute_error: 12.0209\n",
            "Epoch 88/100\n",
            "2/2 [==============================] - 0s 5ms/step - loss: 10.6389 - mean_absolute_error: 10.6389\n",
            "Epoch 89/100\n",
            "2/2 [==============================] - 0s 5ms/step - loss: 7.2667 - mean_absolute_error: 7.2667\n",
            "Epoch 90/100\n",
            "2/2 [==============================] - 0s 5ms/step - loss: 12.7786 - mean_absolute_error: 12.7786\n",
            "Epoch 91/100\n",
            "2/2 [==============================] - 0s 4ms/step - loss: 7.3481 - mean_absolute_error: 7.3481\n",
            "Epoch 92/100\n",
            "2/2 [==============================] - 0s 5ms/step - loss: 7.7175 - mean_absolute_error: 7.7175\n",
            "Epoch 93/100\n",
            "2/2 [==============================] - 0s 9ms/step - loss: 7.1263 - mean_absolute_error: 7.1263\n",
            "Epoch 94/100\n",
            "2/2 [==============================] - 0s 4ms/step - loss: 12.6190 - mean_absolute_error: 12.6190\n",
            "Epoch 95/100\n",
            "2/2 [==============================] - 0s 4ms/step - loss: 10.0912 - mean_absolute_error: 10.0912\n",
            "Epoch 96/100\n",
            "2/2 [==============================] - 0s 7ms/step - loss: 9.3558 - mean_absolute_error: 9.3558\n",
            "Epoch 97/100\n",
            "2/2 [==============================] - 0s 9ms/step - loss: 12.6834 - mean_absolute_error: 12.6834\n",
            "Epoch 98/100\n",
            "2/2 [==============================] - 0s 7ms/step - loss: 8.6762 - mean_absolute_error: 8.6762\n",
            "Epoch 99/100\n",
            "2/2 [==============================] - 0s 4ms/step - loss: 9.4693 - mean_absolute_error: 9.4693\n",
            "Epoch 100/100\n",
            "2/2 [==============================] - 0s 4ms/step - loss: 8.7067 - mean_absolute_error: 8.7067\n"
          ],
          "name": "stdout"
        },
        {
          "output_type": "execute_result",
          "data": {
            "text/plain": [
              "<tensorflow.python.keras.callbacks.History at 0x7f444869c9d0>"
            ]
          },
          "metadata": {
            "tags": []
          },
          "execution_count": 29
        }
      ]
    },
    {
      "cell_type": "code",
      "metadata": {
        "colab": {
          "base_uri": "https://localhost:8080/",
          "height": 428
        },
        "id": "xJv61PYLZrl0",
        "outputId": "874b50b0-ac30-4a0c-e1c7-5b30a7ecfec0"
      },
      "source": [
        "# Make and Plot Predictions using Model-1\n",
        "y_pred_1 = model_1.predict(X_test)\n",
        "plot_predictions(predictions=y_pred_1)"
      ],
      "execution_count": 30,
      "outputs": [
        {
          "output_type": "display_data",
          "data": {
            "image/png": "[encoded data removed]",
            "text/plain": [
              "<Figure size 720x504 with 1 Axes>"
            ]
          },
          "metadata": {
            "tags": [],
            "needs_background": "light"
          }
        }
      ]
    },
    {
      "cell_type": "code",
      "metadata": {
        "colab": {
          "base_uri": "https://localhost:8080/"
        },
        "id": "oYSzX8kbaTp-",
        "outputId": "21e6adc7-4554-476f-cdf4-235deccf0105"
      },
      "source": [
        "# Calculate the Mean absolute Error\n",
        "mae_1=tf.metrics.mean_absolute_error(y_test,tf.squeeze(y_pred_1))\n",
        "# Calculate the Mean Squared Error\n",
        "mse_1=tf.metrics.mean_squared_error(y_test,tf.squeeze(y_pred_1))\n",
        "mae_1,mse_1"
      ],
      "execution_count": 31,
      "outputs": [
        {
          "output_type": "execute_result",
          "data": {
            "text/plain": [
              "(<tf.Tensor: shape=(), dtype=float32, numpy=18.745327>,\n",
              " <tf.Tensor: shape=(), dtype=float32, numpy=353.57336>)"
            ]
          },
          "metadata": {
            "tags": []
          },
          "execution_count": 31
        }
      ]
    },
    {
      "cell_type": "markdown",
      "metadata": {
        "id": "8UcmUHGvaryG"
      },
      "source": [
        "**Build `Model-2`**\n",
        "\n",
        "* 2 Dense/Fully Connected layers , trained on 100 Epochs"
      ]
    },
    {
      "cell_type": "code",
      "metadata": {
        "colab": {
          "base_uri": "https://localhost:8080/"
        },
        "id": "R1LV4xTEbRsG",
        "outputId": "6c487d4b-aa11-416a-c9ff-2232616f680a"
      },
      "source": [
        " # set random seed \n",
        "tf.random.set_seed(42)\n",
        "\n",
        "# 1. Create a model using the Sequential API : This Groups a Linear Stack of Layers into Model.\n",
        "# Method : 1\n",
        "#-----------\n",
        "model_2 = tf.keras.Sequential([\n",
        "    tf.keras.layers.Dense(10 ,input_shape=[1,],name='Hidden-layer-1'),\n",
        "    tf.keras.layers.Dense(1 ,input_shape=[1,],name='Output-layer')\n",
        "], name = 'Model-2')\n",
        "\n",
        "#2. Compile the model\n",
        "model_2.compile(loss=tf.keras.losses.mae ,# mae -> Mean Absolute Error between Labels and Predictions  : mean(abs(y_true - y_pred))\n",
        "              optimizer = tf.keras.optimizers.SGD(),\n",
        "              metrics =[ tf.keras.losses.mae])\n",
        "model_2.summary()"
      ],
      "execution_count": 32,
      "outputs": [
        {
          "output_type": "stream",
          "text": [
            "Model: \"Model-2\"\n",
            "_________________________________________________________________\n",
            "Layer (type)                 Output Shape              Param #   \n",
            "=================================================================\n",
            "Hidden-layer-1 (Dense)       (None, 10)                20        \n",
            "_________________________________________________________________\n",
            "Output-layer (Dense)         (None, 1)                 11        \n",
            "=================================================================\n",
            "Total params: 31\n",
            "Trainable params: 31\n",
            "Non-trainable params: 0\n",
            "_________________________________________________________________\n"
          ],
          "name": "stdout"
        }
      ]
    },
    {
      "cell_type": "code",
      "metadata": {
        "colab": {
          "base_uri": "https://localhost:8080/"
        },
        "id": "AjFVY34kbp1y",
        "outputId": "ffc440d6-5239-4281-9a43-e85dce8f720e"
      },
      "source": [
        "# fit the Model \n",
        "model_2.fit(X_train,y_train, epochs=100, verbose=0)"
      ],
      "execution_count": 33,
      "outputs": [
        {
          "output_type": "execute_result",
          "data": {
            "text/plain": [
              "<tensorflow.python.keras.callbacks.History at 0x7f444b354150>"
            ]
          },
          "metadata": {
            "tags": []
          },
          "execution_count": 33
        }
      ]
    },
    {
      "cell_type": "code",
      "metadata": {
        "colab": {
          "base_uri": "https://localhost:8080/",
          "height": 428
        },
        "id": "U9_idRfxbuYA",
        "outputId": "85c4cc31-31d0-49a4-bb82-448a67a2dba7"
      },
      "source": [
        "# Make and Plot Predictions using Model-1\n",
        "y_pred_2 = model_2.predict(X_test)\n",
        "plot_predictions(predictions=y_pred_2)"
      ],
      "execution_count": 34,
      "outputs": [
        {
          "output_type": "display_data",
          "data": {
            "image/png": "[encoded data removed]",
            "text/plain": [
              "<Figure size 720x504 with 1 Axes>"
            ]
          },
          "metadata": {
            "tags": [],
            "needs_background": "light"
          }
        }
      ]
    },
    {
      "cell_type": "code",
      "metadata": {
        "colab": {
          "base_uri": "https://localhost:8080/"
        },
        "id": "JtoKgDb3b4Zs",
        "outputId": "a64723e9-636b-4d6a-a612-7e7a47ebd4ff"
      },
      "source": [
        "# Calculate the Mean absolute Error\n",
        "mae_2=tf.metrics.mean_absolute_error(y_test,tf.squeeze(y_pred_2))\n",
        "# Calculate the Mean Squared Error\n",
        "mse_2=tf.metrics.mean_squared_error(y_test,tf.squeeze(y_pred_2))\n",
        "mae_2,mse_2"
      ],
      "execution_count": 35,
      "outputs": [
        {
          "output_type": "execute_result",
          "data": {
            "text/plain": [
              "(<tf.Tensor: shape=(), dtype=float32, numpy=3.1969407>,\n",
              " <tf.Tensor: shape=(), dtype=float32, numpy=13.070143>)"
            ]
          },
          "metadata": {
            "tags": []
          },
          "execution_count": 35
        }
      ]
    },
    {
      "cell_type": "markdown",
      "metadata": {
        "id": "OOiyaY6Cb-Ij"
      },
      "source": [
        "**Build `Model-3`**\n",
        "\n",
        "* 2 Dense/Fully Connected layers , trained on 500 Epochs"
      ]
    },
    {
      "cell_type": "code",
      "metadata": {
        "colab": {
          "base_uri": "https://localhost:8080/"
        },
        "id": "22p4U28pcoNC",
        "outputId": "b411bd7d-ce22-40fe-c4ba-a6b1abd6f570"
      },
      "source": [
        " # set random seed \n",
        "tf.random.set_seed(42)\n",
        "\n",
        "# 1. Create a model using the Sequential API : This Groups a Linear Stack of Layers into Model.\n",
        "# Method : 1\n",
        "#-----------\n",
        "model_3 = tf.keras.Sequential([\n",
        "    tf.keras.layers.Dense(10 ,input_shape=[1,],name='Hidden-layer-1'),\n",
        "    tf.keras.layers.Dense(1 ,input_shape=[1,],name='Output-layer')\n",
        "], name = 'Model-3')\n",
        "\n",
        "#2. Compile the model\n",
        "model_3.compile(loss=tf.keras.losses.mae ,# mae -> Mean Absolute Error between Labels and Predictions  : mean(abs(y_true - y_pred))\n",
        "              optimizer = tf.keras.optimizers.SGD(),\n",
        "              metrics =[ tf.keras.losses.mae])\n",
        "model_3.summary()"
      ],
      "execution_count": 36,
      "outputs": [
        {
          "output_type": "stream",
          "text": [
            "Model: \"Model-3\"\n",
            "_________________________________________________________________\n",
            "Layer (type)                 Output Shape              Param #   \n",
            "=================================================================\n",
            "Hidden-layer-1 (Dense)       (None, 10)                20        \n",
            "_________________________________________________________________\n",
            "Output-layer (Dense)         (None, 1)                 11        \n",
            "=================================================================\n",
            "Total params: 31\n",
            "Trainable params: 31\n",
            "Non-trainable params: 0\n",
            "_________________________________________________________________\n"
          ],
          "name": "stdout"
        }
      ]
    },
    {
      "cell_type": "code",
      "metadata": {
        "colab": {
          "base_uri": "https://localhost:8080/"
        },
        "id": "OsOya-ZtcsHg",
        "outputId": "599480f5-03b9-4973-ab3d-7bc295ade5b7"
      },
      "source": [
        "# fit the Model \n",
        "model_3.fit(X_train,y_train, epochs=500, verbose=0)"
      ],
      "execution_count": 37,
      "outputs": [
        {
          "output_type": "execute_result",
          "data": {
            "text/plain": [
              "<tensorflow.python.keras.callbacks.History at 0x7f444b45a090>"
            ]
          },
          "metadata": {
            "tags": []
          },
          "execution_count": 37
        }
      ]
    },
    {
      "cell_type": "code",
      "metadata": {
        "colab": {
          "base_uri": "https://localhost:8080/",
          "height": 428
        },
        "id": "WgN0zJS3cwPO",
        "outputId": "2035e9d4-9b6b-4dde-fe0e-9520e85affda"
      },
      "source": [
        "# Make and Plot Predictions using Model-1\n",
        "y_pred_3 = model_3.predict(X_test)\n",
        "plot_predictions(predictions=y_pred_3)"
      ],
      "execution_count": 38,
      "outputs": [
        {
          "output_type": "display_data",
          "data": {
            "image/png": "[encoded data removed]",
            "text/plain": [
              "<Figure size 720x504 with 1 Axes>"
            ]
          },
          "metadata": {
            "tags": [],
            "needs_background": "light"
          }
        }
      ]
    },
    {
      "cell_type": "code",
      "metadata": {
        "colab": {
          "base_uri": "https://localhost:8080/"
        },
        "id": "8fcgkdk2c9b-",
        "outputId": "fe8080ed-fe39-4d3d-8bf4-5235da2b4716"
      },
      "source": [
        "# Calculate the Mean absolute Error\n",
        "mae_3=tf.metrics.mean_absolute_error(y_test,tf.squeeze(y_pred_3))\n",
        "# Calculate the Mean Squared Error\n",
        "mse_3=tf.metrics.mean_squared_error(y_test,tf.squeeze(y_pred_3))\n",
        "mae_3,mse_3"
      ],
      "execution_count": 40,
      "outputs": [
        {
          "output_type": "execute_result",
          "data": {
            "text/plain": [
              "(<tf.Tensor: shape=(), dtype=float32, numpy=68.713615>,\n",
              " <tf.Tensor: shape=(), dtype=float32, numpy=4808.0273>)"
            ]
          },
          "metadata": {
            "tags": []
          },
          "execution_count": 40
        }
      ]
    },
    {
      "cell_type": "markdown",
      "metadata": {
        "id": "tpcRDNyPdAte"
      },
      "source": [
        "#### Comparing the Results of the Experiments"
      ]
    },
    {
      "cell_type": "code",
      "metadata": {
        "colab": {
          "base_uri": "https://localhost:8080/",
          "height": 142
        },
        "id": "nIJRmjXWfoVh",
        "outputId": "13dc8877-e7f1-4732-cb14-dc7ce797c32f"
      },
      "source": [
        "import pandas as pd\n",
        "\n",
        "model_results=[[\"model_1\",mae_1.numpy(),mse_1.numpy()],\n",
        "               [\"model_2\",mae_2.numpy(),mse_2.numpy()],\n",
        "               [\"model_3\",mae_3.numpy(),mse_3.numpy()]]\n",
        "\n",
        "all_results=pd.DataFrame(model_results,columns=[\"model\",\"mae\",\"mse\"])\n",
        "all_results"
      ],
      "execution_count": 43,
      "outputs": [
        {
          "output_type": "execute_result",
          "data": {
            "text/html": [
              "<div>\n",
              "<style scoped>\n",
              "    .dataframe tbody tr th:only-of-type {\n",
              "        vertical-align: middle;\n",
              "    }\n",
              "\n",
              "    .dataframe tbody tr th {\n",
              "        vertical-align: top;\n",
              "    }\n",
              "\n",
              "    .dataframe thead th {\n",
              "        text-align: right;\n",
              "    }\n",
              "</style>\n",
              "<table border=\"1\" class=\"dataframe\">\n",
              "  <thead>\n",
              "    <tr style=\"text-align: right;\">\n",
              "      <th></th>\n",
              "      <th>model</th>\n",
              "      <th>mae</th>\n",
              "      <th>mse</th>\n",
              "    </tr>\n",
              "  </thead>\n",
              "  <tbody>\n",
              "    <tr>\n",
              "      <th>0</th>\n",
              "      <td>model_1</td>\n",
              "      <td>18.745327</td>\n",
              "      <td>353.573364</td>\n",
              "    </tr>\n",
              "    <tr>\n",
              "      <th>1</th>\n",
              "      <td>model_2</td>\n",
              "      <td>3.196941</td>\n",
              "      <td>13.070143</td>\n",
              "    </tr>\n",
              "    <tr>\n",
              "      <th>2</th>\n",
              "      <td>model_3</td>\n",
              "      <td>68.713615</td>\n",
              "      <td>4808.027344</td>\n",
              "    </tr>\n",
              "  </tbody>\n",
              "</table>\n",
              "</div>"
            ],
            "text/plain": [
              "     model        mae          mse\n",
              "0  model_1  18.745327   353.573364\n",
              "1  model_2   3.196941    13.070143\n",
              "2  model_3  68.713615  4808.027344"
            ]
          },
          "metadata": {
            "tags": []
          },
          "execution_count": 43
        }
      ]
    },
    {
      "cell_type": "code",
      "metadata": {
        "colab": {
          "base_uri": "https://localhost:8080/"
        },
        "id": "3aAiYDdWgHEj",
        "outputId": "703d065f-1aad-486f-c53e-846167dc54df"
      },
      "source": [
        "model_2.summary()"
      ],
      "execution_count": 45,
      "outputs": [
        {
          "output_type": "stream",
          "text": [
            "Model: \"Model-2\"\n",
            "_________________________________________________________________\n",
            "Layer (type)                 Output Shape              Param #   \n",
            "=================================================================\n",
            "Hidden-layer-1 (Dense)       (None, 10)                20        \n",
            "_________________________________________________________________\n",
            "Output-layer (Dense)         (None, 1)                 11        \n",
            "=================================================================\n",
            "Total params: 31\n",
            "Trainable params: 31\n",
            "Non-trainable params: 0\n",
            "_________________________________________________________________\n"
          ],
          "name": "stdout"
        }
      ]
    },
    {
      "cell_type": "markdown",
      "metadata": {
        "id": "TsoyySaBgY14"
      },
      "source": [
        "#### Saving our Models\n",
        "\n",
        "There are 2 Main Formats we can save our models :\n",
        "1. The SavedModel Format\n",
        "2. The HDF5 Format"
      ]
    },
    {
      "cell_type": "code",
      "metadata": {
        "colab": {
          "base_uri": "https://localhost:8080/"
        },
        "id": "EDkpMn7EkvzO",
        "outputId": "93057b3f-27de-4b98-940b-281370c08983"
      },
      "source": [
        "# Save the  model using SavedModel Format\n",
        "model_2.save('best_model_SavedModel_format')"
      ],
      "execution_count": 46,
      "outputs": [
        {
          "output_type": "stream",
          "text": [
            "WARNING:absl:Function `_wrapped_model` contains input name(s) Hidden-layer-1_input with unsupported characters which will be renamed to hidden_layer_1_input in the SavedModel.\n"
          ],
          "name": "stderr"
        },
        {
          "output_type": "stream",
          "text": [
            "INFO:tensorflow:Assets written to: best_model_SavedModel_format/assets\n"
          ],
          "name": "stdout"
        },
        {
          "output_type": "stream",
          "text": [
            "INFO:tensorflow:Assets written to: best_model_SavedModel_format/assets\n"
          ],
          "name": "stderr"
        }
      ]
    },
    {
      "cell_type": "code",
      "metadata": {
        "id": "DC5Y0UWNlpkc"
      },
      "source": [
        "# Save the  model using HDF5 File.\n",
        "model_2.save('best_model_HDF5_format.h5')"
      ],
      "execution_count": 48,
      "outputs": []
    },
    {
      "cell_type": "markdown",
      "metadata": {
        "id": "zVQJbFlNmKwI"
      },
      "source": [
        "#### Loading in a saved Model"
      ]
    },
    {
      "cell_type": "code",
      "metadata": {
        "colab": {
          "base_uri": "https://localhost:8080/"
        },
        "id": "Rjm9Uhq3ob1F",
        "outputId": "f685f8b8-af1c-4bd4-9daf-2e6347c0fbdd"
      },
      "source": [
        "# Load the  model using SavedModel Format Model\n",
        "loaded_SavedModel_format=tf.keras.models.load_model('/content/best_model_SavedModel_format')\n",
        "loaded_SavedModel_format.summary()"
      ],
      "execution_count": 49,
      "outputs": [
        {
          "output_type": "stream",
          "text": [
            "Model: \"Model-2\"\n",
            "_________________________________________________________________\n",
            "Layer (type)                 Output Shape              Param #   \n",
            "=================================================================\n",
            "Hidden-layer-1 (Dense)       (None, 10)                20        \n",
            "_________________________________________________________________\n",
            "Output-layer (Dense)         (None, 1)                 11        \n",
            "=================================================================\n",
            "Total params: 31\n",
            "Trainable params: 31\n",
            "Non-trainable params: 0\n",
            "_________________________________________________________________\n"
          ],
          "name": "stdout"
        }
      ]
    },
    {
      "cell_type": "code",
      "metadata": {
        "colab": {
          "base_uri": "https://localhost:8080/"
        },
        "id": "O7-JMNnzpCuz",
        "outputId": "664ef602-9402-4d4f-8082-060a3261de10"
      },
      "source": [
        "# Comapre Model-2 Performance ith SavedModel Format\n",
        "\n",
        "loaded_SavedModel_format_pred =loaded_SavedModel_format.predict(X_test)"
      ],
      "execution_count": 50,
      "outputs": [
        {
          "output_type": "stream",
          "text": [
            "WARNING:tensorflow:5 out of the last 5 calls to <function Model.make_predict_function.<locals>.predict_function at 0x7f44468f14d0> triggered tf.function retracing. Tracing is expensive and the excessive number of tracings could be due to (1) creating @tf.function repeatedly in a loop, (2) passing tensors with different shapes, (3) passing Python objects instead of tensors. For (1), please define your @tf.function outside of the loop. For (2), @tf.function has experimental_relax_shapes=True option that relaxes argument shapes that can avoid unnecessary retracing. For (3), please refer to https://www.tensorflow.org/guide/function#controlling_retracing and https://www.tensorflow.org/api_docs/python/tf/function for  more details.\n"
          ],
          "name": "stdout"
        },
        {
          "output_type": "stream",
          "text": [
            "WARNING:tensorflow:5 out of the last 5 calls to <function Model.make_predict_function.<locals>.predict_function at 0x7f44468f14d0> triggered tf.function retracing. Tracing is expensive and the excessive number of tracings could be due to (1) creating @tf.function repeatedly in a loop, (2) passing tensors with different shapes, (3) passing Python objects instead of tensors. For (1), please define your @tf.function outside of the loop. For (2), @tf.function has experimental_relax_shapes=True option that relaxes argument shapes that can avoid unnecessary retracing. For (3), please refer to https://www.tensorflow.org/guide/function#controlling_retracing and https://www.tensorflow.org/api_docs/python/tf/function for  more details.\n"
          ],
          "name": "stderr"
        }
      ]
    },
    {
      "cell_type": "code",
      "metadata": {
        "colab": {
          "base_uri": "https://localhost:8080/"
        },
        "id": "nl3sGDHqpbvI",
        "outputId": "b775ffff-181b-4fd3-bd36-7487f01e6dc2"
      },
      "source": [
        "tf.squeeze(loaded_SavedModel_format_pred) == tf.squeeze(y_pred_2)"
      ],
      "execution_count": 56,
      "outputs": [
        {
          "output_type": "execute_result",
          "data": {
            "text/plain": [
              "<tf.Tensor: shape=(10,), dtype=bool, numpy=\n",
              "array([ True,  True,  True,  True,  True,  True,  True,  True,  True,\n",
              "        True])>"
            ]
          },
          "metadata": {
            "tags": []
          },
          "execution_count": 56
        }
      ]
    },
    {
      "cell_type": "code",
      "metadata": {
        "colab": {
          "base_uri": "https://localhost:8080/"
        },
        "id": "Ki98KhvMp35I",
        "outputId": "8f57709a-b21e-42fe-84e0-d2d2e128bf31"
      },
      "source": [
        "# Load the  model using HDF5 Format Model\n",
        "loaded_h5_format=tf.keras.models.load_model('/content/best_model_HDF5_format.h5')\n",
        "loaded_h5_format.summary()"
      ],
      "execution_count": 58,
      "outputs": [
        {
          "output_type": "stream",
          "text": [
            "Model: \"Model-2\"\n",
            "_________________________________________________________________\n",
            "Layer (type)                 Output Shape              Param #   \n",
            "=================================================================\n",
            "Hidden-layer-1 (Dense)       (None, 10)                20        \n",
            "_________________________________________________________________\n",
            "Output-layer (Dense)         (None, 1)                 11        \n",
            "=================================================================\n",
            "Total params: 31\n",
            "Trainable params: 31\n",
            "Non-trainable params: 0\n",
            "_________________________________________________________________\n"
          ],
          "name": "stdout"
        }
      ]
    },
    {
      "cell_type": "code",
      "metadata": {
        "colab": {
          "base_uri": "https://localhost:8080/"
        },
        "id": "rMbY0Sg3qPuO",
        "outputId": "f43c5c0b-815e-418e-a8a5-ed0b16b83601"
      },
      "source": [
        "# Comapre Model-2 Performance ith SavedModel Format\n",
        "loaded_h5_format_pred =loaded_h5_format.predict(X_test)"
      ],
      "execution_count": 59,
      "outputs": [
        {
          "output_type": "stream",
          "text": [
            "WARNING:tensorflow:6 out of the last 6 calls to <function Model.make_predict_function.<locals>.predict_function at 0x7f4446913950> triggered tf.function retracing. Tracing is expensive and the excessive number of tracings could be due to (1) creating @tf.function repeatedly in a loop, (2) passing tensors with different shapes, (3) passing Python objects instead of tensors. For (1), please define your @tf.function outside of the loop. For (2), @tf.function has experimental_relax_shapes=True option that relaxes argument shapes that can avoid unnecessary retracing. For (3), please refer to https://www.tensorflow.org/guide/function#controlling_retracing and https://www.tensorflow.org/api_docs/python/tf/function for  more details.\n"
          ],
          "name": "stdout"
        },
        {
          "output_type": "stream",
          "text": [
            "WARNING:tensorflow:6 out of the last 6 calls to <function Model.make_predict_function.<locals>.predict_function at 0x7f4446913950> triggered tf.function retracing. Tracing is expensive and the excessive number of tracings could be due to (1) creating @tf.function repeatedly in a loop, (2) passing tensors with different shapes, (3) passing Python objects instead of tensors. For (1), please define your @tf.function outside of the loop. For (2), @tf.function has experimental_relax_shapes=True option that relaxes argument shapes that can avoid unnecessary retracing. For (3), please refer to https://www.tensorflow.org/guide/function#controlling_retracing and https://www.tensorflow.org/api_docs/python/tf/function for  more details.\n"
          ],
          "name": "stderr"
        }
      ]
    },
    {
      "cell_type": "code",
      "metadata": {
        "colab": {
          "base_uri": "https://localhost:8080/"
        },
        "id": "S5LAWQdkqW2O",
        "outputId": "2b0e1d8d-75bc-4896-f7ca-d542a11ab3f8"
      },
      "source": [
        "tf.squeeze(loaded_h5_format_pred) == tf.squeeze(y_pred_2)"
      ],
      "execution_count": 60,
      "outputs": [
        {
          "output_type": "execute_result",
          "data": {
            "text/plain": [
              "<tf.Tensor: shape=(10,), dtype=bool, numpy=\n",
              "array([ True,  True,  True,  True,  True,  True,  True,  True,  True,\n",
              "        True])>"
            ]
          },
          "metadata": {
            "tags": []
          },
          "execution_count": 60
        }
      ]
    },
    {
      "cell_type": "markdown",
      "metadata": {
        "id": "80c3xRQ6qaeN"
      },
      "source": [
        "### A Larger Example"
      ]
    },
    {
      "cell_type": "code",
      "metadata": {
        "colab": {
          "base_uri": "https://localhost:8080/",
          "height": 419
        },
        "id": "KmxRBQ97qrOY",
        "outputId": "82da80ea-fdb6-40e7-b96f-fa65bdb5036f"
      },
      "source": [
        " import tensorflow as tf\n",
        " import pandas as pd\n",
        " import matplotlib.pyplot as plt\n",
        "\n",
        " insurance = pd.read_csv('https://raw.githubusercontent.com/stedy/Machine-Learning-with-R-datasets/master/insurance.csv')\n",
        " insurance"
      ],
      "execution_count": 87,
      "outputs": [
        {
          "output_type": "execute_result",
          "data": {
            "text/html": [
              "<div>\n",
              "<style scoped>\n",
              "    .dataframe tbody tr th:only-of-type {\n",
              "        vertical-align: middle;\n",
              "    }\n",
              "\n",
              "    .dataframe tbody tr th {\n",
              "        vertical-align: top;\n",
              "    }\n",
              "\n",
              "    .dataframe thead th {\n",
              "        text-align: right;\n",
              "    }\n",
              "</style>\n",
              "<table border=\"1\" class=\"dataframe\">\n",
              "  <thead>\n",
              "    <tr style=\"text-align: right;\">\n",
              "      <th></th>\n",
              "      <th>age</th>\n",
              "      <th>sex</th>\n",
              "      <th>bmi</th>\n",
              "      <th>children</th>\n",
              "      <th>smoker</th>\n",
              "      <th>region</th>\n",
              "      <th>charges</th>\n",
              "    </tr>\n",
              "  </thead>\n",
              "  <tbody>\n",
              "    <tr>\n",
              "      <th>0</th>\n",
              "      <td>19</td>\n",
              "      <td>female</td>\n",
              "      <td>27.900</td>\n",
              "      <td>0</td>\n",
              "      <td>yes</td>\n",
              "      <td>southwest</td>\n",
              "      <td>16884.92400</td>\n",
              "    </tr>\n",
              "    <tr>\n",
              "      <th>1</th>\n",
              "      <td>18</td>\n",
              "      <td>male</td>\n",
              "      <td>33.770</td>\n",
              "      <td>1</td>\n",
              "      <td>no</td>\n",
              "      <td>southeast</td>\n",
              "      <td>1725.55230</td>\n",
              "    </tr>\n",
              "    <tr>\n",
              "      <th>2</th>\n",
              "      <td>28</td>\n",
              "      <td>male</td>\n",
              "      <td>33.000</td>\n",
              "      <td>3</td>\n",
              "      <td>no</td>\n",
              "      <td>southeast</td>\n",
              "      <td>4449.46200</td>\n",
              "    </tr>\n",
              "    <tr>\n",
              "      <th>3</th>\n",
              "      <td>33</td>\n",
              "      <td>male</td>\n",
              "      <td>22.705</td>\n",
              "      <td>0</td>\n",
              "      <td>no</td>\n",
              "      <td>northwest</td>\n",
              "      <td>21984.47061</td>\n",
              "    </tr>\n",
              "    <tr>\n",
              "      <th>4</th>\n",
              "      <td>32</td>\n",
              "      <td>male</td>\n",
              "      <td>28.880</td>\n",
              "      <td>0</td>\n",
              "      <td>no</td>\n",
              "      <td>northwest</td>\n",
              "      <td>3866.85520</td>\n",
              "    </tr>\n",
              "    <tr>\n",
              "      <th>...</th>\n",
              "      <td>...</td>\n",
              "      <td>...</td>\n",
              "      <td>...</td>\n",
              "      <td>...</td>\n",
              "      <td>...</td>\n",
              "      <td>...</td>\n",
              "      <td>...</td>\n",
              "    </tr>\n",
              "    <tr>\n",
              "      <th>1333</th>\n",
              "      <td>50</td>\n",
              "      <td>male</td>\n",
              "      <td>30.970</td>\n",
              "      <td>3</td>\n",
              "      <td>no</td>\n",
              "      <td>northwest</td>\n",
              "      <td>10600.54830</td>\n",
              "    </tr>\n",
              "    <tr>\n",
              "      <th>1334</th>\n",
              "      <td>18</td>\n",
              "      <td>female</td>\n",
              "      <td>31.920</td>\n",
              "      <td>0</td>\n",
              "      <td>no</td>\n",
              "      <td>northeast</td>\n",
              "      <td>2205.98080</td>\n",
              "    </tr>\n",
              "    <tr>\n",
              "      <th>1335</th>\n",
              "      <td>18</td>\n",
              "      <td>female</td>\n",
              "      <td>36.850</td>\n",
              "      <td>0</td>\n",
              "      <td>no</td>\n",
              "      <td>southeast</td>\n",
              "      <td>1629.83350</td>\n",
              "    </tr>\n",
              "    <tr>\n",
              "      <th>1336</th>\n",
              "      <td>21</td>\n",
              "      <td>female</td>\n",
              "      <td>25.800</td>\n",
              "      <td>0</td>\n",
              "      <td>no</td>\n",
              "      <td>southwest</td>\n",
              "      <td>2007.94500</td>\n",
              "    </tr>\n",
              "    <tr>\n",
              "      <th>1337</th>\n",
              "      <td>61</td>\n",
              "      <td>female</td>\n",
              "      <td>29.070</td>\n",
              "      <td>0</td>\n",
              "      <td>yes</td>\n",
              "      <td>northwest</td>\n",
              "      <td>29141.36030</td>\n",
              "    </tr>\n",
              "  </tbody>\n",
              "</table>\n",
              "<p>1338 rows × 7 columns</p>\n",
              "</div>"
            ],
            "text/plain": [
              "      age     sex     bmi  children smoker     region      charges\n",
              "0      19  female  27.900         0    yes  southwest  16884.92400\n",
              "1      18    male  33.770         1     no  southeast   1725.55230\n",
              "2      28    male  33.000         3     no  southeast   4449.46200\n",
              "3      33    male  22.705         0     no  northwest  21984.47061\n",
              "4      32    male  28.880         0     no  northwest   3866.85520\n",
              "...   ...     ...     ...       ...    ...        ...          ...\n",
              "1333   50    male  30.970         3     no  northwest  10600.54830\n",
              "1334   18  female  31.920         0     no  northeast   2205.98080\n",
              "1335   18  female  36.850         0     no  southeast   1629.83350\n",
              "1336   21  female  25.800         0     no  southwest   2007.94500\n",
              "1337   61  female  29.070         0    yes  northwest  29141.36030\n",
              "\n",
              "[1338 rows x 7 columns]"
            ]
          },
          "metadata": {
            "tags": []
          },
          "execution_count": 87
        }
      ]
    },
    {
      "cell_type": "code",
      "metadata": {
        "id": "mlFDrWpO0S32"
      },
      "source": [
        "# One hot Encoding\n",
        "insurance_one_hot=pd.get_dummies(insurance,drop_first=True)"
      ],
      "execution_count": 88,
      "outputs": []
    },
    {
      "cell_type": "code",
      "metadata": {
        "id": "EQLuJLo80pgG"
      },
      "source": [
        "# Create X and y \n",
        "X = insurance_one_hot.drop(\"charges\",axis=1)\n",
        "y= insurance_one_hot['charges']"
      ],
      "execution_count": 89,
      "outputs": []
    },
    {
      "cell_type": "code",
      "metadata": {
        "colab": {
          "base_uri": "https://localhost:8080/",
          "height": 204
        },
        "id": "1h0YyScO1MSE",
        "outputId": "b0f2447f-c0d3-4428-dad1-0f9d4f2b1635"
      },
      "source": [
        "X.head()"
      ],
      "execution_count": 90,
      "outputs": [
        {
          "output_type": "execute_result",
          "data": {
            "text/html": [
              "<div>\n",
              "<style scoped>\n",
              "    .dataframe tbody tr th:only-of-type {\n",
              "        vertical-align: middle;\n",
              "    }\n",
              "\n",
              "    .dataframe tbody tr th {\n",
              "        vertical-align: top;\n",
              "    }\n",
              "\n",
              "    .dataframe thead th {\n",
              "        text-align: right;\n",
              "    }\n",
              "</style>\n",
              "<table border=\"1\" class=\"dataframe\">\n",
              "  <thead>\n",
              "    <tr style=\"text-align: right;\">\n",
              "      <th></th>\n",
              "      <th>age</th>\n",
              "      <th>bmi</th>\n",
              "      <th>children</th>\n",
              "      <th>sex_male</th>\n",
              "      <th>smoker_yes</th>\n",
              "      <th>region_northwest</th>\n",
              "      <th>region_southeast</th>\n",
              "      <th>region_southwest</th>\n",
              "    </tr>\n",
              "  </thead>\n",
              "  <tbody>\n",
              "    <tr>\n",
              "      <th>0</th>\n",
              "      <td>19</td>\n",
              "      <td>27.900</td>\n",
              "      <td>0</td>\n",
              "      <td>0</td>\n",
              "      <td>1</td>\n",
              "      <td>0</td>\n",
              "      <td>0</td>\n",
              "      <td>1</td>\n",
              "    </tr>\n",
              "    <tr>\n",
              "      <th>1</th>\n",
              "      <td>18</td>\n",
              "      <td>33.770</td>\n",
              "      <td>1</td>\n",
              "      <td>1</td>\n",
              "      <td>0</td>\n",
              "      <td>0</td>\n",
              "      <td>1</td>\n",
              "      <td>0</td>\n",
              "    </tr>\n",
              "    <tr>\n",
              "      <th>2</th>\n",
              "      <td>28</td>\n",
              "      <td>33.000</td>\n",
              "      <td>3</td>\n",
              "      <td>1</td>\n",
              "      <td>0</td>\n",
              "      <td>0</td>\n",
              "      <td>1</td>\n",
              "      <td>0</td>\n",
              "    </tr>\n",
              "    <tr>\n",
              "      <th>3</th>\n",
              "      <td>33</td>\n",
              "      <td>22.705</td>\n",
              "      <td>0</td>\n",
              "      <td>1</td>\n",
              "      <td>0</td>\n",
              "      <td>1</td>\n",
              "      <td>0</td>\n",
              "      <td>0</td>\n",
              "    </tr>\n",
              "    <tr>\n",
              "      <th>4</th>\n",
              "      <td>32</td>\n",
              "      <td>28.880</td>\n",
              "      <td>0</td>\n",
              "      <td>1</td>\n",
              "      <td>0</td>\n",
              "      <td>1</td>\n",
              "      <td>0</td>\n",
              "      <td>0</td>\n",
              "    </tr>\n",
              "  </tbody>\n",
              "</table>\n",
              "</div>"
            ],
            "text/plain": [
              "   age     bmi  children  ...  region_northwest  region_southeast  region_southwest\n",
              "0   19  27.900         0  ...                 0                 0                 1\n",
              "1   18  33.770         1  ...                 0                 1                 0\n",
              "2   28  33.000         3  ...                 0                 1                 0\n",
              "3   33  22.705         0  ...                 1                 0                 0\n",
              "4   32  28.880         0  ...                 1                 0                 0\n",
              "\n",
              "[5 rows x 8 columns]"
            ]
          },
          "metadata": {
            "tags": []
          },
          "execution_count": 90
        }
      ]
    },
    {
      "cell_type": "code",
      "metadata": {
        "colab": {
          "base_uri": "https://localhost:8080/"
        },
        "id": "UPnOyLlR1NAj",
        "outputId": "887eeac6-35cd-4065-81b8-ebb478c53b7f"
      },
      "source": [
        "# Create training and Test Set\n",
        "from sklearn.model_selection import train_test_split\n",
        "X_train,X_test,y_train,y_test=train_test_split(X,y,test_size=0.2,random_state=42)\n",
        "len(X), len(X_train), len(X_test)"
      ],
      "execution_count": 91,
      "outputs": [
        {
          "output_type": "execute_result",
          "data": {
            "text/plain": [
              "(1338, 1070, 268)"
            ]
          },
          "metadata": {
            "tags": []
          },
          "execution_count": 91
        }
      ]
    },
    {
      "cell_type": "code",
      "metadata": {
        "colab": {
          "base_uri": "https://localhost:8080/"
        },
        "id": "BzCoy2Lr1seI",
        "outputId": "e72c301e-abb9-41b0-844d-f58fb7039938"
      },
      "source": [
        "# build a Nureal Network \n",
        "\n",
        " # set random seed \n",
        "tf.random.set_seed(42)\n",
        "\n",
        "# 1. Create a model using the Sequential API : This Groups a Linear Stack of Layers into Model.\n",
        "# Method : 1\n",
        "#-----------\n",
        "insurance_model = tf.keras.Sequential([\n",
        "    tf.keras.layers.Dense(10 ,input_shape=[8,],name='Hidden-layer-1'),\n",
        "    tf.keras.layers.Dense(1 ,name='Output-layer')\n",
        "], name = 'Model-1')\n",
        "\n",
        "#2. Compile the model\n",
        "insurance_model.compile(loss=tf.keras.losses.mae ,# mae -> Mean Absolute Error between Labels and Predictions  : mean(abs(y_true - y_pred))\n",
        "              optimizer = tf.keras.optimizers.SGD(),\n",
        "              metrics =[ tf.keras.losses.mae])\n",
        "\n",
        "# Model Summary\n",
        "insurance_model.summary()"
      ],
      "execution_count": 92,
      "outputs": [
        {
          "output_type": "stream",
          "text": [
            "Model: \"Model-3\"\n",
            "_________________________________________________________________\n",
            "Layer (type)                 Output Shape              Param #   \n",
            "=================================================================\n",
            "Hidden-layer-1 (Dense)       (None, 10)                90        \n",
            "_________________________________________________________________\n",
            "Output-layer (Dense)         (None, 1)                 11        \n",
            "=================================================================\n",
            "Total params: 101\n",
            "Trainable params: 101\n",
            "Non-trainable params: 0\n",
            "_________________________________________________________________\n"
          ],
          "name": "stdout"
        }
      ]
    },
    {
      "cell_type": "code",
      "metadata": {
        "colab": {
          "base_uri": "https://localhost:8080/"
        },
        "id": "s0n96Os12HMD",
        "outputId": "12af565c-f1ac-454a-a3a7-28f7226f3a3b"
      },
      "source": [
        "# Fit the Model\n",
        "insurance_model.fit(X_train,y_train,epochs=100, verbose=0)"
      ],
      "execution_count": 93,
      "outputs": [
        {
          "output_type": "execute_result",
          "data": {
            "text/plain": [
              "<tensorflow.python.keras.callbacks.History at 0x7f444b46fcd0>"
            ]
          },
          "metadata": {
            "tags": []
          },
          "execution_count": 93
        }
      ]
    },
    {
      "cell_type": "code",
      "metadata": {
        "colab": {
          "base_uri": "https://localhost:8080/"
        },
        "id": "JQ8WrtZu2kyE",
        "outputId": "a54663f4-845b-482d-c521-ca96aa1f6a5c"
      },
      "source": [
        "# Check the results of the insurance model on the test data.\n",
        "insurance_model.evaluate(X_test,y_test)"
      ],
      "execution_count": 94,
      "outputs": [
        {
          "output_type": "stream",
          "text": [
            "9/9 [==============================] - 0s 2ms/step - loss: 7999.9722 - mean_absolute_error: 7999.9722\n"
          ],
          "name": "stdout"
        },
        {
          "output_type": "execute_result",
          "data": {
            "text/plain": [
              "[7999.97216796875, 7999.97216796875]"
            ]
          },
          "metadata": {
            "tags": []
          },
          "execution_count": 94
        }
      ]
    },
    {
      "cell_type": "code",
      "metadata": {
        "colab": {
          "base_uri": "https://localhost:8080/"
        },
        "id": "Lp6Kw48Z3A--",
        "outputId": "4bae2743-f3a0-4016-8e9f-bb5a41717c25"
      },
      "source": [
        " # build a Nureal Network \n",
        "\n",
        " # set random seed \n",
        "tf.random.set_seed(42)\n",
        "\n",
        "# 1. Create a model using the Sequential API : This Groups a Linear Stack of Layers into Model.\n",
        "# Method : 1\n",
        "#-----------\n",
        "insurance_model_2 = tf.keras.Sequential([\n",
        "    tf.keras.layers.Dense(100 ,input_shape=[8,],name='Hidden-layer-1'),\n",
        "    tf.keras.layers.Dense(10 ,name='Hidden-layer-2'),\n",
        "    tf.keras.layers.Dense(1 ,name='Output-layer')\n",
        "], name = 'Model-2')\n",
        "\n",
        "#2. Compile the model\n",
        "insurance_model_2.compile(loss=tf.keras.losses.mae ,# mae -> Mean Absolute Error between Labels and Predictions  : mean(abs(y_true - y_pred))\n",
        "              optimizer = tf.keras.optimizers.Adam(),\n",
        "              metrics =[ tf.keras.losses.mae])\n",
        "\n",
        "# Model Summary\n",
        "insurance_model_2.summary()"
      ],
      "execution_count": 102,
      "outputs": [
        {
          "output_type": "stream",
          "text": [
            "Model: \"Model-2\"\n",
            "_________________________________________________________________\n",
            "Layer (type)                 Output Shape              Param #   \n",
            "=================================================================\n",
            "Hidden-layer-1 (Dense)       (None, 100)               900       \n",
            "_________________________________________________________________\n",
            "Hidden-layer-2 (Dense)       (None, 10)                1010      \n",
            "_________________________________________________________________\n",
            "Output-layer (Dense)         (None, 1)                 11        \n",
            "=================================================================\n",
            "Total params: 1,921\n",
            "Trainable params: 1,921\n",
            "Non-trainable params: 0\n",
            "_________________________________________________________________\n"
          ],
          "name": "stdout"
        }
      ]
    },
    {
      "cell_type": "code",
      "metadata": {
        "colab": {
          "base_uri": "https://localhost:8080/"
        },
        "id": "8ZU6n_kXKoOi",
        "outputId": "c34a09ea-69dc-4216-aa9d-a36520129664"
      },
      "source": [
        "# Fit the Model\n",
        "insurance_model_2.fit(X_train,y_train,epochs=100)"
      ],
      "execution_count": 103,
      "outputs": [
        {
          "output_type": "stream",
          "text": [
            "Epoch 1/100\n",
            "34/34 [==============================] - 0s 1ms/step - loss: 13273.5039 - mean_absolute_error: 13273.5039\n",
            "Epoch 2/100\n",
            "34/34 [==============================] - 0s 2ms/step - loss: 13106.1074 - mean_absolute_error: 13106.1074\n",
            "Epoch 3/100\n",
            "34/34 [==============================] - 0s 2ms/step - loss: 12755.9971 - mean_absolute_error: 12755.9971\n",
            "Epoch 4/100\n",
            "34/34 [==============================] - 0s 2ms/step - loss: 12074.5029 - mean_absolute_error: 12074.5029\n",
            "Epoch 5/100\n",
            "34/34 [==============================] - 0s 2ms/step - loss: 10943.2764 - mean_absolute_error: 10943.2764\n",
            "Epoch 6/100\n",
            "34/34 [==============================] - 0s 2ms/step - loss: 9497.8984 - mean_absolute_error: 9497.8984\n",
            "Epoch 7/100\n",
            "34/34 [==============================] - 0s 1ms/step - loss: 8163.3486 - mean_absolute_error: 8163.3486\n",
            "Epoch 8/100\n",
            "34/34 [==============================] - 0s 1ms/step - loss: 7514.0991 - mean_absolute_error: 7514.0991\n",
            "Epoch 9/100\n",
            "34/34 [==============================] - 0s 2ms/step - loss: 7405.3110 - mean_absolute_error: 7405.3110\n",
            "Epoch 10/100\n",
            "34/34 [==============================] - 0s 1ms/step - loss: 7387.0771 - mean_absolute_error: 7387.0771\n",
            "Epoch 11/100\n",
            "34/34 [==============================] - 0s 1ms/step - loss: 7371.7827 - mean_absolute_error: 7371.7827\n",
            "Epoch 12/100\n",
            "34/34 [==============================] - 0s 2ms/step - loss: 7353.2217 - mean_absolute_error: 7353.2217\n",
            "Epoch 13/100\n",
            "34/34 [==============================] - 0s 2ms/step - loss: 7335.2847 - mean_absolute_error: 7335.2847\n",
            "Epoch 14/100\n",
            "34/34 [==============================] - 0s 2ms/step - loss: 7316.5933 - mean_absolute_error: 7316.5933\n",
            "Epoch 15/100\n",
            "34/34 [==============================] - 0s 1ms/step - loss: 7300.5952 - mean_absolute_error: 7300.5952\n",
            "Epoch 16/100\n",
            "34/34 [==============================] - 0s 2ms/step - loss: 7280.9404 - mean_absolute_error: 7280.9404\n",
            "Epoch 17/100\n",
            "34/34 [==============================] - 0s 1ms/step - loss: 7263.7827 - mean_absolute_error: 7263.7827\n",
            "Epoch 18/100\n",
            "34/34 [==============================] - 0s 2ms/step - loss: 7243.7588 - mean_absolute_error: 7243.7588\n",
            "Epoch 19/100\n",
            "34/34 [==============================] - 0s 2ms/step - loss: 7224.9185 - mean_absolute_error: 7224.9185\n",
            "Epoch 20/100\n",
            "34/34 [==============================] - 0s 2ms/step - loss: 7205.0986 - mean_absolute_error: 7205.0986\n",
            "Epoch 21/100\n",
            "34/34 [==============================] - 0s 1ms/step - loss: 7189.0337 - mean_absolute_error: 7189.0337\n",
            "Epoch 22/100\n",
            "34/34 [==============================] - 0s 2ms/step - loss: 7165.8682 - mean_absolute_error: 7165.8682\n",
            "Epoch 23/100\n",
            "34/34 [==============================] - 0s 1ms/step - loss: 7144.9453 - mean_absolute_error: 7144.9453\n",
            "Epoch 24/100\n",
            "34/34 [==============================] - 0s 2ms/step - loss: 7123.8169 - mean_absolute_error: 7123.8169\n",
            "Epoch 25/100\n",
            "34/34 [==============================] - 0s 1ms/step - loss: 7109.7407 - mean_absolute_error: 7109.7407\n",
            "Epoch 26/100\n",
            "34/34 [==============================] - 0s 1ms/step - loss: 7082.4404 - mean_absolute_error: 7082.4404\n",
            "Epoch 27/100\n",
            "34/34 [==============================] - 0s 1ms/step - loss: 7059.3022 - mean_absolute_error: 7059.3022\n",
            "Epoch 28/100\n",
            "34/34 [==============================] - 0s 2ms/step - loss: 7036.2192 - mean_absolute_error: 7036.2192\n",
            "Epoch 29/100\n",
            "34/34 [==============================] - 0s 1ms/step - loss: 7012.7383 - mean_absolute_error: 7012.7383\n",
            "Epoch 30/100\n",
            "34/34 [==============================] - 0s 1ms/step - loss: 6992.3491 - mean_absolute_error: 6992.3491\n",
            "Epoch 31/100\n",
            "34/34 [==============================] - 0s 2ms/step - loss: 6966.9795 - mean_absolute_error: 6966.9795\n",
            "Epoch 32/100\n",
            "34/34 [==============================] - 0s 1ms/step - loss: 6945.2524 - mean_absolute_error: 6945.2524\n",
            "Epoch 33/100\n",
            "34/34 [==============================] - 0s 2ms/step - loss: 6920.1333 - mean_absolute_error: 6920.1333\n",
            "Epoch 34/100\n",
            "34/34 [==============================] - 0s 2ms/step - loss: 6895.7393 - mean_absolute_error: 6895.7393\n",
            "Epoch 35/100\n",
            "34/34 [==============================] - 0s 2ms/step - loss: 6870.2373 - mean_absolute_error: 6870.2373\n",
            "Epoch 36/100\n",
            "34/34 [==============================] - 0s 2ms/step - loss: 6844.0674 - mean_absolute_error: 6844.0674\n",
            "Epoch 37/100\n",
            "34/34 [==============================] - 0s 2ms/step - loss: 6816.7441 - mean_absolute_error: 6816.7441\n",
            "Epoch 38/100\n",
            "34/34 [==============================] - 0s 2ms/step - loss: 6793.3501 - mean_absolute_error: 6793.3501\n",
            "Epoch 39/100\n",
            "34/34 [==============================] - 0s 1ms/step - loss: 6763.6401 - mean_absolute_error: 6763.6401\n",
            "Epoch 40/100\n",
            "34/34 [==============================] - 0s 2ms/step - loss: 6737.6318 - mean_absolute_error: 6737.6318\n",
            "Epoch 41/100\n",
            "34/34 [==============================] - 0s 2ms/step - loss: 6713.1328 - mean_absolute_error: 6713.1328\n",
            "Epoch 42/100\n",
            "34/34 [==============================] - 0s 2ms/step - loss: 6689.7275 - mean_absolute_error: 6689.7275\n",
            "Epoch 43/100\n",
            "34/34 [==============================] - 0s 2ms/step - loss: 6665.1045 - mean_absolute_error: 6665.1045\n",
            "Epoch 44/100\n",
            "34/34 [==============================] - 0s 2ms/step - loss: 6642.7368 - mean_absolute_error: 6642.7368\n",
            "Epoch 45/100\n",
            "34/34 [==============================] - 0s 1ms/step - loss: 6632.0479 - mean_absolute_error: 6632.0479\n",
            "Epoch 46/100\n",
            "34/34 [==============================] - 0s 2ms/step - loss: 6611.3906 - mean_absolute_error: 6611.3906\n",
            "Epoch 47/100\n",
            "34/34 [==============================] - 0s 2ms/step - loss: 6602.2559 - mean_absolute_error: 6602.2559\n",
            "Epoch 48/100\n",
            "34/34 [==============================] - 0s 1ms/step - loss: 6592.1484 - mean_absolute_error: 6592.1484\n",
            "Epoch 49/100\n",
            "34/34 [==============================] - 0s 2ms/step - loss: 6584.3677 - mean_absolute_error: 6584.3677\n",
            "Epoch 50/100\n",
            "34/34 [==============================] - 0s 2ms/step - loss: 6576.1094 - mean_absolute_error: 6576.1094\n",
            "Epoch 51/100\n",
            "34/34 [==============================] - 0s 1ms/step - loss: 6568.2563 - mean_absolute_error: 6568.2563\n",
            "Epoch 52/100\n",
            "34/34 [==============================] - 0s 2ms/step - loss: 6561.6924 - mean_absolute_error: 6561.6924\n",
            "Epoch 53/100\n",
            "34/34 [==============================] - 0s 2ms/step - loss: 6553.8086 - mean_absolute_error: 6553.8086\n",
            "Epoch 54/100\n",
            "34/34 [==============================] - 0s 1ms/step - loss: 6546.1318 - mean_absolute_error: 6546.1318\n",
            "Epoch 55/100\n",
            "34/34 [==============================] - 0s 1ms/step - loss: 6539.3223 - mean_absolute_error: 6539.3223\n",
            "Epoch 56/100\n",
            "34/34 [==============================] - 0s 2ms/step - loss: 6531.9829 - mean_absolute_error: 6531.9829\n",
            "Epoch 57/100\n",
            "34/34 [==============================] - 0s 2ms/step - loss: 6526.4380 - mean_absolute_error: 6526.4380\n",
            "Epoch 58/100\n",
            "34/34 [==============================] - 0s 2ms/step - loss: 6518.7773 - mean_absolute_error: 6518.7773\n",
            "Epoch 59/100\n",
            "34/34 [==============================] - 0s 2ms/step - loss: 6511.3730 - mean_absolute_error: 6511.3730\n",
            "Epoch 60/100\n",
            "34/34 [==============================] - 0s 2ms/step - loss: 6509.1357 - mean_absolute_error: 6509.1357\n",
            "Epoch 61/100\n",
            "34/34 [==============================] - 0s 2ms/step - loss: 6499.7241 - mean_absolute_error: 6499.7241\n",
            "Epoch 62/100\n",
            "34/34 [==============================] - 0s 2ms/step - loss: 6492.8530 - mean_absolute_error: 6492.8530\n",
            "Epoch 63/100\n",
            "34/34 [==============================] - 0s 1ms/step - loss: 6483.7642 - mean_absolute_error: 6483.7642\n",
            "Epoch 64/100\n",
            "34/34 [==============================] - 0s 2ms/step - loss: 6478.3608 - mean_absolute_error: 6478.3608\n",
            "Epoch 65/100\n",
            "34/34 [==============================] - 0s 2ms/step - loss: 6470.3237 - mean_absolute_error: 6470.3237\n",
            "Epoch 66/100\n",
            "34/34 [==============================] - 0s 2ms/step - loss: 6463.1226 - mean_absolute_error: 6463.1226\n",
            "Epoch 67/100\n",
            "34/34 [==============================] - 0s 2ms/step - loss: 6459.2139 - mean_absolute_error: 6459.2139\n",
            "Epoch 68/100\n",
            "34/34 [==============================] - 0s 2ms/step - loss: 6449.1108 - mean_absolute_error: 6449.1108\n",
            "Epoch 69/100\n",
            "34/34 [==============================] - 0s 2ms/step - loss: 6444.0596 - mean_absolute_error: 6444.0596\n",
            "Epoch 70/100\n",
            "34/34 [==============================] - 0s 2ms/step - loss: 6434.9907 - mean_absolute_error: 6434.9907\n",
            "Epoch 71/100\n",
            "34/34 [==============================] - 0s 2ms/step - loss: 6425.5122 - mean_absolute_error: 6425.5122\n",
            "Epoch 72/100\n",
            "34/34 [==============================] - 0s 2ms/step - loss: 6422.8823 - mean_absolute_error: 6422.8823\n",
            "Epoch 73/100\n",
            "34/34 [==============================] - 0s 1ms/step - loss: 6415.4409 - mean_absolute_error: 6415.4409\n",
            "Epoch 74/100\n",
            "34/34 [==============================] - 0s 1ms/step - loss: 6403.8110 - mean_absolute_error: 6403.8110\n",
            "Epoch 75/100\n",
            "34/34 [==============================] - 0s 1ms/step - loss: 6398.0811 - mean_absolute_error: 6398.0811\n",
            "Epoch 76/100\n",
            "34/34 [==============================] - 0s 2ms/step - loss: 6395.2852 - mean_absolute_error: 6395.2852\n",
            "Epoch 77/100\n",
            "34/34 [==============================] - 0s 1ms/step - loss: 6377.2354 - mean_absolute_error: 6377.2354\n",
            "Epoch 78/100\n",
            "34/34 [==============================] - 0s 2ms/step - loss: 6371.3589 - mean_absolute_error: 6371.3589\n",
            "Epoch 79/100\n",
            "34/34 [==============================] - 0s 2ms/step - loss: 6362.0166 - mean_absolute_error: 6362.0166\n",
            "Epoch 80/100\n",
            "34/34 [==============================] - 0s 2ms/step - loss: 6354.7285 - mean_absolute_error: 6354.7285\n",
            "Epoch 81/100\n",
            "34/34 [==============================] - 0s 2ms/step - loss: 6344.7017 - mean_absolute_error: 6344.7017\n",
            "Epoch 82/100\n",
            "34/34 [==============================] - 0s 2ms/step - loss: 6337.2974 - mean_absolute_error: 6337.2974\n",
            "Epoch 83/100\n",
            "34/34 [==============================] - 0s 1ms/step - loss: 6327.6602 - mean_absolute_error: 6327.6602\n",
            "Epoch 84/100\n",
            "34/34 [==============================] - 0s 1ms/step - loss: 6315.6226 - mean_absolute_error: 6315.6226\n",
            "Epoch 85/100\n",
            "34/34 [==============================] - 0s 2ms/step - loss: 6309.0122 - mean_absolute_error: 6309.0122\n",
            "Epoch 86/100\n",
            "34/34 [==============================] - 0s 1ms/step - loss: 6296.7710 - mean_absolute_error: 6296.7710\n",
            "Epoch 87/100\n",
            "34/34 [==============================] - 0s 2ms/step - loss: 6288.2002 - mean_absolute_error: 6288.2002\n",
            "Epoch 88/100\n",
            "34/34 [==============================] - 0s 2ms/step - loss: 6278.0742 - mean_absolute_error: 6278.0742\n",
            "Epoch 89/100\n",
            "34/34 [==============================] - 0s 2ms/step - loss: 6270.0649 - mean_absolute_error: 6270.0649\n",
            "Epoch 90/100\n",
            "34/34 [==============================] - 0s 2ms/step - loss: 6256.3965 - mean_absolute_error: 6256.3965\n",
            "Epoch 91/100\n",
            "34/34 [==============================] - 0s 1ms/step - loss: 6246.1006 - mean_absolute_error: 6246.1006\n",
            "Epoch 92/100\n",
            "34/34 [==============================] - 0s 1ms/step - loss: 6235.3027 - mean_absolute_error: 6235.3027\n",
            "Epoch 93/100\n",
            "34/34 [==============================] - 0s 1ms/step - loss: 6224.5991 - mean_absolute_error: 6224.5991\n",
            "Epoch 94/100\n",
            "34/34 [==============================] - 0s 2ms/step - loss: 6213.3643 - mean_absolute_error: 6213.3643\n",
            "Epoch 95/100\n",
            "34/34 [==============================] - 0s 2ms/step - loss: 6201.0293 - mean_absolute_error: 6201.0293\n",
            "Epoch 96/100\n",
            "34/34 [==============================] - 0s 2ms/step - loss: 6187.8662 - mean_absolute_error: 6187.8662\n",
            "Epoch 97/100\n",
            "34/34 [==============================] - 0s 2ms/step - loss: 6174.3774 - mean_absolute_error: 6174.3774\n",
            "Epoch 98/100\n",
            "34/34 [==============================] - 0s 2ms/step - loss: 6160.3438 - mean_absolute_error: 6160.3438\n",
            "Epoch 99/100\n",
            "34/34 [==============================] - 0s 1ms/step - loss: 6150.5947 - mean_absolute_error: 6150.5947\n",
            "Epoch 100/100\n",
            "34/34 [==============================] - 0s 1ms/step - loss: 6133.2534 - mean_absolute_error: 6133.2534\n"
          ],
          "name": "stdout"
        },
        {
          "output_type": "execute_result",
          "data": {
            "text/plain": [
              "<tensorflow.python.keras.callbacks.History at 0x7f449c016590>"
            ]
          },
          "metadata": {
            "tags": []
          },
          "execution_count": 103
        }
      ]
    },
    {
      "cell_type": "code",
      "metadata": {
        "colab": {
          "base_uri": "https://localhost:8080/"
        },
        "id": "8pzfSmuMKwix",
        "outputId": "3be3cda4-17a8-4829-8d52-4ab4865fabcd"
      },
      "source": [
        "# Check the results of the insurance model on the test data.\n",
        "insurance_model_2.evaluate(X_test,y_test)"
      ],
      "execution_count": 104,
      "outputs": [
        {
          "output_type": "stream",
          "text": [
            "9/9 [==============================] - 0s 2ms/step - loss: 6003.9653 - mean_absolute_error: 6003.9653\n"
          ],
          "name": "stdout"
        },
        {
          "output_type": "execute_result",
          "data": {
            "text/plain": [
              "[6003.96533203125, 6003.96533203125]"
            ]
          },
          "metadata": {
            "tags": []
          },
          "execution_count": 104
        }
      ]
    },
    {
      "cell_type": "code",
      "metadata": {
        "colab": {
          "base_uri": "https://localhost:8080/"
        },
        "id": "5CxkOK-OKzLy",
        "outputId": "0b21b0e2-70fa-4316-f20d-9e93f835303d"
      },
      "source": [
        " # build a Nureal Network \n",
        "\n",
        " # set random seed \n",
        "tf.random.set_seed(42)\n",
        "\n",
        "# 1. Create a model using the Sequential API : This Groups a Linear Stack of Layers into Model.\n",
        "# Method : 1\n",
        "#-----------\n",
        "insurance_model_3 = tf.keras.Sequential([\n",
        "    tf.keras.layers.Dense(100 ,input_shape=[8,],name='Hidden-layer-1'),\n",
        "    tf.keras.layers.Dense(10 ,name='Hidden-layer-2'),\n",
        "    tf.keras.layers.Dense(1 ,name='Output-layer')\n",
        "], name = 'Model-3')\n",
        "\n",
        "#2. Compile the model\n",
        "insurance_model_3.compile(loss=tf.keras.losses.mae ,# mae -> Mean Absolute Error between Labels and Predictions  : mean(abs(y_true - y_pred))\n",
        "              optimizer = tf.keras.optimizers.Adam(),\n",
        "              metrics =[ tf.keras.losses.mae])\n",
        "\n",
        "# Model Summary\n",
        "insurance_model_3.summary()"
      ],
      "execution_count": 111,
      "outputs": [
        {
          "output_type": "stream",
          "text": [
            "Model: \"Model-3\"\n",
            "_________________________________________________________________\n",
            "Layer (type)                 Output Shape              Param #   \n",
            "=================================================================\n",
            "Hidden-layer-1 (Dense)       (None, 100)               900       \n",
            "_________________________________________________________________\n",
            "Hidden-layer-2 (Dense)       (None, 10)                1010      \n",
            "_________________________________________________________________\n",
            "Output-layer (Dense)         (None, 1)                 11        \n",
            "=================================================================\n",
            "Total params: 1,921\n",
            "Trainable params: 1,921\n",
            "Non-trainable params: 0\n",
            "_________________________________________________________________\n"
          ],
          "name": "stdout"
        }
      ]
    },
    {
      "cell_type": "code",
      "metadata": {
        "colab": {
          "base_uri": "https://localhost:8080/"
        },
        "id": "FimJkDTyLZDM",
        "outputId": "809c059b-f19a-4856-acba-5b0117ea78c4"
      },
      "source": [
        "# Fit the Model\n",
        "history=insurance_model_3.fit(X_train,y_train,epochs=200)"
      ],
      "execution_count": 112,
      "outputs": [
        {
          "output_type": "stream",
          "text": [
            "Epoch 1/200\n",
            "34/34 [==============================] - 0s 2ms/step - loss: 13273.5039 - mean_absolute_error: 13273.5039\n",
            "Epoch 2/200\n",
            "34/34 [==============================] - 0s 2ms/step - loss: 13106.1074 - mean_absolute_error: 13106.1074\n",
            "Epoch 3/200\n",
            "34/34 [==============================] - 0s 2ms/step - loss: 12755.9971 - mean_absolute_error: 12755.9971\n",
            "Epoch 4/200\n",
            "34/34 [==============================] - 0s 2ms/step - loss: 12074.5029 - mean_absolute_error: 12074.5029\n",
            "Epoch 5/200\n",
            "34/34 [==============================] - 0s 2ms/step - loss: 10943.2764 - mean_absolute_error: 10943.2764\n",
            "Epoch 6/200\n",
            "34/34 [==============================] - 0s 2ms/step - loss: 9497.8984 - mean_absolute_error: 9497.8984\n",
            "Epoch 7/200\n",
            "34/34 [==============================] - 0s 1ms/step - loss: 8163.3486 - mean_absolute_error: 8163.3486\n",
            "Epoch 8/200\n",
            "34/34 [==============================] - 0s 2ms/step - loss: 7514.0991 - mean_absolute_error: 7514.0991\n",
            "Epoch 9/200\n",
            "34/34 [==============================] - 0s 2ms/step - loss: 7405.3110 - mean_absolute_error: 7405.3110\n",
            "Epoch 10/200\n",
            "34/34 [==============================] - 0s 2ms/step - loss: 7387.0771 - mean_absolute_error: 7387.0771\n",
            "Epoch 11/200\n",
            "34/34 [==============================] - 0s 2ms/step - loss: 7371.7827 - mean_absolute_error: 7371.7827\n",
            "Epoch 12/200\n",
            "34/34 [==============================] - 0s 1ms/step - loss: 7353.2217 - mean_absolute_error: 7353.2217\n",
            "Epoch 13/200\n",
            "34/34 [==============================] - 0s 2ms/step - loss: 7335.2847 - mean_absolute_error: 7335.2847\n",
            "Epoch 14/200\n",
            "34/34 [==============================] - 0s 2ms/step - loss: 7316.5933 - mean_absolute_error: 7316.5933\n",
            "Epoch 15/200\n",
            "34/34 [==============================] - 0s 2ms/step - loss: 7300.5952 - mean_absolute_error: 7300.5952\n",
            "Epoch 16/200\n",
            "34/34 [==============================] - 0s 1ms/step - loss: 7280.9404 - mean_absolute_error: 7280.9404\n",
            "Epoch 17/200\n",
            "34/34 [==============================] - 0s 2ms/step - loss: 7263.7827 - mean_absolute_error: 7263.7827\n",
            "Epoch 18/200\n",
            "34/34 [==============================] - 0s 2ms/step - loss: 7243.7588 - mean_absolute_error: 7243.7588\n",
            "Epoch 19/200\n",
            "34/34 [==============================] - 0s 2ms/step - loss: 7224.9185 - mean_absolute_error: 7224.9185\n",
            "Epoch 20/200\n",
            "34/34 [==============================] - 0s 2ms/step - loss: 7205.0986 - mean_absolute_error: 7205.0986\n",
            "Epoch 21/200\n",
            "34/34 [==============================] - 0s 1ms/step - loss: 7189.0337 - mean_absolute_error: 7189.0337\n",
            "Epoch 22/200\n",
            "34/34 [==============================] - 0s 2ms/step - loss: 7165.8682 - mean_absolute_error: 7165.8682\n",
            "Epoch 23/200\n",
            "34/34 [==============================] - 0s 2ms/step - loss: 7144.9453 - mean_absolute_error: 7144.9453\n",
            "Epoch 24/200\n",
            "34/34 [==============================] - 0s 2ms/step - loss: 7123.8169 - mean_absolute_error: 7123.8169\n",
            "Epoch 25/200\n",
            "34/34 [==============================] - 0s 2ms/step - loss: 7109.7407 - mean_absolute_error: 7109.7407\n",
            "Epoch 26/200\n",
            "34/34 [==============================] - 0s 2ms/step - loss: 7082.4404 - mean_absolute_error: 7082.4404\n",
            "Epoch 27/200\n",
            "34/34 [==============================] - 0s 2ms/step - loss: 7059.3022 - mean_absolute_error: 7059.3022\n",
            "Epoch 28/200\n",
            "34/34 [==============================] - 0s 2ms/step - loss: 7036.2192 - mean_absolute_error: 7036.2192\n",
            "Epoch 29/200\n",
            "34/34 [==============================] - 0s 2ms/step - loss: 7012.7383 - mean_absolute_error: 7012.7383\n",
            "Epoch 30/200\n",
            "34/34 [==============================] - 0s 2ms/step - loss: 6992.3491 - mean_absolute_error: 6992.3491\n",
            "Epoch 31/200\n",
            "34/34 [==============================] - 0s 2ms/step - loss: 6966.9795 - mean_absolute_error: 6966.9795\n",
            "Epoch 32/200\n",
            "34/34 [==============================] - 0s 2ms/step - loss: 6945.2524 - mean_absolute_error: 6945.2524\n",
            "Epoch 33/200\n",
            "34/34 [==============================] - 0s 2ms/step - loss: 6920.1333 - mean_absolute_error: 6920.1333\n",
            "Epoch 34/200\n",
            "34/34 [==============================] - 0s 2ms/step - loss: 6895.7393 - mean_absolute_error: 6895.7393\n",
            "Epoch 35/200\n",
            "34/34 [==============================] - 0s 1ms/step - loss: 6870.2373 - mean_absolute_error: 6870.2373\n",
            "Epoch 36/200\n",
            "34/34 [==============================] - 0s 2ms/step - loss: 6844.0674 - mean_absolute_error: 6844.0674\n",
            "Epoch 37/200\n",
            "34/34 [==============================] - 0s 2ms/step - loss: 6816.7441 - mean_absolute_error: 6816.7441\n",
            "Epoch 38/200\n",
            "34/34 [==============================] - 0s 1ms/step - loss: 6793.3501 - mean_absolute_error: 6793.3501\n",
            "Epoch 39/200\n",
            "34/34 [==============================] - 0s 2ms/step - loss: 6763.6401 - mean_absolute_error: 6763.6401\n",
            "Epoch 40/200\n",
            "34/34 [==============================] - 0s 2ms/step - loss: 6737.6318 - mean_absolute_error: 6737.6318\n",
            "Epoch 41/200\n",
            "34/34 [==============================] - 0s 2ms/step - loss: 6713.1328 - mean_absolute_error: 6713.1328\n",
            "Epoch 42/200\n",
            "34/34 [==============================] - 0s 1ms/step - loss: 6689.7275 - mean_absolute_error: 6689.7275\n",
            "Epoch 43/200\n",
            "34/34 [==============================] - 0s 1ms/step - loss: 6665.1045 - mean_absolute_error: 6665.1045\n",
            "Epoch 44/200\n",
            "34/34 [==============================] - 0s 1ms/step - loss: 6642.7368 - mean_absolute_error: 6642.7368\n",
            "Epoch 45/200\n",
            "34/34 [==============================] - 0s 2ms/step - loss: 6632.0479 - mean_absolute_error: 6632.0479\n",
            "Epoch 46/200\n",
            "34/34 [==============================] - 0s 1ms/step - loss: 6611.3906 - mean_absolute_error: 6611.3906\n",
            "Epoch 47/200\n",
            "34/34 [==============================] - 0s 2ms/step - loss: 6602.2559 - mean_absolute_error: 6602.2559\n",
            "Epoch 48/200\n",
            "34/34 [==============================] - 0s 1ms/step - loss: 6592.1484 - mean_absolute_error: 6592.1484\n",
            "Epoch 49/200\n",
            "34/34 [==============================] - 0s 1ms/step - loss: 6584.3677 - mean_absolute_error: 6584.3677\n",
            "Epoch 50/200\n",
            "34/34 [==============================] - 0s 2ms/step - loss: 6576.1094 - mean_absolute_error: 6576.1094\n",
            "Epoch 51/200\n",
            "34/34 [==============================] - 0s 2ms/step - loss: 6568.2563 - mean_absolute_error: 6568.2563\n",
            "Epoch 52/200\n",
            "34/34 [==============================] - 0s 2ms/step - loss: 6561.6924 - mean_absolute_error: 6561.6924\n",
            "Epoch 53/200\n",
            "34/34 [==============================] - 0s 2ms/step - loss: 6553.8086 - mean_absolute_error: 6553.8086\n",
            "Epoch 54/200\n",
            "34/34 [==============================] - 0s 1ms/step - loss: 6546.1318 - mean_absolute_error: 6546.1318\n",
            "Epoch 55/200\n",
            "34/34 [==============================] - 0s 2ms/step - loss: 6539.3223 - mean_absolute_error: 6539.3223\n",
            "Epoch 56/200\n",
            "34/34 [==============================] - 0s 2ms/step - loss: 6531.9829 - mean_absolute_error: 6531.9829\n",
            "Epoch 57/200\n",
            "34/34 [==============================] - 0s 2ms/step - loss: 6526.4380 - mean_absolute_error: 6526.4380\n",
            "Epoch 58/200\n",
            "34/34 [==============================] - 0s 1ms/step - loss: 6518.7773 - mean_absolute_error: 6518.7773\n",
            "Epoch 59/200\n",
            "34/34 [==============================] - 0s 2ms/step - loss: 6511.3730 - mean_absolute_error: 6511.3730\n",
            "Epoch 60/200\n",
            "34/34 [==============================] - 0s 2ms/step - loss: 6509.1357 - mean_absolute_error: 6509.1357\n",
            "Epoch 61/200\n",
            "34/34 [==============================] - 0s 1ms/step - loss: 6499.7241 - mean_absolute_error: 6499.7241\n",
            "Epoch 62/200\n",
            "34/34 [==============================] - 0s 2ms/step - loss: 6492.8530 - mean_absolute_error: 6492.8530\n",
            "Epoch 63/200\n",
            "34/34 [==============================] - 0s 2ms/step - loss: 6483.7642 - mean_absolute_error: 6483.7642\n",
            "Epoch 64/200\n",
            "34/34 [==============================] - 0s 2ms/step - loss: 6478.3608 - mean_absolute_error: 6478.3608\n",
            "Epoch 65/200\n",
            "34/34 [==============================] - 0s 2ms/step - loss: 6470.3237 - mean_absolute_error: 6470.3237\n",
            "Epoch 66/200\n",
            "34/34 [==============================] - 0s 2ms/step - loss: 6463.1226 - mean_absolute_error: 6463.1226\n",
            "Epoch 67/200\n",
            "34/34 [==============================] - 0s 2ms/step - loss: 6459.2139 - mean_absolute_error: 6459.2139\n",
            "Epoch 68/200\n",
            "34/34 [==============================] - 0s 2ms/step - loss: 6449.1108 - mean_absolute_error: 6449.1108\n",
            "Epoch 69/200\n",
            "34/34 [==============================] - 0s 1ms/step - loss: 6444.0596 - mean_absolute_error: 6444.0596\n",
            "Epoch 70/200\n",
            "34/34 [==============================] - 0s 1ms/step - loss: 6434.9907 - mean_absolute_error: 6434.9907\n",
            "Epoch 71/200\n",
            "34/34 [==============================] - 0s 2ms/step - loss: 6425.5122 - mean_absolute_error: 6425.5122\n",
            "Epoch 72/200\n",
            "34/34 [==============================] - 0s 2ms/step - loss: 6422.8823 - mean_absolute_error: 6422.8823\n",
            "Epoch 73/200\n",
            "34/34 [==============================] - 0s 2ms/step - loss: 6415.4409 - mean_absolute_error: 6415.4409\n",
            "Epoch 74/200\n",
            "34/34 [==============================] - 0s 2ms/step - loss: 6403.8110 - mean_absolute_error: 6403.8110\n",
            "Epoch 75/200\n",
            "34/34 [==============================] - 0s 2ms/step - loss: 6398.0811 - mean_absolute_error: 6398.0811\n",
            "Epoch 76/200\n",
            "34/34 [==============================] - 0s 2ms/step - loss: 6395.2852 - mean_absolute_error: 6395.2852\n",
            "Epoch 77/200\n",
            "34/34 [==============================] - 0s 2ms/step - loss: 6377.2354 - mean_absolute_error: 6377.2354\n",
            "Epoch 78/200\n",
            "34/34 [==============================] - 0s 2ms/step - loss: 6371.3589 - mean_absolute_error: 6371.3589\n",
            "Epoch 79/200\n",
            "34/34 [==============================] - 0s 2ms/step - loss: 6362.0166 - mean_absolute_error: 6362.0166\n",
            "Epoch 80/200\n",
            "34/34 [==============================] - 0s 2ms/step - loss: 6354.7285 - mean_absolute_error: 6354.7285\n",
            "Epoch 81/200\n",
            "34/34 [==============================] - 0s 2ms/step - loss: 6344.7017 - mean_absolute_error: 6344.7017\n",
            "Epoch 82/200\n",
            "34/34 [==============================] - 0s 2ms/step - loss: 6337.2974 - mean_absolute_error: 6337.2974\n",
            "Epoch 83/200\n",
            "34/34 [==============================] - 0s 2ms/step - loss: 6327.6602 - mean_absolute_error: 6327.6602\n",
            "Epoch 84/200\n",
            "34/34 [==============================] - 0s 1ms/step - loss: 6315.6226 - mean_absolute_error: 6315.6226\n",
            "Epoch 85/200\n",
            "34/34 [==============================] - 0s 2ms/step - loss: 6309.0122 - mean_absolute_error: 6309.0122\n",
            "Epoch 86/200\n",
            "34/34 [==============================] - 0s 2ms/step - loss: 6296.7710 - mean_absolute_error: 6296.7710\n",
            "Epoch 87/200\n",
            "34/34 [==============================] - 0s 2ms/step - loss: 6288.2002 - mean_absolute_error: 6288.2002\n",
            "Epoch 88/200\n",
            "34/34 [==============================] - 0s 2ms/step - loss: 6278.0742 - mean_absolute_error: 6278.0742\n",
            "Epoch 89/200\n",
            "34/34 [==============================] - 0s 2ms/step - loss: 6270.0649 - mean_absolute_error: 6270.0649\n",
            "Epoch 90/200\n",
            "34/34 [==============================] - 0s 2ms/step - loss: 6256.3965 - mean_absolute_error: 6256.3965\n",
            "Epoch 91/200\n",
            "34/34 [==============================] - 0s 2ms/step - loss: 6246.1006 - mean_absolute_error: 6246.1006\n",
            "Epoch 92/200\n",
            "34/34 [==============================] - 0s 2ms/step - loss: 6235.3027 - mean_absolute_error: 6235.3027\n",
            "Epoch 93/200\n",
            "34/34 [==============================] - 0s 2ms/step - loss: 6224.5991 - mean_absolute_error: 6224.5991\n",
            "Epoch 94/200\n",
            "34/34 [==============================] - 0s 1ms/step - loss: 6213.3643 - mean_absolute_error: 6213.3643\n",
            "Epoch 95/200\n",
            "34/34 [==============================] - 0s 2ms/step - loss: 6201.0293 - mean_absolute_error: 6201.0293\n",
            "Epoch 96/200\n",
            "34/34 [==============================] - 0s 2ms/step - loss: 6187.8662 - mean_absolute_error: 6187.8662\n",
            "Epoch 97/200\n",
            "34/34 [==============================] - 0s 2ms/step - loss: 6174.3774 - mean_absolute_error: 6174.3774\n",
            "Epoch 98/200\n",
            "34/34 [==============================] - 0s 2ms/step - loss: 6160.3438 - mean_absolute_error: 6160.3438\n",
            "Epoch 99/200\n",
            "34/34 [==============================] - 0s 2ms/step - loss: 6150.5947 - mean_absolute_error: 6150.5947\n",
            "Epoch 100/200\n",
            "34/34 [==============================] - 0s 2ms/step - loss: 6133.2534 - mean_absolute_error: 6133.2534\n",
            "Epoch 101/200\n",
            "34/34 [==============================] - 0s 2ms/step - loss: 6120.2900 - mean_absolute_error: 6120.2900\n",
            "Epoch 102/200\n",
            "34/34 [==============================] - 0s 2ms/step - loss: 6105.8970 - mean_absolute_error: 6105.8970\n",
            "Epoch 103/200\n",
            "34/34 [==============================] - 0s 2ms/step - loss: 6092.1768 - mean_absolute_error: 6092.1768\n",
            "Epoch 104/200\n",
            "34/34 [==============================] - 0s 2ms/step - loss: 6071.0410 - mean_absolute_error: 6071.0410\n",
            "Epoch 105/200\n",
            "34/34 [==============================] - 0s 2ms/step - loss: 6057.6406 - mean_absolute_error: 6057.6406\n",
            "Epoch 106/200\n",
            "34/34 [==============================] - 0s 1ms/step - loss: 6041.9980 - mean_absolute_error: 6041.9980\n",
            "Epoch 107/200\n",
            "34/34 [==============================] - 0s 1ms/step - loss: 6020.7588 - mean_absolute_error: 6020.7588\n",
            "Epoch 108/200\n",
            "34/34 [==============================] - 0s 2ms/step - loss: 6010.5029 - mean_absolute_error: 6010.5029\n",
            "Epoch 109/200\n",
            "34/34 [==============================] - 0s 2ms/step - loss: 5992.0078 - mean_absolute_error: 5992.0078\n",
            "Epoch 110/200\n",
            "34/34 [==============================] - 0s 2ms/step - loss: 5965.2217 - mean_absolute_error: 5965.2217\n",
            "Epoch 111/200\n",
            "34/34 [==============================] - 0s 1ms/step - loss: 5951.8057 - mean_absolute_error: 5951.8057\n",
            "Epoch 112/200\n",
            "34/34 [==============================] - 0s 2ms/step - loss: 5926.8691 - mean_absolute_error: 5926.8691\n",
            "Epoch 113/200\n",
            "34/34 [==============================] - 0s 1ms/step - loss: 5902.1538 - mean_absolute_error: 5902.1538\n",
            "Epoch 114/200\n",
            "34/34 [==============================] - 0s 1ms/step - loss: 5879.5259 - mean_absolute_error: 5879.5259\n",
            "Epoch 115/200\n",
            "34/34 [==============================] - 0s 2ms/step - loss: 5854.6958 - mean_absolute_error: 5854.6958\n",
            "Epoch 116/200\n",
            "34/34 [==============================] - 0s 2ms/step - loss: 5832.1699 - mean_absolute_error: 5832.1699\n",
            "Epoch 117/200\n",
            "34/34 [==============================] - 0s 2ms/step - loss: 5804.0156 - mean_absolute_error: 5804.0156\n",
            "Epoch 118/200\n",
            "34/34 [==============================] - 0s 2ms/step - loss: 5777.6465 - mean_absolute_error: 5777.6465\n",
            "Epoch 119/200\n",
            "34/34 [==============================] - 0s 1ms/step - loss: 5752.6382 - mean_absolute_error: 5752.6382\n",
            "Epoch 120/200\n",
            "34/34 [==============================] - 0s 2ms/step - loss: 5718.1875 - mean_absolute_error: 5718.1875\n",
            "Epoch 121/200\n",
            "34/34 [==============================] - 0s 1ms/step - loss: 5689.9268 - mean_absolute_error: 5689.9268\n",
            "Epoch 122/200\n",
            "34/34 [==============================] - 0s 2ms/step - loss: 5658.0151 - mean_absolute_error: 5658.0151\n",
            "Epoch 123/200\n",
            "34/34 [==============================] - 0s 1ms/step - loss: 5625.5483 - mean_absolute_error: 5625.5483\n",
            "Epoch 124/200\n",
            "34/34 [==============================] - 0s 2ms/step - loss: 5589.8809 - mean_absolute_error: 5589.8809\n",
            "Epoch 125/200\n",
            "34/34 [==============================] - 0s 1ms/step - loss: 5555.1235 - mean_absolute_error: 5555.1235\n",
            "Epoch 126/200\n",
            "34/34 [==============================] - 0s 1ms/step - loss: 5515.4277 - mean_absolute_error: 5515.4277\n",
            "Epoch 127/200\n",
            "34/34 [==============================] - 0s 1ms/step - loss: 5473.3955 - mean_absolute_error: 5473.3955\n",
            "Epoch 128/200\n",
            "34/34 [==============================] - 0s 2ms/step - loss: 5428.9648 - mean_absolute_error: 5428.9648\n",
            "Epoch 129/200\n",
            "34/34 [==============================] - 0s 2ms/step - loss: 5391.3853 - mean_absolute_error: 5391.3853\n",
            "Epoch 130/200\n",
            "34/34 [==============================] - 0s 2ms/step - loss: 5339.6284 - mean_absolute_error: 5339.6284\n",
            "Epoch 131/200\n",
            "34/34 [==============================] - 0s 1ms/step - loss: 5285.7539 - mean_absolute_error: 5285.7539\n",
            "Epoch 132/200\n",
            "34/34 [==============================] - 0s 1ms/step - loss: 5235.9224 - mean_absolute_error: 5235.9224\n",
            "Epoch 133/200\n",
            "34/34 [==============================] - 0s 2ms/step - loss: 5182.7368 - mean_absolute_error: 5182.7368\n",
            "Epoch 134/200\n",
            "34/34 [==============================] - 0s 2ms/step - loss: 5123.8882 - mean_absolute_error: 5123.8882\n",
            "Epoch 135/200\n",
            "34/34 [==============================] - 0s 2ms/step - loss: 5060.8379 - mean_absolute_error: 5060.8379\n",
            "Epoch 136/200\n",
            "34/34 [==============================] - 0s 2ms/step - loss: 4995.2573 - mean_absolute_error: 4995.2573\n",
            "Epoch 137/200\n",
            "34/34 [==============================] - 0s 1ms/step - loss: 4930.5649 - mean_absolute_error: 4930.5649\n",
            "Epoch 138/200\n",
            "34/34 [==============================] - 0s 2ms/step - loss: 4860.1538 - mean_absolute_error: 4860.1538\n",
            "Epoch 139/200\n",
            "34/34 [==============================] - 0s 2ms/step - loss: 4779.5747 - mean_absolute_error: 4779.5747\n",
            "Epoch 140/200\n",
            "34/34 [==============================] - 0s 2ms/step - loss: 4704.5522 - mean_absolute_error: 4704.5522\n",
            "Epoch 141/200\n",
            "34/34 [==============================] - 0s 2ms/step - loss: 4631.1641 - mean_absolute_error: 4631.1641\n",
            "Epoch 142/200\n",
            "34/34 [==============================] - 0s 2ms/step - loss: 4566.2905 - mean_absolute_error: 4566.2905\n",
            "Epoch 143/200\n",
            "34/34 [==============================] - 0s 2ms/step - loss: 4471.7422 - mean_absolute_error: 4471.7422\n",
            "Epoch 144/200\n",
            "34/34 [==============================] - 0s 2ms/step - loss: 4396.4824 - mean_absolute_error: 4396.4824\n",
            "Epoch 145/200\n",
            "34/34 [==============================] - 0s 2ms/step - loss: 4320.2529 - mean_absolute_error: 4320.2529\n",
            "Epoch 146/200\n",
            "34/34 [==============================] - 0s 2ms/step - loss: 4245.4077 - mean_absolute_error: 4245.4077\n",
            "Epoch 147/200\n",
            "34/34 [==============================] - 0s 1ms/step - loss: 4186.3213 - mean_absolute_error: 4186.3213\n",
            "Epoch 148/200\n",
            "34/34 [==============================] - 0s 2ms/step - loss: 4105.1865 - mean_absolute_error: 4105.1865\n",
            "Epoch 149/200\n",
            "34/34 [==============================] - 0s 2ms/step - loss: 4062.9810 - mean_absolute_error: 4062.9810\n",
            "Epoch 150/200\n",
            "34/34 [==============================] - 0s 2ms/step - loss: 4006.8677 - mean_absolute_error: 4006.8677\n",
            "Epoch 151/200\n",
            "34/34 [==============================] - 0s 2ms/step - loss: 3959.8840 - mean_absolute_error: 3959.8840\n",
            "Epoch 152/200\n",
            "34/34 [==============================] - 0s 2ms/step - loss: 3923.1057 - mean_absolute_error: 3923.1057\n",
            "Epoch 153/200\n",
            "34/34 [==============================] - 0s 2ms/step - loss: 3896.2373 - mean_absolute_error: 3896.2373\n",
            "Epoch 154/200\n",
            "34/34 [==============================] - 0s 2ms/step - loss: 3859.7610 - mean_absolute_error: 3859.7610\n",
            "Epoch 155/200\n",
            "34/34 [==============================] - 0s 2ms/step - loss: 3841.5603 - mean_absolute_error: 3841.5603\n",
            "Epoch 156/200\n",
            "34/34 [==============================] - 0s 2ms/step - loss: 3821.4724 - mean_absolute_error: 3821.4724\n",
            "Epoch 157/200\n",
            "34/34 [==============================] - 0s 2ms/step - loss: 3811.6406 - mean_absolute_error: 3811.6406\n",
            "Epoch 158/200\n",
            "34/34 [==============================] - 0s 2ms/step - loss: 3793.6938 - mean_absolute_error: 3793.6938\n",
            "Epoch 159/200\n",
            "34/34 [==============================] - 0s 2ms/step - loss: 3773.3940 - mean_absolute_error: 3773.3940\n",
            "Epoch 160/200\n",
            "34/34 [==============================] - 0s 2ms/step - loss: 3774.1982 - mean_absolute_error: 3774.1982\n",
            "Epoch 161/200\n",
            "34/34 [==============================] - 0s 2ms/step - loss: 3778.9983 - mean_absolute_error: 3778.9983\n",
            "Epoch 162/200\n",
            "34/34 [==============================] - 0s 2ms/step - loss: 3755.0024 - mean_absolute_error: 3755.0024\n",
            "Epoch 163/200\n",
            "34/34 [==============================] - 0s 2ms/step - loss: 3750.5986 - mean_absolute_error: 3750.5986\n",
            "Epoch 164/200\n",
            "34/34 [==============================] - 0s 2ms/step - loss: 3756.5798 - mean_absolute_error: 3756.5798\n",
            "Epoch 165/200\n",
            "34/34 [==============================] - 0s 2ms/step - loss: 3745.2419 - mean_absolute_error: 3745.2419\n",
            "Epoch 166/200\n",
            "34/34 [==============================] - 0s 2ms/step - loss: 3741.1497 - mean_absolute_error: 3741.1497\n",
            "Epoch 167/200\n",
            "34/34 [==============================] - 0s 2ms/step - loss: 3731.9148 - mean_absolute_error: 3731.9148\n",
            "Epoch 168/200\n",
            "34/34 [==============================] - 0s 2ms/step - loss: 3728.5364 - mean_absolute_error: 3728.5364\n",
            "Epoch 169/200\n",
            "34/34 [==============================] - 0s 1ms/step - loss: 3735.0159 - mean_absolute_error: 3735.0159\n",
            "Epoch 170/200\n",
            "34/34 [==============================] - 0s 2ms/step - loss: 3720.2703 - mean_absolute_error: 3720.2703\n",
            "Epoch 171/200\n",
            "34/34 [==============================] - 0s 2ms/step - loss: 3724.7515 - mean_absolute_error: 3724.7515\n",
            "Epoch 172/200\n",
            "34/34 [==============================] - 0s 1ms/step - loss: 3724.5447 - mean_absolute_error: 3724.5447\n",
            "Epoch 173/200\n",
            "34/34 [==============================] - 0s 1ms/step - loss: 3724.0134 - mean_absolute_error: 3724.0134\n",
            "Epoch 174/200\n",
            "34/34 [==============================] - 0s 2ms/step - loss: 3719.3298 - mean_absolute_error: 3719.3298\n",
            "Epoch 175/200\n",
            "34/34 [==============================] - 0s 2ms/step - loss: 3706.6956 - mean_absolute_error: 3706.6956\n",
            "Epoch 176/200\n",
            "34/34 [==============================] - 0s 1ms/step - loss: 3718.0461 - mean_absolute_error: 3718.0461\n",
            "Epoch 177/200\n",
            "34/34 [==============================] - 0s 2ms/step - loss: 3708.2170 - mean_absolute_error: 3708.2170\n",
            "Epoch 178/200\n",
            "34/34 [==============================] - 0s 2ms/step - loss: 3693.1882 - mean_absolute_error: 3693.1882\n",
            "Epoch 179/200\n",
            "34/34 [==============================] - 0s 2ms/step - loss: 3721.8354 - mean_absolute_error: 3721.8354\n",
            "Epoch 180/200\n",
            "34/34 [==============================] - 0s 2ms/step - loss: 3699.9285 - mean_absolute_error: 3699.9285\n",
            "Epoch 181/200\n",
            "34/34 [==============================] - 0s 1ms/step - loss: 3698.6182 - mean_absolute_error: 3698.6182\n",
            "Epoch 182/200\n",
            "34/34 [==============================] - 0s 2ms/step - loss: 3696.0723 - mean_absolute_error: 3696.0723\n",
            "Epoch 183/200\n",
            "34/34 [==============================] - 0s 2ms/step - loss: 3694.4932 - mean_absolute_error: 3694.4932\n",
            "Epoch 184/200\n",
            "34/34 [==============================] - 0s 2ms/step - loss: 3701.5349 - mean_absolute_error: 3701.5349\n",
            "Epoch 185/200\n",
            "34/34 [==============================] - 0s 2ms/step - loss: 3695.8330 - mean_absolute_error: 3695.8330\n",
            "Epoch 186/200\n",
            "34/34 [==============================] - 0s 2ms/step - loss: 3710.3503 - mean_absolute_error: 3710.3503\n",
            "Epoch 187/200\n",
            "34/34 [==============================] - 0s 2ms/step - loss: 3685.9919 - mean_absolute_error: 3685.9919\n",
            "Epoch 188/200\n",
            "34/34 [==============================] - 0s 2ms/step - loss: 3688.9429 - mean_absolute_error: 3688.9429\n",
            "Epoch 189/200\n",
            "34/34 [==============================] - 0s 2ms/step - loss: 3673.9163 - mean_absolute_error: 3673.9163\n",
            "Epoch 190/200\n",
            "34/34 [==============================] - 0s 2ms/step - loss: 3680.7280 - mean_absolute_error: 3680.7280\n",
            "Epoch 191/200\n",
            "34/34 [==============================] - 0s 1ms/step - loss: 3678.8689 - mean_absolute_error: 3678.8689\n",
            "Epoch 192/200\n",
            "34/34 [==============================] - 0s 2ms/step - loss: 3670.5813 - mean_absolute_error: 3670.5813\n",
            "Epoch 193/200\n",
            "34/34 [==============================] - 0s 2ms/step - loss: 3670.2363 - mean_absolute_error: 3670.2363\n",
            "Epoch 194/200\n",
            "34/34 [==============================] - 0s 2ms/step - loss: 3671.8350 - mean_absolute_error: 3671.8350\n",
            "Epoch 195/200\n",
            "34/34 [==============================] - 0s 1ms/step - loss: 3660.9719 - mean_absolute_error: 3660.9719\n",
            "Epoch 196/200\n",
            "34/34 [==============================] - 0s 2ms/step - loss: 3671.7329 - mean_absolute_error: 3671.7329\n",
            "Epoch 197/200\n",
            "34/34 [==============================] - 0s 2ms/step - loss: 3652.0144 - mean_absolute_error: 3652.0144\n",
            "Epoch 198/200\n",
            "34/34 [==============================] - 0s 2ms/step - loss: 3658.4529 - mean_absolute_error: 3658.4529\n",
            "Epoch 199/200\n",
            "34/34 [==============================] - 0s 2ms/step - loss: 3654.4905 - mean_absolute_error: 3654.4905\n",
            "Epoch 200/200\n",
            "34/34 [==============================] - 0s 2ms/step - loss: 3647.8936 - mean_absolute_error: 3647.8936\n"
          ],
          "name": "stdout"
        }
      ]
    },
    {
      "cell_type": "code",
      "metadata": {
        "colab": {
          "base_uri": "https://localhost:8080/"
        },
        "id": "ZGhRPDOsLcLC",
        "outputId": "f1d05cac-1a62-4028-d219-1a80917d55ef"
      },
      "source": [
        "# Check the results of the insurance model on the test data.\n",
        "insurance_model_3.evaluate(X_test,y_test)"
      ],
      "execution_count": 113,
      "outputs": [
        {
          "output_type": "stream",
          "text": [
            "9/9 [==============================] - 0s 2ms/step - loss: 3443.8203 - mean_absolute_error: 3443.8203\n"
          ],
          "name": "stdout"
        },
        {
          "output_type": "execute_result",
          "data": {
            "text/plain": [
              "[3443.8203125, 3443.8203125]"
            ]
          },
          "metadata": {
            "tags": []
          },
          "execution_count": 113
        }
      ]
    },
    {
      "cell_type": "code",
      "metadata": {
        "colab": {
          "base_uri": "https://localhost:8080/",
          "height": 282
        },
        "id": "1QukmgvdLm9b",
        "outputId": "9a46c59a-10af-4314-ea2a-127362d22bf7"
      },
      "source": [
        "# Plot Loss Curve / Training Curve\n",
        "pd.DataFrame(history.history).plot()\n",
        "plt.ylabel('loss')\n",
        "plt.ylabel('epochs')"
      ],
      "execution_count": 114,
      "outputs": [
        {
          "output_type": "execute_result",
          "data": {
            "text/plain": [
              "Text(0, 0.5, 'epochs')"
            ]
          },
          "metadata": {
            "tags": []
          },
          "execution_count": 114
        },
        {
          "output_type": "display_data",
          "data": {
            "image/png": "[encoded data removed]",
            "text/plain": [
              "<Figure size 432x288 with 1 Axes>"
            ]
          },
          "metadata": {
            "tags": [],
            "needs_background": "light"
          }
        }
      ]
    },
    {
      "cell_type": "code",
      "metadata": {
        "colab": {
          "base_uri": "https://localhost:8080/"
        },
        "id": "8_7skADHMAw8",
        "outputId": "4c942007-461a-4087-a848-ace9d5eedd58"
      },
      "source": [
        " # build a Nureal Network \n",
        "\n",
        " # set random seed \n",
        "tf.random.set_seed(42)\n",
        "\n",
        "# 1. Create a model using the Sequential API : This Groups a Linear Stack of Layers into Model.\n",
        "# Method : 1\n",
        "#-----------\n",
        "insurance_model_4 = tf.keras.Sequential([\n",
        "    tf.keras.layers.Dense(100 ,input_shape=[8,],name='Hidden-layer-1'),\n",
        "    tf.keras.layers.Dense(10 ,name='Hidden-layer-2'),\n",
        "    tf.keras.layers.Dense(1 ,name='Output-layer')\n",
        "], name = 'Model-4')\n",
        "\n",
        "#2. Compile the model\n",
        "insurance_model_4.compile(loss=tf.keras.losses.mae ,# mae -> Mean Absolute Error between Labels and Predictions  : mean(abs(y_true - y_pred))\n",
        "              optimizer = tf.keras.optimizers.Adam(),\n",
        "              metrics =[ tf.keras.losses.mae])\n",
        "\n",
        "# Model Summary\n",
        "insurance_model_4.summary()"
      ],
      "execution_count": 115,
      "outputs": [
        {
          "output_type": "stream",
          "text": [
            "Model: \"Model-4\"\n",
            "_________________________________________________________________\n",
            "Layer (type)                 Output Shape              Param #   \n",
            "=================================================================\n",
            "Hidden-layer-1 (Dense)       (None, 100)               900       \n",
            "_________________________________________________________________\n",
            "Hidden-layer-2 (Dense)       (None, 10)                1010      \n",
            "_________________________________________________________________\n",
            "Output-layer (Dense)         (None, 1)                 11        \n",
            "=================================================================\n",
            "Total params: 1,921\n",
            "Trainable params: 1,921\n",
            "Non-trainable params: 0\n",
            "_________________________________________________________________\n"
          ],
          "name": "stdout"
        }
      ]
    },
    {
      "cell_type": "code",
      "metadata": {
        "colab": {
          "base_uri": "https://localhost:8080/"
        },
        "id": "SwNSlR4ZNDqy",
        "outputId": "2d9af379-db3f-4e4e-c169-b32a279c4437"
      },
      "source": [
        "# Early Stopping\n",
        "callback = tf.keras.callbacks.EarlyStopping(monitor='loss', patience=5)\n",
        "\n",
        "# Fit the Model\n",
        "history=insurance_model_4.fit(X_train,y_train,epochs=500, callbacks=[callback])"
      ],
      "execution_count": 116,
      "outputs": [
        {
          "output_type": "stream",
          "text": [
            "Epoch 1/500\n",
            "34/34 [==============================] - 0s 2ms/step - loss: 13273.5039 - mean_absolute_error: 13273.5039\n",
            "Epoch 2/500\n",
            "34/34 [==============================] - 0s 2ms/step - loss: 13106.1074 - mean_absolute_error: 13106.1074\n",
            "Epoch 3/500\n",
            "34/34 [==============================] - 0s 1ms/step - loss: 12755.9971 - mean_absolute_error: 12755.9971\n",
            "Epoch 4/500\n",
            "34/34 [==============================] - 0s 2ms/step - loss: 12074.5029 - mean_absolute_error: 12074.5029\n",
            "Epoch 5/500\n",
            "34/34 [==============================] - 0s 1ms/step - loss: 10943.2764 - mean_absolute_error: 10943.2764\n",
            "Epoch 6/500\n",
            "34/34 [==============================] - 0s 1ms/step - loss: 9497.8984 - mean_absolute_error: 9497.8984\n",
            "Epoch 7/500\n",
            "34/34 [==============================] - 0s 1ms/step - loss: 8163.3486 - mean_absolute_error: 8163.3486\n",
            "Epoch 8/500\n",
            "34/34 [==============================] - 0s 2ms/step - loss: 7514.0991 - mean_absolute_error: 7514.0991\n",
            "Epoch 9/500\n",
            "34/34 [==============================] - 0s 2ms/step - loss: 7405.3110 - mean_absolute_error: 7405.3110\n",
            "Epoch 10/500\n",
            "34/34 [==============================] - 0s 1ms/step - loss: 7387.0771 - mean_absolute_error: 7387.0771\n",
            "Epoch 11/500\n",
            "34/34 [==============================] - 0s 2ms/step - loss: 7371.7827 - mean_absolute_error: 7371.7827\n",
            "Epoch 12/500\n",
            "34/34 [==============================] - 0s 2ms/step - loss: 7353.2217 - mean_absolute_error: 7353.2217\n",
            "Epoch 13/500\n",
            "34/34 [==============================] - 0s 2ms/step - loss: 7335.2847 - mean_absolute_error: 7335.2847\n",
            "Epoch 14/500\n",
            "34/34 [==============================] - 0s 1ms/step - loss: 7316.5933 - mean_absolute_error: 7316.5933\n",
            "Epoch 15/500\n",
            "34/34 [==============================] - 0s 2ms/step - loss: 7300.5952 - mean_absolute_error: 7300.5952\n",
            "Epoch 16/500\n",
            "34/34 [==============================] - 0s 2ms/step - loss: 7280.9404 - mean_absolute_error: 7280.9404\n",
            "Epoch 17/500\n",
            "34/34 [==============================] - 0s 1ms/step - loss: 7263.7827 - mean_absolute_error: 7263.7827\n",
            "Epoch 18/500\n",
            "34/34 [==============================] - 0s 2ms/step - loss: 7243.7588 - mean_absolute_error: 7243.7588\n",
            "Epoch 19/500\n",
            "34/34 [==============================] - 0s 2ms/step - loss: 7224.9185 - mean_absolute_error: 7224.9185\n",
            "Epoch 20/500\n",
            "34/34 [==============================] - 0s 1ms/step - loss: 7205.0986 - mean_absolute_error: 7205.0986\n",
            "Epoch 21/500\n",
            "34/34 [==============================] - 0s 2ms/step - loss: 7189.0337 - mean_absolute_error: 7189.0337\n",
            "Epoch 22/500\n",
            "34/34 [==============================] - 0s 2ms/step - loss: 7165.8682 - mean_absolute_error: 7165.8682\n",
            "Epoch 23/500\n",
            "34/34 [==============================] - 0s 2ms/step - loss: 7144.9453 - mean_absolute_error: 7144.9453\n",
            "Epoch 24/500\n",
            "34/34 [==============================] - 0s 2ms/step - loss: 7123.8169 - mean_absolute_error: 7123.8169\n",
            "Epoch 25/500\n",
            "34/34 [==============================] - 0s 2ms/step - loss: 7109.7407 - mean_absolute_error: 7109.7407\n",
            "Epoch 26/500\n",
            "34/34 [==============================] - 0s 2ms/step - loss: 7082.4404 - mean_absolute_error: 7082.4404\n",
            "Epoch 27/500\n",
            "34/34 [==============================] - 0s 1ms/step - loss: 7059.3022 - mean_absolute_error: 7059.3022\n",
            "Epoch 28/500\n",
            "34/34 [==============================] - 0s 1ms/step - loss: 7036.2192 - mean_absolute_error: 7036.2192\n",
            "Epoch 29/500\n",
            "34/34 [==============================] - 0s 2ms/step - loss: 7012.7383 - mean_absolute_error: 7012.7383\n",
            "Epoch 30/500\n",
            "34/34 [==============================] - 0s 2ms/step - loss: 6992.3491 - mean_absolute_error: 6992.3491\n",
            "Epoch 31/500\n",
            "34/34 [==============================] - 0s 2ms/step - loss: 6966.9795 - mean_absolute_error: 6966.9795\n",
            "Epoch 32/500\n",
            "34/34 [==============================] - 0s 2ms/step - loss: 6945.2524 - mean_absolute_error: 6945.2524\n",
            "Epoch 33/500\n",
            "34/34 [==============================] - 0s 2ms/step - loss: 6920.1333 - mean_absolute_error: 6920.1333\n",
            "Epoch 34/500\n",
            "34/34 [==============================] - 0s 2ms/step - loss: 6895.7393 - mean_absolute_error: 6895.7393\n",
            "Epoch 35/500\n",
            "34/34 [==============================] - 0s 2ms/step - loss: 6870.2373 - mean_absolute_error: 6870.2373\n",
            "Epoch 36/500\n",
            "34/34 [==============================] - 0s 2ms/step - loss: 6844.0674 - mean_absolute_error: 6844.0674\n",
            "Epoch 37/500\n",
            "34/34 [==============================] - 0s 2ms/step - loss: 6816.7441 - mean_absolute_error: 6816.7441\n",
            "Epoch 38/500\n",
            "34/34 [==============================] - 0s 2ms/step - loss: 6793.3501 - mean_absolute_error: 6793.3501\n",
            "Epoch 39/500\n",
            "34/34 [==============================] - 0s 2ms/step - loss: 6763.6401 - mean_absolute_error: 6763.6401\n",
            "Epoch 40/500\n",
            "34/34 [==============================] - 0s 2ms/step - loss: 6737.6318 - mean_absolute_error: 6737.6318\n",
            "Epoch 41/500\n",
            "34/34 [==============================] - 0s 2ms/step - loss: 6713.1328 - mean_absolute_error: 6713.1328\n",
            "Epoch 42/500\n",
            "34/34 [==============================] - 0s 2ms/step - loss: 6689.7275 - mean_absolute_error: 6689.7275\n",
            "Epoch 43/500\n",
            "34/34 [==============================] - 0s 2ms/step - loss: 6665.1045 - mean_absolute_error: 6665.1045\n",
            "Epoch 44/500\n",
            "34/34 [==============================] - 0s 2ms/step - loss: 6642.7368 - mean_absolute_error: 6642.7368\n",
            "Epoch 45/500\n",
            "34/34 [==============================] - 0s 1ms/step - loss: 6632.0479 - mean_absolute_error: 6632.0479\n",
            "Epoch 46/500\n",
            "34/34 [==============================] - 0s 2ms/step - loss: 6611.3906 - mean_absolute_error: 6611.3906\n",
            "Epoch 47/500\n",
            "34/34 [==============================] - 0s 2ms/step - loss: 6602.2559 - mean_absolute_error: 6602.2559\n",
            "Epoch 48/500\n",
            "34/34 [==============================] - 0s 2ms/step - loss: 6592.1484 - mean_absolute_error: 6592.1484\n",
            "Epoch 49/500\n",
            "34/34 [==============================] - 0s 2ms/step - loss: 6584.3677 - mean_absolute_error: 6584.3677\n",
            "Epoch 50/500\n",
            "34/34 [==============================] - 0s 1ms/step - loss: 6576.1094 - mean_absolute_error: 6576.1094\n",
            "Epoch 51/500\n",
            "34/34 [==============================] - 0s 2ms/step - loss: 6568.2563 - mean_absolute_error: 6568.2563\n",
            "Epoch 52/500\n",
            "34/34 [==============================] - 0s 1ms/step - loss: 6561.6924 - mean_absolute_error: 6561.6924\n",
            "Epoch 53/500\n",
            "34/34 [==============================] - 0s 1ms/step - loss: 6553.8086 - mean_absolute_error: 6553.8086\n",
            "Epoch 54/500\n",
            "34/34 [==============================] - 0s 2ms/step - loss: 6546.1318 - mean_absolute_error: 6546.1318\n",
            "Epoch 55/500\n",
            "34/34 [==============================] - 0s 1ms/step - loss: 6539.3223 - mean_absolute_error: 6539.3223\n",
            "Epoch 56/500\n",
            "34/34 [==============================] - 0s 2ms/step - loss: 6531.9829 - mean_absolute_error: 6531.9829\n",
            "Epoch 57/500\n",
            "34/34 [==============================] - 0s 1ms/step - loss: 6526.4380 - mean_absolute_error: 6526.4380\n",
            "Epoch 58/500\n",
            "34/34 [==============================] - 0s 1ms/step - loss: 6518.7773 - mean_absolute_error: 6518.7773\n",
            "Epoch 59/500\n",
            "34/34 [==============================] - 0s 2ms/step - loss: 6511.3730 - mean_absolute_error: 6511.3730\n",
            "Epoch 60/500\n",
            "34/34 [==============================] - 0s 2ms/step - loss: 6509.1357 - mean_absolute_error: 6509.1357\n",
            "Epoch 61/500\n",
            "34/34 [==============================] - 0s 2ms/step - loss: 6499.7241 - mean_absolute_error: 6499.7241\n",
            "Epoch 62/500\n",
            "34/34 [==============================] - 0s 2ms/step - loss: 6492.8530 - mean_absolute_error: 6492.8530\n",
            "Epoch 63/500\n",
            "34/34 [==============================] - 0s 1ms/step - loss: 6483.7642 - mean_absolute_error: 6483.7642\n",
            "Epoch 64/500\n",
            "34/34 [==============================] - 0s 1ms/step - loss: 6478.3608 - mean_absolute_error: 6478.3608\n",
            "Epoch 65/500\n",
            "34/34 [==============================] - 0s 2ms/step - loss: 6470.3237 - mean_absolute_error: 6470.3237\n",
            "Epoch 66/500\n",
            "34/34 [==============================] - 0s 1ms/step - loss: 6463.1226 - mean_absolute_error: 6463.1226\n",
            "Epoch 67/500\n",
            "34/34 [==============================] - 0s 3ms/step - loss: 6459.2139 - mean_absolute_error: 6459.2139\n",
            "Epoch 68/500\n",
            "34/34 [==============================] - 0s 2ms/step - loss: 6449.1108 - mean_absolute_error: 6449.1108\n",
            "Epoch 69/500\n",
            "34/34 [==============================] - 0s 2ms/step - loss: 6444.0596 - mean_absolute_error: 6444.0596\n",
            "Epoch 70/500\n",
            "34/34 [==============================] - 0s 2ms/step - loss: 6434.9907 - mean_absolute_error: 6434.9907\n",
            "Epoch 71/500\n",
            "34/34 [==============================] - 0s 2ms/step - loss: 6425.5122 - mean_absolute_error: 6425.5122\n",
            "Epoch 72/500\n",
            "34/34 [==============================] - 0s 1ms/step - loss: 6422.8823 - mean_absolute_error: 6422.8823\n",
            "Epoch 73/500\n",
            "34/34 [==============================] - 0s 2ms/step - loss: 6415.4409 - mean_absolute_error: 6415.4409\n",
            "Epoch 74/500\n",
            "34/34 [==============================] - 0s 2ms/step - loss: 6403.8110 - mean_absolute_error: 6403.8110\n",
            "Epoch 75/500\n",
            "34/34 [==============================] - 0s 1ms/step - loss: 6398.0811 - mean_absolute_error: 6398.0811\n",
            "Epoch 76/500\n",
            "34/34 [==============================] - 0s 2ms/step - loss: 6395.2852 - mean_absolute_error: 6395.2852\n",
            "Epoch 77/500\n",
            "34/34 [==============================] - 0s 2ms/step - loss: 6377.2354 - mean_absolute_error: 6377.2354\n",
            "Epoch 78/500\n",
            "34/34 [==============================] - 0s 1ms/step - loss: 6371.3589 - mean_absolute_error: 6371.3589\n",
            "Epoch 79/500\n",
            "34/34 [==============================] - 0s 2ms/step - loss: 6362.0166 - mean_absolute_error: 6362.0166\n",
            "Epoch 80/500\n",
            "34/34 [==============================] - 0s 2ms/step - loss: 6354.7285 - mean_absolute_error: 6354.7285\n",
            "Epoch 81/500\n",
            "34/34 [==============================] - 0s 2ms/step - loss: 6344.7017 - mean_absolute_error: 6344.7017\n",
            "Epoch 82/500\n",
            "34/34 [==============================] - 0s 1ms/step - loss: 6337.2974 - mean_absolute_error: 6337.2974\n",
            "Epoch 83/500\n",
            "34/34 [==============================] - 0s 2ms/step - loss: 6327.6602 - mean_absolute_error: 6327.6602\n",
            "Epoch 84/500\n",
            "34/34 [==============================] - 0s 2ms/step - loss: 6315.6226 - mean_absolute_error: 6315.6226\n",
            "Epoch 85/500\n",
            "34/34 [==============================] - 0s 2ms/step - loss: 6309.0122 - mean_absolute_error: 6309.0122\n",
            "Epoch 86/500\n",
            "34/34 [==============================] - 0s 2ms/step - loss: 6296.7710 - mean_absolute_error: 6296.7710\n",
            "Epoch 87/500\n",
            "34/34 [==============================] - 0s 1ms/step - loss: 6288.2002 - mean_absolute_error: 6288.2002\n",
            "Epoch 88/500\n",
            "34/34 [==============================] - 0s 1ms/step - loss: 6278.0742 - mean_absolute_error: 6278.0742\n",
            "Epoch 89/500\n",
            "34/34 [==============================] - 0s 2ms/step - loss: 6270.0649 - mean_absolute_error: 6270.0649\n",
            "Epoch 90/500\n",
            "34/34 [==============================] - 0s 2ms/step - loss: 6256.3965 - mean_absolute_error: 6256.3965\n",
            "Epoch 91/500\n",
            "34/34 [==============================] - 0s 1ms/step - loss: 6246.1006 - mean_absolute_error: 6246.1006\n",
            "Epoch 92/500\n",
            "34/34 [==============================] - 0s 2ms/step - loss: 6235.3027 - mean_absolute_error: 6235.3027\n",
            "Epoch 93/500\n",
            "34/34 [==============================] - 0s 2ms/step - loss: 6224.5991 - mean_absolute_error: 6224.5991\n",
            "Epoch 94/500\n",
            "34/34 [==============================] - 0s 1ms/step - loss: 6213.3643 - mean_absolute_error: 6213.3643\n",
            "Epoch 95/500\n",
            "34/34 [==============================] - 0s 2ms/step - loss: 6201.0293 - mean_absolute_error: 6201.0293\n",
            "Epoch 96/500\n",
            "34/34 [==============================] - 0s 2ms/step - loss: 6187.8662 - mean_absolute_error: 6187.8662\n",
            "Epoch 97/500\n",
            "34/34 [==============================] - 0s 2ms/step - loss: 6174.3774 - mean_absolute_error: 6174.3774\n",
            "Epoch 98/500\n",
            "34/34 [==============================] - 0s 2ms/step - loss: 6160.3438 - mean_absolute_error: 6160.3438\n",
            "Epoch 99/500\n",
            "34/34 [==============================] - 0s 2ms/step - loss: 6150.5947 - mean_absolute_error: 6150.5947\n",
            "Epoch 100/500\n",
            "34/34 [==============================] - 0s 2ms/step - loss: 6133.2534 - mean_absolute_error: 6133.2534\n",
            "Epoch 101/500\n",
            "34/34 [==============================] - 0s 2ms/step - loss: 6120.2900 - mean_absolute_error: 6120.2900\n",
            "Epoch 102/500\n",
            "34/34 [==============================] - 0s 1ms/step - loss: 6105.8970 - mean_absolute_error: 6105.8970\n",
            "Epoch 103/500\n",
            "34/34 [==============================] - 0s 1ms/step - loss: 6092.1768 - mean_absolute_error: 6092.1768\n",
            "Epoch 104/500\n",
            "34/34 [==============================] - 0s 1ms/step - loss: 6071.0410 - mean_absolute_error: 6071.0410\n",
            "Epoch 105/500\n",
            "34/34 [==============================] - 0s 1ms/step - loss: 6057.6406 - mean_absolute_error: 6057.6406\n",
            "Epoch 106/500\n",
            "34/34 [==============================] - 0s 1ms/step - loss: 6041.9980 - mean_absolute_error: 6041.9980\n",
            "Epoch 107/500\n",
            "34/34 [==============================] - 0s 2ms/step - loss: 6020.7588 - mean_absolute_error: 6020.7588\n",
            "Epoch 108/500\n",
            "34/34 [==============================] - 0s 1ms/step - loss: 6010.5029 - mean_absolute_error: 6010.5029\n",
            "Epoch 109/500\n",
            "34/34 [==============================] - 0s 2ms/step - loss: 5992.0078 - mean_absolute_error: 5992.0078\n",
            "Epoch 110/500\n",
            "34/34 [==============================] - 0s 1ms/step - loss: 5965.2217 - mean_absolute_error: 5965.2217\n",
            "Epoch 111/500\n",
            "34/34 [==============================] - 0s 2ms/step - loss: 5951.8057 - mean_absolute_error: 5951.8057\n",
            "Epoch 112/500\n",
            "34/34 [==============================] - 0s 2ms/step - loss: 5926.8691 - mean_absolute_error: 5926.8691\n",
            "Epoch 113/500\n",
            "34/34 [==============================] - 0s 2ms/step - loss: 5902.1538 - mean_absolute_error: 5902.1538\n",
            "Epoch 114/500\n",
            "34/34 [==============================] - 0s 2ms/step - loss: 5879.5259 - mean_absolute_error: 5879.5259\n",
            "Epoch 115/500\n",
            "34/34 [==============================] - 0s 2ms/step - loss: 5854.6958 - mean_absolute_error: 5854.6958\n",
            "Epoch 116/500\n",
            "34/34 [==============================] - 0s 2ms/step - loss: 5832.1699 - mean_absolute_error: 5832.1699\n",
            "Epoch 117/500\n",
            "34/34 [==============================] - 0s 2ms/step - loss: 5804.0156 - mean_absolute_error: 5804.0156\n",
            "Epoch 118/500\n",
            "34/34 [==============================] - 0s 1ms/step - loss: 5777.6465 - mean_absolute_error: 5777.6465\n",
            "Epoch 119/500\n",
            "34/34 [==============================] - 0s 2ms/step - loss: 5752.6382 - mean_absolute_error: 5752.6382\n",
            "Epoch 120/500\n",
            "34/34 [==============================] - 0s 2ms/step - loss: 5718.1875 - mean_absolute_error: 5718.1875\n",
            "Epoch 121/500\n",
            "34/34 [==============================] - 0s 2ms/step - loss: 5689.9268 - mean_absolute_error: 5689.9268\n",
            "Epoch 122/500\n",
            "34/34 [==============================] - 0s 1ms/step - loss: 5658.0151 - mean_absolute_error: 5658.0151\n",
            "Epoch 123/500\n",
            "34/34 [==============================] - 0s 2ms/step - loss: 5625.5483 - mean_absolute_error: 5625.5483\n",
            "Epoch 124/500\n",
            "34/34 [==============================] - 0s 2ms/step - loss: 5589.8809 - mean_absolute_error: 5589.8809\n",
            "Epoch 125/500\n",
            "34/34 [==============================] - 0s 2ms/step - loss: 5555.1235 - mean_absolute_error: 5555.1235\n",
            "Epoch 126/500\n",
            "34/34 [==============================] - 0s 2ms/step - loss: 5515.4277 - mean_absolute_error: 5515.4277\n",
            "Epoch 127/500\n",
            "34/34 [==============================] - 0s 3ms/step - loss: 5473.3955 - mean_absolute_error: 5473.3955\n",
            "Epoch 128/500\n",
            "34/34 [==============================] - 0s 2ms/step - loss: 5428.9648 - mean_absolute_error: 5428.9648\n",
            "Epoch 129/500\n",
            "34/34 [==============================] - 0s 1ms/step - loss: 5391.3853 - mean_absolute_error: 5391.3853\n",
            "Epoch 130/500\n",
            "34/34 [==============================] - 0s 2ms/step - loss: 5339.6284 - mean_absolute_error: 5339.6284\n",
            "Epoch 131/500\n",
            "34/34 [==============================] - 0s 2ms/step - loss: 5285.7539 - mean_absolute_error: 5285.7539\n",
            "Epoch 132/500\n",
            "34/34 [==============================] - 0s 2ms/step - loss: 5235.9224 - mean_absolute_error: 5235.9224\n",
            "Epoch 133/500\n",
            "34/34 [==============================] - 0s 2ms/step - loss: 5182.7368 - mean_absolute_error: 5182.7368\n",
            "Epoch 134/500\n",
            "34/34 [==============================] - 0s 1ms/step - loss: 5123.8882 - mean_absolute_error: 5123.8882\n",
            "Epoch 135/500\n",
            "34/34 [==============================] - 0s 1ms/step - loss: 5060.8379 - mean_absolute_error: 5060.8379\n",
            "Epoch 136/500\n",
            "34/34 [==============================] - 0s 2ms/step - loss: 4995.2573 - mean_absolute_error: 4995.2573\n",
            "Epoch 137/500\n",
            "34/34 [==============================] - 0s 2ms/step - loss: 4930.5649 - mean_absolute_error: 4930.5649\n",
            "Epoch 138/500\n",
            "34/34 [==============================] - 0s 1ms/step - loss: 4860.1538 - mean_absolute_error: 4860.1538\n",
            "Epoch 139/500\n",
            "34/34 [==============================] - 0s 1ms/step - loss: 4779.5747 - mean_absolute_error: 4779.5747\n",
            "Epoch 140/500\n",
            "34/34 [==============================] - 0s 2ms/step - loss: 4704.5522 - mean_absolute_error: 4704.5522\n",
            "Epoch 141/500\n",
            "34/34 [==============================] - 0s 2ms/step - loss: 4631.1641 - mean_absolute_error: 4631.1641\n",
            "Epoch 142/500\n",
            "34/34 [==============================] - 0s 2ms/step - loss: 4566.2905 - mean_absolute_error: 4566.2905\n",
            "Epoch 143/500\n",
            "34/34 [==============================] - 0s 2ms/step - loss: 4471.7422 - mean_absolute_error: 4471.7422\n",
            "Epoch 144/500\n",
            "34/34 [==============================] - 0s 2ms/step - loss: 4396.4824 - mean_absolute_error: 4396.4824\n",
            "Epoch 145/500\n",
            "34/34 [==============================] - 0s 1ms/step - loss: 4320.2529 - mean_absolute_error: 4320.2529\n",
            "Epoch 146/500\n",
            "34/34 [==============================] - 0s 2ms/step - loss: 4245.4077 - mean_absolute_error: 4245.4077\n",
            "Epoch 147/500\n",
            "34/34 [==============================] - 0s 1ms/step - loss: 4186.3213 - mean_absolute_error: 4186.3213\n",
            "Epoch 148/500\n",
            "34/34 [==============================] - 0s 2ms/step - loss: 4105.1865 - mean_absolute_error: 4105.1865\n",
            "Epoch 149/500\n",
            "34/34 [==============================] - 0s 1ms/step - loss: 4062.9810 - mean_absolute_error: 4062.9810\n",
            "Epoch 150/500\n",
            "34/34 [==============================] - 0s 1ms/step - loss: 4006.8677 - mean_absolute_error: 4006.8677\n",
            "Epoch 151/500\n",
            "34/34 [==============================] - 0s 2ms/step - loss: 3959.8840 - mean_absolute_error: 3959.8840\n",
            "Epoch 152/500\n",
            "34/34 [==============================] - 0s 2ms/step - loss: 3923.1057 - mean_absolute_error: 3923.1057\n",
            "Epoch 153/500\n",
            "34/34 [==============================] - 0s 1ms/step - loss: 3896.2373 - mean_absolute_error: 3896.2373\n",
            "Epoch 154/500\n",
            "34/34 [==============================] - 0s 2ms/step - loss: 3859.7610 - mean_absolute_error: 3859.7610\n",
            "Epoch 155/500\n",
            "34/34 [==============================] - 0s 2ms/step - loss: 3841.5603 - mean_absolute_error: 3841.5603\n",
            "Epoch 156/500\n",
            "34/34 [==============================] - 0s 1ms/step - loss: 3821.4724 - mean_absolute_error: 3821.4724\n",
            "Epoch 157/500\n",
            "34/34 [==============================] - 0s 1ms/step - loss: 3811.6406 - mean_absolute_error: 3811.6406\n",
            "Epoch 158/500\n",
            "34/34 [==============================] - 0s 2ms/step - loss: 3793.6938 - mean_absolute_error: 3793.6938\n",
            "Epoch 159/500\n",
            "34/34 [==============================] - 0s 2ms/step - loss: 3773.3940 - mean_absolute_error: 3773.3940\n",
            "Epoch 160/500\n",
            "34/34 [==============================] - 0s 1ms/step - loss: 3774.1982 - mean_absolute_error: 3774.1982\n",
            "Epoch 161/500\n",
            "34/34 [==============================] - 0s 1ms/step - loss: 3778.9983 - mean_absolute_error: 3778.9983\n",
            "Epoch 162/500\n",
            "34/34 [==============================] - 0s 1ms/step - loss: 3755.0024 - mean_absolute_error: 3755.0024\n",
            "Epoch 163/500\n",
            "34/34 [==============================] - 0s 2ms/step - loss: 3750.5986 - mean_absolute_error: 3750.5986\n",
            "Epoch 164/500\n",
            "34/34 [==============================] - 0s 1ms/step - loss: 3756.5798 - mean_absolute_error: 3756.5798\n",
            "Epoch 165/500\n",
            "34/34 [==============================] - 0s 1ms/step - loss: 3745.2419 - mean_absolute_error: 3745.2419\n",
            "Epoch 166/500\n",
            "34/34 [==============================] - 0s 1ms/step - loss: 3741.1497 - mean_absolute_error: 3741.1497\n",
            "Epoch 167/500\n",
            "34/34 [==============================] - 0s 2ms/step - loss: 3731.9148 - mean_absolute_error: 3731.9148\n",
            "Epoch 168/500\n",
            "34/34 [==============================] - 0s 1ms/step - loss: 3728.5364 - mean_absolute_error: 3728.5364\n",
            "Epoch 169/500\n",
            "34/34 [==============================] - 0s 2ms/step - loss: 3735.0159 - mean_absolute_error: 3735.0159\n",
            "Epoch 170/500\n",
            "34/34 [==============================] - 0s 1ms/step - loss: 3720.2703 - mean_absolute_error: 3720.2703\n",
            "Epoch 171/500\n",
            "34/34 [==============================] - 0s 3ms/step - loss: 3724.7515 - mean_absolute_error: 3724.7515\n",
            "Epoch 172/500\n",
            "34/34 [==============================] - 0s 2ms/step - loss: 3724.5447 - mean_absolute_error: 3724.5447\n",
            "Epoch 173/500\n",
            "34/34 [==============================] - 0s 2ms/step - loss: 3724.0134 - mean_absolute_error: 3724.0134\n",
            "Epoch 174/500\n",
            "34/34 [==============================] - 0s 2ms/step - loss: 3719.3298 - mean_absolute_error: 3719.3298\n",
            "Epoch 175/500\n",
            "34/34 [==============================] - 0s 1ms/step - loss: 3706.6956 - mean_absolute_error: 3706.6956\n",
            "Epoch 176/500\n",
            "34/34 [==============================] - 0s 2ms/step - loss: 3718.0461 - mean_absolute_error: 3718.0461\n",
            "Epoch 177/500\n",
            "34/34 [==============================] - 0s 2ms/step - loss: 3708.2170 - mean_absolute_error: 3708.2170\n",
            "Epoch 178/500\n",
            "34/34 [==============================] - 0s 2ms/step - loss: 3693.1882 - mean_absolute_error: 3693.1882\n",
            "Epoch 179/500\n",
            "34/34 [==============================] - 0s 2ms/step - loss: 3721.8354 - mean_absolute_error: 3721.8354\n",
            "Epoch 180/500\n",
            "34/34 [==============================] - 0s 2ms/step - loss: 3699.9285 - mean_absolute_error: 3699.9285\n",
            "Epoch 181/500\n",
            "34/34 [==============================] - 0s 2ms/step - loss: 3698.6182 - mean_absolute_error: 3698.6182\n",
            "Epoch 182/500\n",
            "34/34 [==============================] - 0s 2ms/step - loss: 3696.0723 - mean_absolute_error: 3696.0723\n",
            "Epoch 183/500\n",
            "34/34 [==============================] - 0s 2ms/step - loss: 3694.4932 - mean_absolute_error: 3694.4932\n"
          ],
          "name": "stdout"
        }
      ]
    },
    {
      "cell_type": "code",
      "metadata": {
        "colab": {
          "base_uri": "https://localhost:8080/"
        },
        "id": "H_XuCi3FNUla",
        "outputId": "5baf9c7f-dcb3-47a0-9499-e52450420c68"
      },
      "source": [
        "# Check the results of the insurance model on the test data.\n",
        "insurance_model_4.evaluate(X_test,y_test)"
      ],
      "execution_count": 117,
      "outputs": [
        {
          "output_type": "stream",
          "text": [
            "9/9 [==============================] - 0s 2ms/step - loss: 3504.0327 - mean_absolute_error: 3504.0327\n"
          ],
          "name": "stdout"
        },
        {
          "output_type": "execute_result",
          "data": {
            "text/plain": [
              "[3504.03271484375, 3504.03271484375]"
            ]
          },
          "metadata": {
            "tags": []
          },
          "execution_count": 117
        }
      ]
    },
    {
      "cell_type": "code",
      "metadata": {
        "colab": {
          "base_uri": "https://localhost:8080/",
          "height": 282
        },
        "id": "734ETcYiNe6o",
        "outputId": "39c848e6-3e48-4583-d47f-16696d1f9b08"
      },
      "source": [
        "# Plot Loss Curve / Training Curve\n",
        "pd.DataFrame(history.history).plot()\n",
        "plt.ylabel('loss')\n",
        "plt.ylabel('epochs')"
      ],
      "execution_count": 118,
      "outputs": [
        {
          "output_type": "execute_result",
          "data": {
            "text/plain": [
              "Text(0, 0.5, 'epochs')"
            ]
          },
          "metadata": {
            "tags": []
          },
          "execution_count": 118
        },
        {
          "output_type": "display_data",
          "data": {
            "image/png": "[encoded data removed]",
            "text/plain": [
              "<Figure size 432x288 with 1 Axes>"
            ]
          },
          "metadata": {
            "tags": [],
            "needs_background": "light"
          }
        }
      ]
    },
    {
      "cell_type": "markdown",
      "metadata": {
        "id": "jpjLYeEwNhii"
      },
      "source": [
        "#### Preprocessing Data (normalization and standarziation)\n",
        "\n",
        "In terms of Scalling values, nueral networks tend to prefer normalization. If we are not sure we can try both and see which is better."
      ]
    },
    {
      "cell_type": "code",
      "metadata": {
        "colab": {
          "base_uri": "https://localhost:8080/",
          "height": 282
        },
        "id": "aSGX8WNMN-Kh",
        "outputId": "da30e9b6-8ff4-4cc1-b67a-f9b8b1d2b3bf"
      },
      "source": [
        "X['age'].plot(kind='hist')"
      ],
      "execution_count": 119,
      "outputs": [
        {
          "output_type": "execute_result",
          "data": {
            "text/plain": [
              "<matplotlib.axes._subplots.AxesSubplot at 0x7f44480ce0d0>"
            ]
          },
          "metadata": {
            "tags": []
          },
          "execution_count": 119
        },
        {
          "output_type": "display_data",
          "data": {
            "image/png": "[encoded data removed]",
            "text/plain": [
              "<Figure size 432x288 with 1 Axes>"
            ]
          },
          "metadata": {
            "tags": [],
            "needs_background": "light"
          }
        }
      ]
    },
    {
      "cell_type": "code",
      "metadata": {
        "colab": {
          "base_uri": "https://localhost:8080/",
          "height": 282
        },
        "id": "dTDJEui-OKff",
        "outputId": "83dc3280-2dec-464b-d0eb-d936b50b835e"
      },
      "source": [
        "X['bmi'].plot(kind='hist')"
      ],
      "execution_count": 120,
      "outputs": [
        {
          "output_type": "execute_result",
          "data": {
            "text/plain": [
              "<matplotlib.axes._subplots.AxesSubplot at 0x7f444d8fe8d0>"
            ]
          },
          "metadata": {
            "tags": []
          },
          "execution_count": 120
        },
        {
          "output_type": "display_data",
          "data": {
            "image/png": "[encoded data removed]",
            "text/plain": [
              "<Figure size 432x288 with 1 Axes>"
            ]
          },
          "metadata": {
            "tags": [],
            "needs_background": "light"
          }
        }
      ]
    },
    {
      "cell_type": "code",
      "metadata": {
        "colab": {
          "base_uri": "https://localhost:8080/",
          "height": 419
        },
        "id": "sAzFJCEZOMlI",
        "outputId": "d837a321-bb50-4fb0-cbae-32f7788bd8b4"
      },
      "source": [
        "import tensorflow as tf\n",
        "import pandas as pd\n",
        "import matplotlib.pyplot as plt\n",
        "\n",
        "insurance = pd.read_csv('https://raw.githubusercontent.com/stedy/Machine-Learning-with-R-datasets/master/insurance.csv')\n",
        "insurance"
      ],
      "execution_count": 123,
      "outputs": [
        {
          "output_type": "execute_result",
          "data": {
            "text/html": [
              "<div>\n",
              "<style scoped>\n",
              "    .dataframe tbody tr th:only-of-type {\n",
              "        vertical-align: middle;\n",
              "    }\n",
              "\n",
              "    .dataframe tbody tr th {\n",
              "        vertical-align: top;\n",
              "    }\n",
              "\n",
              "    .dataframe thead th {\n",
              "        text-align: right;\n",
              "    }\n",
              "</style>\n",
              "<table border=\"1\" class=\"dataframe\">\n",
              "  <thead>\n",
              "    <tr style=\"text-align: right;\">\n",
              "      <th></th>\n",
              "      <th>age</th>\n",
              "      <th>sex</th>\n",
              "      <th>bmi</th>\n",
              "      <th>children</th>\n",
              "      <th>smoker</th>\n",
              "      <th>region</th>\n",
              "      <th>charges</th>\n",
              "    </tr>\n",
              "  </thead>\n",
              "  <tbody>\n",
              "    <tr>\n",
              "      <th>0</th>\n",
              "      <td>19</td>\n",
              "      <td>female</td>\n",
              "      <td>27.900</td>\n",
              "      <td>0</td>\n",
              "      <td>yes</td>\n",
              "      <td>southwest</td>\n",
              "      <td>16884.92400</td>\n",
              "    </tr>\n",
              "    <tr>\n",
              "      <th>1</th>\n",
              "      <td>18</td>\n",
              "      <td>male</td>\n",
              "      <td>33.770</td>\n",
              "      <td>1</td>\n",
              "      <td>no</td>\n",
              "      <td>southeast</td>\n",
              "      <td>1725.55230</td>\n",
              "    </tr>\n",
              "    <tr>\n",
              "      <th>2</th>\n",
              "      <td>28</td>\n",
              "      <td>male</td>\n",
              "      <td>33.000</td>\n",
              "      <td>3</td>\n",
              "      <td>no</td>\n",
              "      <td>southeast</td>\n",
              "      <td>4449.46200</td>\n",
              "    </tr>\n",
              "    <tr>\n",
              "      <th>3</th>\n",
              "      <td>33</td>\n",
              "      <td>male</td>\n",
              "      <td>22.705</td>\n",
              "      <td>0</td>\n",
              "      <td>no</td>\n",
              "      <td>northwest</td>\n",
              "      <td>21984.47061</td>\n",
              "    </tr>\n",
              "    <tr>\n",
              "      <th>4</th>\n",
              "      <td>32</td>\n",
              "      <td>male</td>\n",
              "      <td>28.880</td>\n",
              "      <td>0</td>\n",
              "      <td>no</td>\n",
              "      <td>northwest</td>\n",
              "      <td>3866.85520</td>\n",
              "    </tr>\n",
              "    <tr>\n",
              "      <th>...</th>\n",
              "      <td>...</td>\n",
              "      <td>...</td>\n",
              "      <td>...</td>\n",
              "      <td>...</td>\n",
              "      <td>...</td>\n",
              "      <td>...</td>\n",
              "      <td>...</td>\n",
              "    </tr>\n",
              "    <tr>\n",
              "      <th>1333</th>\n",
              "      <td>50</td>\n",
              "      <td>male</td>\n",
              "      <td>30.970</td>\n",
              "      <td>3</td>\n",
              "      <td>no</td>\n",
              "      <td>northwest</td>\n",
              "      <td>10600.54830</td>\n",
              "    </tr>\n",
              "    <tr>\n",
              "      <th>1334</th>\n",
              "      <td>18</td>\n",
              "      <td>female</td>\n",
              "      <td>31.920</td>\n",
              "      <td>0</td>\n",
              "      <td>no</td>\n",
              "      <td>northeast</td>\n",
              "      <td>2205.98080</td>\n",
              "    </tr>\n",
              "    <tr>\n",
              "      <th>1335</th>\n",
              "      <td>18</td>\n",
              "      <td>female</td>\n",
              "      <td>36.850</td>\n",
              "      <td>0</td>\n",
              "      <td>no</td>\n",
              "      <td>southeast</td>\n",
              "      <td>1629.83350</td>\n",
              "    </tr>\n",
              "    <tr>\n",
              "      <th>1336</th>\n",
              "      <td>21</td>\n",
              "      <td>female</td>\n",
              "      <td>25.800</td>\n",
              "      <td>0</td>\n",
              "      <td>no</td>\n",
              "      <td>southwest</td>\n",
              "      <td>2007.94500</td>\n",
              "    </tr>\n",
              "    <tr>\n",
              "      <th>1337</th>\n",
              "      <td>61</td>\n",
              "      <td>female</td>\n",
              "      <td>29.070</td>\n",
              "      <td>0</td>\n",
              "      <td>yes</td>\n",
              "      <td>northwest</td>\n",
              "      <td>29141.36030</td>\n",
              "    </tr>\n",
              "  </tbody>\n",
              "</table>\n",
              "<p>1338 rows × 7 columns</p>\n",
              "</div>"
            ],
            "text/plain": [
              "      age     sex     bmi  children smoker     region      charges\n",
              "0      19  female  27.900         0    yes  southwest  16884.92400\n",
              "1      18    male  33.770         1     no  southeast   1725.55230\n",
              "2      28    male  33.000         3     no  southeast   4449.46200\n",
              "3      33    male  22.705         0     no  northwest  21984.47061\n",
              "4      32    male  28.880         0     no  northwest   3866.85520\n",
              "...   ...     ...     ...       ...    ...        ...          ...\n",
              "1333   50    male  30.970         3     no  northwest  10600.54830\n",
              "1334   18  female  31.920         0     no  northeast   2205.98080\n",
              "1335   18  female  36.850         0     no  southeast   1629.83350\n",
              "1336   21  female  25.800         0     no  southwest   2007.94500\n",
              "1337   61  female  29.070         0    yes  northwest  29141.36030\n",
              "\n",
              "[1338 rows x 7 columns]"
            ]
          },
          "metadata": {
            "tags": []
          },
          "execution_count": 123
        }
      ]
    },
    {
      "cell_type": "code",
      "metadata": {
        "colab": {
          "base_uri": "https://localhost:8080/"
        },
        "id": "XNso92LXQSuS",
        "outputId": "9ae7ff71-dda9-4d2a-8224-f29ab8e7200e"
      },
      "source": [
        "from sklearn.compose import make_column_transformer\n",
        "from sklearn.preprocessing import MinMaxScaler , OneHotEncoder\n",
        "\n",
        "ct = make_column_transformer((MinMaxScaler() , [\"age\",\"bmi\",\"children\"]),\n",
        "                             (OneHotEncoder(drop='first'),[\"sex\",\"smoker\",\"region\"]))\n",
        "\n",
        "# Create X and y \n",
        "X = insurance.drop(\"charges\",axis=1)\n",
        "y= insurance['charges']\n",
        "\n",
        "\n",
        "# Create training and Test Set\n",
        "from sklearn.model_selection import train_test_split\n",
        "X_train,X_test,y_train,y_test=train_test_split(X,y,test_size=0.2,random_state=42)\n",
        "\n",
        "ct.fit(X_train)"
      ],
      "execution_count": 128,
      "outputs": [
        {
          "output_type": "execute_result",
          "data": {
            "text/plain": [
              "ColumnTransformer(n_jobs=None, remainder='drop', sparse_threshold=0.3,\n",
              "                  transformer_weights=None,\n",
              "                  transformers=[('minmaxscaler',\n",
              "                                 MinMaxScaler(copy=True, feature_range=(0, 1)),\n",
              "                                 ['age', 'bmi', 'children']),\n",
              "                                ('onehotencoder',\n",
              "                                 OneHotEncoder(categories='auto', drop='first',\n",
              "                                               dtype=<class 'numpy.float64'>,\n",
              "                                               handle_unknown='error',\n",
              "                                               sparse=True),\n",
              "                                 ['sex', 'smoker', 'region'])],\n",
              "                  verbose=False)"
            ]
          },
          "metadata": {
            "tags": []
          },
          "execution_count": 128
        }
      ]
    },
    {
      "cell_type": "code",
      "metadata": {
        "id": "PCFObBlUQ9En"
      },
      "source": [
        "# transforming the Test an dTrain Data with Normalization and OneHotEncoding\n",
        "X_train_normal=ct.transform(X_train)\n",
        "X_test_normal=ct.transform(X_test)"
      ],
      "execution_count": 129,
      "outputs": []
    },
    {
      "cell_type": "code",
      "metadata": {
        "colab": {
          "base_uri": "https://localhost:8080/"
        },
        "id": "tM00vK1sSMCp",
        "outputId": "bae78bb2-b872-4af7-b331-c0a551e70889"
      },
      "source": [
        " # build a Nureal Network \n",
        "\n",
        " # set random seed \n",
        "tf.random.set_seed(42)\n",
        "\n",
        "# 1. Create a model using the Sequential API : This Groups a Linear Stack of Layers into Model.\n",
        "# Method : 1\n",
        "#-----------\n",
        "insurance_model_5 = tf.keras.Sequential([\n",
        "    tf.keras.layers.Dense(100 ,input_shape=[8,],name='Hidden-layer-1'),\n",
        "    tf.keras.layers.Dense(10 ,name='Hidden-layer-2'),\n",
        "    tf.keras.layers.Dense(1 ,name='Output-layer')\n",
        "], name = 'Model-5')\n",
        "\n",
        "#2. Compile the model\n",
        "insurance_model_5.compile(loss=tf.keras.losses.mae ,# mae -> Mean Absolute Error between Labels and Predictions  : mean(abs(y_true - y_pred))\n",
        "              optimizer = tf.keras.optimizers.Adam(),\n",
        "              metrics =[ tf.keras.losses.mae])\n",
        "\n",
        "# Model Summary\n",
        "insurance_model_5.summary()"
      ],
      "execution_count": 132,
      "outputs": [
        {
          "output_type": "stream",
          "text": [
            "Model: \"Model-5\"\n",
            "_________________________________________________________________\n",
            "Layer (type)                 Output Shape              Param #   \n",
            "=================================================================\n",
            "Hidden-layer-1 (Dense)       (None, 100)               900       \n",
            "_________________________________________________________________\n",
            "Hidden-layer-2 (Dense)       (None, 10)                1010      \n",
            "_________________________________________________________________\n",
            "Output-layer (Dense)         (None, 1)                 11        \n",
            "=================================================================\n",
            "Total params: 1,921\n",
            "Trainable params: 1,921\n",
            "Non-trainable params: 0\n",
            "_________________________________________________________________\n"
          ],
          "name": "stdout"
        }
      ]
    },
    {
      "cell_type": "code",
      "metadata": {
        "colab": {
          "base_uri": "https://localhost:8080/"
        },
        "id": "VMzkPTL3SYHY",
        "outputId": "82ff8145-e67b-40e5-bae5-f8ac8250c35b"
      },
      "source": [
        "# Early Stopping\n",
        "callback = tf.keras.callbacks.EarlyStopping(monitor='loss', patience=5)\n",
        "\n",
        "# Fit the Model\n",
        "history=insurance_model_5.fit(X_train_normal,y_train,epochs=500, callbacks=[callback])"
      ],
      "execution_count": 133,
      "outputs": [
        {
          "output_type": "stream",
          "text": [
            "Epoch 1/500\n",
            "34/34 [==============================] - 0s 1ms/step - loss: 13343.9199 - mean_absolute_error: 13343.9199\n",
            "Epoch 2/500\n",
            "34/34 [==============================] - 0s 1ms/step - loss: 13337.6611 - mean_absolute_error: 13337.6611\n",
            "Epoch 3/500\n",
            "34/34 [==============================] - 0s 2ms/step - loss: 13322.7861 - mean_absolute_error: 13322.7861\n",
            "Epoch 4/500\n",
            "34/34 [==============================] - 0s 2ms/step - loss: 13292.0859 - mean_absolute_error: 13292.0859\n",
            "Epoch 5/500\n",
            "34/34 [==============================] - 0s 2ms/step - loss: 13237.9189 - mean_absolute_error: 13237.9189\n",
            "Epoch 6/500\n",
            "34/34 [==============================] - 0s 1ms/step - loss: 13152.6719 - mean_absolute_error: 13152.6719\n",
            "Epoch 7/500\n",
            "34/34 [==============================] - 0s 2ms/step - loss: 13028.9424 - mean_absolute_error: 13028.9424\n",
            "Epoch 8/500\n",
            "34/34 [==============================] - 0s 1ms/step - loss: 12859.5605 - mean_absolute_error: 12859.5605\n",
            "Epoch 9/500\n",
            "34/34 [==============================] - 0s 1ms/step - loss: 12638.0469 - mean_absolute_error: 12638.0469\n",
            "Epoch 10/500\n",
            "34/34 [==============================] - 0s 1ms/step - loss: 12357.0322 - mean_absolute_error: 12357.0322\n",
            "Epoch 11/500\n",
            "34/34 [==============================] - 0s 1ms/step - loss: 12017.0986 - mean_absolute_error: 12017.0986\n",
            "Epoch 12/500\n",
            "34/34 [==============================] - 0s 2ms/step - loss: 11620.7129 - mean_absolute_error: 11620.7129\n",
            "Epoch 13/500\n",
            "34/34 [==============================] - 0s 1ms/step - loss: 11181.6201 - mean_absolute_error: 11181.6201\n",
            "Epoch 14/500\n",
            "34/34 [==============================] - 0s 1ms/step - loss: 10713.3105 - mean_absolute_error: 10713.3105\n",
            "Epoch 15/500\n",
            "34/34 [==============================] - 0s 1ms/step - loss: 10237.2549 - mean_absolute_error: 10237.2549\n",
            "Epoch 16/500\n",
            "34/34 [==============================] - 0s 1ms/step - loss: 9750.0996 - mean_absolute_error: 9750.0996\n",
            "Epoch 17/500\n",
            "34/34 [==============================] - 0s 1ms/step - loss: 9283.6416 - mean_absolute_error: 9283.6416\n",
            "Epoch 18/500\n",
            "34/34 [==============================] - 0s 1ms/step - loss: 8853.1377 - mean_absolute_error: 8853.1377\n",
            "Epoch 19/500\n",
            "34/34 [==============================] - 0s 1ms/step - loss: 8485.4873 - mean_absolute_error: 8485.4873\n",
            "Epoch 20/500\n",
            "34/34 [==============================] - 0s 2ms/step - loss: 8192.4238 - mean_absolute_error: 8192.4238\n",
            "Epoch 21/500\n",
            "34/34 [==============================] - 0s 2ms/step - loss: 7947.4160 - mean_absolute_error: 7947.4160\n",
            "Epoch 22/500\n",
            "34/34 [==============================] - 0s 1ms/step - loss: 7767.1045 - mean_absolute_error: 7767.1045\n",
            "Epoch 23/500\n",
            "34/34 [==============================] - 0s 1ms/step - loss: 7632.7261 - mean_absolute_error: 7632.7261\n",
            "Epoch 24/500\n",
            "34/34 [==============================] - 0s 1ms/step - loss: 7520.6592 - mean_absolute_error: 7520.6592\n",
            "Epoch 25/500\n",
            "34/34 [==============================] - 0s 1ms/step - loss: 7452.4448 - mean_absolute_error: 7452.4448\n",
            "Epoch 26/500\n",
            "34/34 [==============================] - 0s 2ms/step - loss: 7381.2446 - mean_absolute_error: 7381.2446\n",
            "Epoch 27/500\n",
            "34/34 [==============================] - 0s 2ms/step - loss: 7329.4932 - mean_absolute_error: 7329.4932\n",
            "Epoch 28/500\n",
            "34/34 [==============================] - 0s 1ms/step - loss: 7282.7217 - mean_absolute_error: 7282.7217\n",
            "Epoch 29/500\n",
            "34/34 [==============================] - 0s 1ms/step - loss: 7238.8193 - mean_absolute_error: 7238.8193\n",
            "Epoch 30/500\n",
            "34/34 [==============================] - 0s 2ms/step - loss: 7197.2891 - mean_absolute_error: 7197.2891\n",
            "Epoch 31/500\n",
            "34/34 [==============================] - 0s 2ms/step - loss: 7156.2881 - mean_absolute_error: 7156.2881\n",
            "Epoch 32/500\n",
            "34/34 [==============================] - 0s 2ms/step - loss: 7115.8398 - mean_absolute_error: 7115.8398\n",
            "Epoch 33/500\n",
            "34/34 [==============================] - 0s 1ms/step - loss: 7074.6934 - mean_absolute_error: 7074.6934\n",
            "Epoch 34/500\n",
            "34/34 [==============================] - 0s 1ms/step - loss: 7031.4868 - mean_absolute_error: 7031.4868\n",
            "Epoch 35/500\n",
            "34/34 [==============================] - 0s 1ms/step - loss: 6990.0542 - mean_absolute_error: 6990.0542\n",
            "Epoch 36/500\n",
            "34/34 [==============================] - 0s 1ms/step - loss: 6946.8823 - mean_absolute_error: 6946.8823\n",
            "Epoch 37/500\n",
            "34/34 [==============================] - 0s 2ms/step - loss: 6903.6738 - mean_absolute_error: 6903.6738\n",
            "Epoch 38/500\n",
            "34/34 [==============================] - 0s 2ms/step - loss: 6860.2012 - mean_absolute_error: 6860.2012\n",
            "Epoch 39/500\n",
            "34/34 [==============================] - 0s 1ms/step - loss: 6814.1719 - mean_absolute_error: 6814.1719\n",
            "Epoch 40/500\n",
            "34/34 [==============================] - 0s 1ms/step - loss: 6768.4692 - mean_absolute_error: 6768.4692\n",
            "Epoch 41/500\n",
            "34/34 [==============================] - 0s 1ms/step - loss: 6721.4756 - mean_absolute_error: 6721.4756\n",
            "Epoch 42/500\n",
            "34/34 [==============================] - 0s 2ms/step - loss: 6673.7031 - mean_absolute_error: 6673.7031\n",
            "Epoch 43/500\n",
            "34/34 [==============================] - 0s 2ms/step - loss: 6622.7451 - mean_absolute_error: 6622.7451\n",
            "Epoch 44/500\n",
            "34/34 [==============================] - 0s 1ms/step - loss: 6572.4604 - mean_absolute_error: 6572.4604\n",
            "Epoch 45/500\n",
            "34/34 [==============================] - 0s 1ms/step - loss: 6520.0713 - mean_absolute_error: 6520.0713\n",
            "Epoch 46/500\n",
            "34/34 [==============================] - 0s 2ms/step - loss: 6467.1338 - mean_absolute_error: 6467.1338\n",
            "Epoch 47/500\n",
            "34/34 [==============================] - 0s 2ms/step - loss: 6412.9165 - mean_absolute_error: 6412.9165\n",
            "Epoch 48/500\n",
            "34/34 [==============================] - 0s 2ms/step - loss: 6352.9399 - mean_absolute_error: 6352.9399\n",
            "Epoch 49/500\n",
            "34/34 [==============================] - 0s 1ms/step - loss: 6293.8999 - mean_absolute_error: 6293.8999\n",
            "Epoch 50/500\n",
            "34/34 [==============================] - 0s 1ms/step - loss: 6230.4351 - mean_absolute_error: 6230.4351\n",
            "Epoch 51/500\n",
            "34/34 [==============================] - 0s 2ms/step - loss: 6167.4893 - mean_absolute_error: 6167.4893\n",
            "Epoch 52/500\n",
            "34/34 [==============================] - 0s 1ms/step - loss: 6100.0498 - mean_absolute_error: 6100.0498\n",
            "Epoch 53/500\n",
            "34/34 [==============================] - 0s 1ms/step - loss: 6030.0815 - mean_absolute_error: 6030.0815\n",
            "Epoch 54/500\n",
            "34/34 [==============================] - 0s 2ms/step - loss: 5959.3555 - mean_absolute_error: 5959.3555\n",
            "Epoch 55/500\n",
            "34/34 [==============================] - 0s 2ms/step - loss: 5885.5322 - mean_absolute_error: 5885.5322\n",
            "Epoch 56/500\n",
            "34/34 [==============================] - 0s 1ms/step - loss: 5809.0840 - mean_absolute_error: 5809.0840\n",
            "Epoch 57/500\n",
            "34/34 [==============================] - 0s 2ms/step - loss: 5729.6216 - mean_absolute_error: 5729.6216\n",
            "Epoch 58/500\n",
            "34/34 [==============================] - 0s 2ms/step - loss: 5647.5005 - mean_absolute_error: 5647.5005\n",
            "Epoch 59/500\n",
            "34/34 [==============================] - 0s 1ms/step - loss: 5564.7866 - mean_absolute_error: 5564.7866\n",
            "Epoch 60/500\n",
            "34/34 [==============================] - 0s 1ms/step - loss: 5477.5303 - mean_absolute_error: 5477.5303\n",
            "Epoch 61/500\n",
            "34/34 [==============================] - 0s 2ms/step - loss: 5386.8208 - mean_absolute_error: 5386.8208\n",
            "Epoch 62/500\n",
            "34/34 [==============================] - 0s 2ms/step - loss: 5293.2021 - mean_absolute_error: 5293.2021\n",
            "Epoch 63/500\n",
            "34/34 [==============================] - 0s 2ms/step - loss: 5201.1035 - mean_absolute_error: 5201.1035\n",
            "Epoch 64/500\n",
            "34/34 [==============================] - 0s 1ms/step - loss: 5102.0874 - mean_absolute_error: 5102.0874\n",
            "Epoch 65/500\n",
            "34/34 [==============================] - 0s 2ms/step - loss: 5003.1782 - mean_absolute_error: 5003.1782\n",
            "Epoch 66/500\n",
            "34/34 [==============================] - 0s 2ms/step - loss: 4900.7529 - mean_absolute_error: 4900.7529\n",
            "Epoch 67/500\n",
            "34/34 [==============================] - 0s 2ms/step - loss: 4799.7148 - mean_absolute_error: 4799.7148\n",
            "Epoch 68/500\n",
            "34/34 [==============================] - 0s 2ms/step - loss: 4697.7612 - mean_absolute_error: 4697.7612\n",
            "Epoch 69/500\n",
            "34/34 [==============================] - 0s 2ms/step - loss: 4595.0503 - mean_absolute_error: 4595.0503\n",
            "Epoch 70/500\n",
            "34/34 [==============================] - 0s 1ms/step - loss: 4492.5308 - mean_absolute_error: 4492.5308\n",
            "Epoch 71/500\n",
            "34/34 [==============================] - 0s 1ms/step - loss: 4392.8003 - mean_absolute_error: 4392.8003\n",
            "Epoch 72/500\n",
            "34/34 [==============================] - 0s 1ms/step - loss: 4296.2031 - mean_absolute_error: 4296.2031\n",
            "Epoch 73/500\n",
            "34/34 [==============================] - 0s 2ms/step - loss: 4204.5781 - mean_absolute_error: 4204.5781\n",
            "Epoch 74/500\n",
            "34/34 [==============================] - 0s 1ms/step - loss: 4117.1909 - mean_absolute_error: 4117.1909\n",
            "Epoch 75/500\n",
            "34/34 [==============================] - 0s 2ms/step - loss: 4039.6426 - mean_absolute_error: 4039.6426\n",
            "Epoch 76/500\n",
            "34/34 [==============================] - 0s 2ms/step - loss: 3969.6570 - mean_absolute_error: 3969.6570\n",
            "Epoch 77/500\n",
            "34/34 [==============================] - 0s 2ms/step - loss: 3905.7488 - mean_absolute_error: 3905.7488\n",
            "Epoch 78/500\n",
            "34/34 [==============================] - 0s 2ms/step - loss: 3855.5244 - mean_absolute_error: 3855.5244\n",
            "Epoch 79/500\n",
            "34/34 [==============================] - 0s 2ms/step - loss: 3813.1033 - mean_absolute_error: 3813.1033\n",
            "Epoch 80/500\n",
            "34/34 [==============================] - 0s 2ms/step - loss: 3778.0984 - mean_absolute_error: 3778.0984\n",
            "Epoch 81/500\n",
            "34/34 [==============================] - 0s 1ms/step - loss: 3751.6079 - mean_absolute_error: 3751.6079\n",
            "Epoch 82/500\n",
            "34/34 [==============================] - 0s 1ms/step - loss: 3737.1277 - mean_absolute_error: 3737.1277\n",
            "Epoch 83/500\n",
            "34/34 [==============================] - 0s 1ms/step - loss: 3726.5171 - mean_absolute_error: 3726.5171\n",
            "Epoch 84/500\n",
            "34/34 [==============================] - 0s 2ms/step - loss: 3719.9534 - mean_absolute_error: 3719.9534\n",
            "Epoch 85/500\n",
            "34/34 [==============================] - 0s 2ms/step - loss: 3715.9233 - mean_absolute_error: 3715.9233\n",
            "Epoch 86/500\n",
            "34/34 [==============================] - 0s 2ms/step - loss: 3711.7095 - mean_absolute_error: 3711.7095\n",
            "Epoch 87/500\n",
            "34/34 [==============================] - 0s 2ms/step - loss: 3708.3577 - mean_absolute_error: 3708.3577\n",
            "Epoch 88/500\n",
            "34/34 [==============================] - 0s 2ms/step - loss: 3705.8643 - mean_absolute_error: 3705.8643\n",
            "Epoch 89/500\n",
            "34/34 [==============================] - 0s 1ms/step - loss: 3702.8521 - mean_absolute_error: 3702.8521\n",
            "Epoch 90/500\n",
            "34/34 [==============================] - 0s 2ms/step - loss: 3700.8059 - mean_absolute_error: 3700.8059\n",
            "Epoch 91/500\n",
            "34/34 [==============================] - 0s 1ms/step - loss: 3697.6575 - mean_absolute_error: 3697.6575\n",
            "Epoch 92/500\n",
            "34/34 [==============================] - 0s 2ms/step - loss: 3696.8735 - mean_absolute_error: 3696.8735\n",
            "Epoch 93/500\n",
            "34/34 [==============================] - 0s 2ms/step - loss: 3695.2458 - mean_absolute_error: 3695.2458\n",
            "Epoch 94/500\n",
            "34/34 [==============================] - 0s 1ms/step - loss: 3693.5720 - mean_absolute_error: 3693.5720\n",
            "Epoch 95/500\n",
            "34/34 [==============================] - 0s 2ms/step - loss: 3693.3647 - mean_absolute_error: 3693.3647\n",
            "Epoch 96/500\n",
            "34/34 [==============================] - 0s 1ms/step - loss: 3691.3188 - mean_absolute_error: 3691.3188\n",
            "Epoch 97/500\n",
            "34/34 [==============================] - 0s 2ms/step - loss: 3689.6692 - mean_absolute_error: 3689.6692\n",
            "Epoch 98/500\n",
            "34/34 [==============================] - 0s 2ms/step - loss: 3687.5120 - mean_absolute_error: 3687.5120\n",
            "Epoch 99/500\n",
            "34/34 [==============================] - 0s 2ms/step - loss: 3686.1956 - mean_absolute_error: 3686.1956\n",
            "Epoch 100/500\n",
            "34/34 [==============================] - 0s 2ms/step - loss: 3684.8689 - mean_absolute_error: 3684.8689\n",
            "Epoch 101/500\n",
            "34/34 [==============================] - 0s 1ms/step - loss: 3683.1758 - mean_absolute_error: 3683.1758\n",
            "Epoch 102/500\n",
            "34/34 [==============================] - 0s 2ms/step - loss: 3680.3447 - mean_absolute_error: 3680.3447\n",
            "Epoch 103/500\n",
            "34/34 [==============================] - 0s 2ms/step - loss: 3679.3875 - mean_absolute_error: 3679.3875\n",
            "Epoch 104/500\n",
            "34/34 [==============================] - 0s 2ms/step - loss: 3677.3481 - mean_absolute_error: 3677.3481\n",
            "Epoch 105/500\n",
            "34/34 [==============================] - 0s 1ms/step - loss: 3676.1223 - mean_absolute_error: 3676.1223\n",
            "Epoch 106/500\n",
            "34/34 [==============================] - 0s 2ms/step - loss: 3674.1511 - mean_absolute_error: 3674.1511\n",
            "Epoch 107/500\n",
            "34/34 [==============================] - 0s 2ms/step - loss: 3674.2544 - mean_absolute_error: 3674.2544\n",
            "Epoch 108/500\n",
            "34/34 [==============================] - 0s 2ms/step - loss: 3671.6641 - mean_absolute_error: 3671.6641\n",
            "Epoch 109/500\n",
            "34/34 [==============================] - 0s 1ms/step - loss: 3672.6960 - mean_absolute_error: 3672.6960\n",
            "Epoch 110/500\n",
            "34/34 [==============================] - 0s 2ms/step - loss: 3668.3298 - mean_absolute_error: 3668.3298\n",
            "Epoch 111/500\n",
            "34/34 [==============================] - 0s 1ms/step - loss: 3666.3149 - mean_absolute_error: 3666.3149\n",
            "Epoch 112/500\n",
            "34/34 [==============================] - 0s 2ms/step - loss: 3664.0732 - mean_absolute_error: 3664.0732\n",
            "Epoch 113/500\n",
            "34/34 [==============================] - 0s 2ms/step - loss: 3662.7014 - mean_absolute_error: 3662.7014\n",
            "Epoch 114/500\n",
            "34/34 [==============================] - 0s 2ms/step - loss: 3662.6001 - mean_absolute_error: 3662.6001\n",
            "Epoch 115/500\n",
            "34/34 [==============================] - 0s 2ms/step - loss: 3661.2058 - mean_absolute_error: 3661.2058\n",
            "Epoch 116/500\n",
            "34/34 [==============================] - 0s 2ms/step - loss: 3660.8811 - mean_absolute_error: 3660.8811\n",
            "Epoch 117/500\n",
            "34/34 [==============================] - 0s 2ms/step - loss: 3656.9539 - mean_absolute_error: 3656.9539\n",
            "Epoch 118/500\n",
            "34/34 [==============================] - 0s 2ms/step - loss: 3654.4082 - mean_absolute_error: 3654.4082\n",
            "Epoch 119/500\n",
            "34/34 [==============================] - 0s 2ms/step - loss: 3655.4333 - mean_absolute_error: 3655.4333\n",
            "Epoch 120/500\n",
            "34/34 [==============================] - 0s 2ms/step - loss: 3653.7275 - mean_absolute_error: 3653.7275\n",
            "Epoch 121/500\n",
            "34/34 [==============================] - 0s 2ms/step - loss: 3649.7141 - mean_absolute_error: 3649.7141\n",
            "Epoch 122/500\n",
            "34/34 [==============================] - 0s 2ms/step - loss: 3649.2080 - mean_absolute_error: 3649.2080\n",
            "Epoch 123/500\n",
            "34/34 [==============================] - 0s 2ms/step - loss: 3648.1724 - mean_absolute_error: 3648.1724\n",
            "Epoch 124/500\n",
            "34/34 [==============================] - 0s 1ms/step - loss: 3646.0166 - mean_absolute_error: 3646.0166\n",
            "Epoch 125/500\n",
            "34/34 [==============================] - 0s 2ms/step - loss: 3644.0208 - mean_absolute_error: 3644.0208\n",
            "Epoch 126/500\n",
            "34/34 [==============================] - 0s 2ms/step - loss: 3643.4373 - mean_absolute_error: 3643.4373\n",
            "Epoch 127/500\n",
            "34/34 [==============================] - 0s 1ms/step - loss: 3644.3809 - mean_absolute_error: 3644.3809\n",
            "Epoch 128/500\n",
            "34/34 [==============================] - 0s 1ms/step - loss: 3641.3794 - mean_absolute_error: 3641.3794\n",
            "Epoch 129/500\n",
            "34/34 [==============================] - 0s 2ms/step - loss: 3640.1560 - mean_absolute_error: 3640.1560\n",
            "Epoch 130/500\n",
            "34/34 [==============================] - 0s 2ms/step - loss: 3637.5364 - mean_absolute_error: 3637.5364\n",
            "Epoch 131/500\n",
            "34/34 [==============================] - 0s 2ms/step - loss: 3635.6697 - mean_absolute_error: 3635.6697\n",
            "Epoch 132/500\n",
            "34/34 [==============================] - 0s 2ms/step - loss: 3633.9011 - mean_absolute_error: 3633.9011\n",
            "Epoch 133/500\n",
            "34/34 [==============================] - 0s 2ms/step - loss: 3632.5364 - mean_absolute_error: 3632.5364\n",
            "Epoch 134/500\n",
            "34/34 [==============================] - 0s 2ms/step - loss: 3631.1387 - mean_absolute_error: 3631.1387\n",
            "Epoch 135/500\n",
            "34/34 [==============================] - 0s 2ms/step - loss: 3629.7646 - mean_absolute_error: 3629.7646\n",
            "Epoch 136/500\n",
            "34/34 [==============================] - 0s 2ms/step - loss: 3628.0640 - mean_absolute_error: 3628.0640\n",
            "Epoch 137/500\n",
            "34/34 [==============================] - 0s 2ms/step - loss: 3627.1372 - mean_absolute_error: 3627.1372\n",
            "Epoch 138/500\n",
            "34/34 [==============================] - 0s 2ms/step - loss: 3624.5588 - mean_absolute_error: 3624.5588\n",
            "Epoch 139/500\n",
            "34/34 [==============================] - 0s 1ms/step - loss: 3623.8000 - mean_absolute_error: 3623.8000\n",
            "Epoch 140/500\n",
            "34/34 [==============================] - 0s 1ms/step - loss: 3621.6367 - mean_absolute_error: 3621.6367\n",
            "Epoch 141/500\n",
            "34/34 [==============================] - 0s 2ms/step - loss: 3621.8872 - mean_absolute_error: 3621.8872\n",
            "Epoch 142/500\n",
            "34/34 [==============================] - 0s 2ms/step - loss: 3619.2112 - mean_absolute_error: 3619.2112\n",
            "Epoch 143/500\n",
            "34/34 [==============================] - 0s 2ms/step - loss: 3618.4001 - mean_absolute_error: 3618.4001\n",
            "Epoch 144/500\n",
            "34/34 [==============================] - 0s 2ms/step - loss: 3615.9143 - mean_absolute_error: 3615.9143\n",
            "Epoch 145/500\n",
            "34/34 [==============================] - 0s 1ms/step - loss: 3613.3018 - mean_absolute_error: 3613.3018\n",
            "Epoch 146/500\n",
            "34/34 [==============================] - 0s 2ms/step - loss: 3612.5664 - mean_absolute_error: 3612.5664\n",
            "Epoch 147/500\n",
            "34/34 [==============================] - 0s 2ms/step - loss: 3610.2200 - mean_absolute_error: 3610.2200\n",
            "Epoch 148/500\n",
            "34/34 [==============================] - 0s 2ms/step - loss: 3608.1426 - mean_absolute_error: 3608.1426\n",
            "Epoch 149/500\n",
            "34/34 [==============================] - 0s 1ms/step - loss: 3606.0437 - mean_absolute_error: 3606.0437\n",
            "Epoch 150/500\n",
            "34/34 [==============================] - 0s 2ms/step - loss: 3604.2341 - mean_absolute_error: 3604.2341\n",
            "Epoch 151/500\n",
            "34/34 [==============================] - 0s 2ms/step - loss: 3602.7222 - mean_absolute_error: 3602.7222\n",
            "Epoch 152/500\n",
            "34/34 [==============================] - 0s 2ms/step - loss: 3601.5549 - mean_absolute_error: 3601.5549\n",
            "Epoch 153/500\n",
            "34/34 [==============================] - 0s 2ms/step - loss: 3598.7966 - mean_absolute_error: 3598.7966\n",
            "Epoch 154/500\n",
            "34/34 [==============================] - 0s 2ms/step - loss: 3599.5554 - mean_absolute_error: 3599.5554\n",
            "Epoch 155/500\n",
            "34/34 [==============================] - 0s 2ms/step - loss: 3596.9385 - mean_absolute_error: 3596.9385\n",
            "Epoch 156/500\n",
            "34/34 [==============================] - 0s 2ms/step - loss: 3594.7639 - mean_absolute_error: 3594.7639\n",
            "Epoch 157/500\n",
            "34/34 [==============================] - 0s 2ms/step - loss: 3592.6399 - mean_absolute_error: 3592.6399\n",
            "Epoch 158/500\n",
            "34/34 [==============================] - 0s 2ms/step - loss: 3589.9353 - mean_absolute_error: 3589.9353\n",
            "Epoch 159/500\n",
            "34/34 [==============================] - 0s 1ms/step - loss: 3587.8523 - mean_absolute_error: 3587.8523\n",
            "Epoch 160/500\n",
            "34/34 [==============================] - 0s 2ms/step - loss: 3586.6526 - mean_absolute_error: 3586.6526\n",
            "Epoch 161/500\n",
            "34/34 [==============================] - 0s 2ms/step - loss: 3584.0437 - mean_absolute_error: 3584.0437\n",
            "Epoch 162/500\n",
            "34/34 [==============================] - 0s 2ms/step - loss: 3582.6560 - mean_absolute_error: 3582.6560\n",
            "Epoch 163/500\n",
            "34/34 [==============================] - 0s 2ms/step - loss: 3580.8450 - mean_absolute_error: 3580.8450\n",
            "Epoch 164/500\n",
            "34/34 [==============================] - 0s 2ms/step - loss: 3578.7822 - mean_absolute_error: 3578.7822\n",
            "Epoch 165/500\n",
            "34/34 [==============================] - 0s 2ms/step - loss: 3577.0693 - mean_absolute_error: 3577.0693\n",
            "Epoch 166/500\n",
            "34/34 [==============================] - 0s 1ms/step - loss: 3574.2405 - mean_absolute_error: 3574.2405\n",
            "Epoch 167/500\n",
            "34/34 [==============================] - 0s 2ms/step - loss: 3572.3125 - mean_absolute_error: 3572.3125\n",
            "Epoch 168/500\n",
            "34/34 [==============================] - 0s 2ms/step - loss: 3570.1038 - mean_absolute_error: 3570.1038\n",
            "Epoch 169/500\n",
            "34/34 [==============================] - 0s 2ms/step - loss: 3568.5159 - mean_absolute_error: 3568.5159\n",
            "Epoch 170/500\n",
            "34/34 [==============================] - 0s 1ms/step - loss: 3566.0186 - mean_absolute_error: 3566.0186\n",
            "Epoch 171/500\n",
            "34/34 [==============================] - 0s 2ms/step - loss: 3565.3818 - mean_absolute_error: 3565.3818\n",
            "Epoch 172/500\n",
            "34/34 [==============================] - 0s 2ms/step - loss: 3563.1941 - mean_absolute_error: 3563.1941\n",
            "Epoch 173/500\n",
            "34/34 [==============================] - 0s 2ms/step - loss: 3561.7725 - mean_absolute_error: 3561.7725\n",
            "Epoch 174/500\n",
            "34/34 [==============================] - 0s 2ms/step - loss: 3559.9487 - mean_absolute_error: 3559.9487\n",
            "Epoch 175/500\n",
            "34/34 [==============================] - 0s 2ms/step - loss: 3557.1726 - mean_absolute_error: 3557.1726\n",
            "Epoch 176/500\n",
            "34/34 [==============================] - 0s 2ms/step - loss: 3556.5640 - mean_absolute_error: 3556.5640\n",
            "Epoch 177/500\n",
            "34/34 [==============================] - 0s 1ms/step - loss: 3556.4504 - mean_absolute_error: 3556.4504\n",
            "Epoch 178/500\n",
            "34/34 [==============================] - 0s 2ms/step - loss: 3555.0383 - mean_absolute_error: 3555.0383\n",
            "Epoch 179/500\n",
            "34/34 [==============================] - 0s 2ms/step - loss: 3554.3989 - mean_absolute_error: 3554.3989\n",
            "Epoch 180/500\n",
            "34/34 [==============================] - 0s 2ms/step - loss: 3551.0745 - mean_absolute_error: 3551.0745\n",
            "Epoch 181/500\n",
            "34/34 [==============================] - 0s 2ms/step - loss: 3548.8821 - mean_absolute_error: 3548.8821\n",
            "Epoch 182/500\n",
            "34/34 [==============================] - 0s 2ms/step - loss: 3548.9172 - mean_absolute_error: 3548.9172\n",
            "Epoch 183/500\n",
            "34/34 [==============================] - 0s 2ms/step - loss: 3546.5034 - mean_absolute_error: 3546.5034\n",
            "Epoch 184/500\n",
            "34/34 [==============================] - 0s 2ms/step - loss: 3546.2693 - mean_absolute_error: 3546.2693\n",
            "Epoch 185/500\n",
            "34/34 [==============================] - 0s 1ms/step - loss: 3544.7061 - mean_absolute_error: 3544.7061\n",
            "Epoch 186/500\n",
            "34/34 [==============================] - 0s 2ms/step - loss: 3542.7175 - mean_absolute_error: 3542.7175\n",
            "Epoch 187/500\n",
            "34/34 [==============================] - 0s 2ms/step - loss: 3543.0234 - mean_absolute_error: 3543.0234\n",
            "Epoch 188/500\n",
            "34/34 [==============================] - 0s 2ms/step - loss: 3539.8853 - mean_absolute_error: 3539.8853\n",
            "Epoch 189/500\n",
            "34/34 [==============================] - 0s 2ms/step - loss: 3539.3396 - mean_absolute_error: 3539.3396\n",
            "Epoch 190/500\n",
            "34/34 [==============================] - 0s 2ms/step - loss: 3538.0618 - mean_absolute_error: 3538.0618\n",
            "Epoch 191/500\n",
            "34/34 [==============================] - 0s 2ms/step - loss: 3543.9539 - mean_absolute_error: 3543.9539\n",
            "Epoch 192/500\n",
            "34/34 [==============================] - 0s 2ms/step - loss: 3534.5842 - mean_absolute_error: 3534.5842\n",
            "Epoch 193/500\n",
            "34/34 [==============================] - 0s 2ms/step - loss: 3533.9014 - mean_absolute_error: 3533.9014\n",
            "Epoch 194/500\n",
            "34/34 [==============================] - 0s 2ms/step - loss: 3531.4224 - mean_absolute_error: 3531.4224\n",
            "Epoch 195/500\n",
            "34/34 [==============================] - 0s 2ms/step - loss: 3531.4949 - mean_absolute_error: 3531.4949\n",
            "Epoch 196/500\n",
            "34/34 [==============================] - 0s 2ms/step - loss: 3531.6448 - mean_absolute_error: 3531.6448\n",
            "Epoch 197/500\n",
            "34/34 [==============================] - 0s 2ms/step - loss: 3527.5623 - mean_absolute_error: 3527.5623\n",
            "Epoch 198/500\n",
            "34/34 [==============================] - 0s 2ms/step - loss: 3527.3071 - mean_absolute_error: 3527.3071\n",
            "Epoch 199/500\n",
            "34/34 [==============================] - 0s 1ms/step - loss: 3525.3884 - mean_absolute_error: 3525.3884\n",
            "Epoch 200/500\n",
            "34/34 [==============================] - 0s 1ms/step - loss: 3525.4412 - mean_absolute_error: 3525.4412\n",
            "Epoch 201/500\n",
            "34/34 [==============================] - 0s 2ms/step - loss: 3522.6267 - mean_absolute_error: 3522.6267\n",
            "Epoch 202/500\n",
            "34/34 [==============================] - 0s 2ms/step - loss: 3522.0466 - mean_absolute_error: 3522.0466\n",
            "Epoch 203/500\n",
            "34/34 [==============================] - 0s 2ms/step - loss: 3520.2090 - mean_absolute_error: 3520.2090\n",
            "Epoch 204/500\n",
            "34/34 [==============================] - 0s 1ms/step - loss: 3521.5156 - mean_absolute_error: 3521.5156\n",
            "Epoch 205/500\n",
            "34/34 [==============================] - 0s 1ms/step - loss: 3517.8540 - mean_absolute_error: 3517.8540\n",
            "Epoch 206/500\n",
            "34/34 [==============================] - 0s 2ms/step - loss: 3519.4695 - mean_absolute_error: 3519.4695\n",
            "Epoch 207/500\n",
            "34/34 [==============================] - 0s 2ms/step - loss: 3515.3784 - mean_absolute_error: 3515.3784\n",
            "Epoch 208/500\n",
            "34/34 [==============================] - 0s 1ms/step - loss: 3514.5007 - mean_absolute_error: 3514.5007\n",
            "Epoch 209/500\n",
            "34/34 [==============================] - 0s 2ms/step - loss: 3512.9644 - mean_absolute_error: 3512.9644\n",
            "Epoch 210/500\n",
            "34/34 [==============================] - 0s 1ms/step - loss: 3511.7563 - mean_absolute_error: 3511.7563\n",
            "Epoch 211/500\n",
            "34/34 [==============================] - 0s 2ms/step - loss: 3510.3540 - mean_absolute_error: 3510.3540\n",
            "Epoch 212/500\n",
            "34/34 [==============================] - 0s 2ms/step - loss: 3509.4700 - mean_absolute_error: 3509.4700\n",
            "Epoch 213/500\n",
            "34/34 [==============================] - 0s 2ms/step - loss: 3508.0952 - mean_absolute_error: 3508.0952\n",
            "Epoch 214/500\n",
            "34/34 [==============================] - 0s 2ms/step - loss: 3509.8855 - mean_absolute_error: 3509.8855\n",
            "Epoch 215/500\n",
            "34/34 [==============================] - 0s 2ms/step - loss: 3505.8127 - mean_absolute_error: 3505.8127\n",
            "Epoch 216/500\n",
            "34/34 [==============================] - 0s 2ms/step - loss: 3505.4497 - mean_absolute_error: 3505.4497\n",
            "Epoch 217/500\n",
            "34/34 [==============================] - 0s 1ms/step - loss: 3505.2859 - mean_absolute_error: 3505.2859\n",
            "Epoch 218/500\n",
            "34/34 [==============================] - 0s 2ms/step - loss: 3502.3867 - mean_absolute_error: 3502.3867\n",
            "Epoch 219/500\n",
            "34/34 [==============================] - 0s 2ms/step - loss: 3501.7205 - mean_absolute_error: 3501.7205\n",
            "Epoch 220/500\n",
            "34/34 [==============================] - 0s 2ms/step - loss: 3499.3804 - mean_absolute_error: 3499.3804\n",
            "Epoch 221/500\n",
            "34/34 [==============================] - 0s 2ms/step - loss: 3501.3396 - mean_absolute_error: 3501.3396\n",
            "Epoch 222/500\n",
            "34/34 [==============================] - 0s 2ms/step - loss: 3499.1758 - mean_absolute_error: 3499.1758\n",
            "Epoch 223/500\n",
            "34/34 [==============================] - 0s 2ms/step - loss: 3497.2209 - mean_absolute_error: 3497.2209\n",
            "Epoch 224/500\n",
            "34/34 [==============================] - 0s 2ms/step - loss: 3495.6179 - mean_absolute_error: 3495.6179\n",
            "Epoch 225/500\n",
            "34/34 [==============================] - 0s 2ms/step - loss: 3495.1931 - mean_absolute_error: 3495.1931\n",
            "Epoch 226/500\n",
            "34/34 [==============================] - 0s 2ms/step - loss: 3492.7854 - mean_absolute_error: 3492.7854\n",
            "Epoch 227/500\n",
            "34/34 [==============================] - 0s 2ms/step - loss: 3491.0349 - mean_absolute_error: 3491.0349\n",
            "Epoch 228/500\n",
            "34/34 [==============================] - 0s 1ms/step - loss: 3491.7114 - mean_absolute_error: 3491.7114\n",
            "Epoch 229/500\n",
            "34/34 [==============================] - 0s 2ms/step - loss: 3489.4836 - mean_absolute_error: 3489.4836\n",
            "Epoch 230/500\n",
            "34/34 [==============================] - 0s 1ms/step - loss: 3490.7466 - mean_absolute_error: 3490.7466\n",
            "Epoch 231/500\n",
            "34/34 [==============================] - 0s 2ms/step - loss: 3486.3875 - mean_absolute_error: 3486.3875\n",
            "Epoch 232/500\n",
            "34/34 [==============================] - 0s 2ms/step - loss: 3484.4641 - mean_absolute_error: 3484.4641\n",
            "Epoch 233/500\n",
            "34/34 [==============================] - 0s 2ms/step - loss: 3484.1995 - mean_absolute_error: 3484.1995\n",
            "Epoch 234/500\n",
            "34/34 [==============================] - 0s 2ms/step - loss: 3483.3088 - mean_absolute_error: 3483.3088\n",
            "Epoch 235/500\n",
            "34/34 [==============================] - 0s 1ms/step - loss: 3483.3108 - mean_absolute_error: 3483.3108\n",
            "Epoch 236/500\n",
            "34/34 [==============================] - 0s 2ms/step - loss: 3480.6296 - mean_absolute_error: 3480.6296\n",
            "Epoch 237/500\n",
            "34/34 [==============================] - 0s 2ms/step - loss: 3478.5791 - mean_absolute_error: 3478.5791\n",
            "Epoch 238/500\n",
            "34/34 [==============================] - 0s 2ms/step - loss: 3479.4150 - mean_absolute_error: 3479.4150\n",
            "Epoch 239/500\n",
            "34/34 [==============================] - 0s 2ms/step - loss: 3478.9275 - mean_absolute_error: 3478.9275\n",
            "Epoch 240/500\n",
            "34/34 [==============================] - 0s 2ms/step - loss: 3474.8142 - mean_absolute_error: 3474.8142\n",
            "Epoch 241/500\n",
            "34/34 [==============================] - 0s 2ms/step - loss: 3474.0569 - mean_absolute_error: 3474.0569\n",
            "Epoch 242/500\n",
            "34/34 [==============================] - 0s 2ms/step - loss: 3474.1895 - mean_absolute_error: 3474.1895\n",
            "Epoch 243/500\n",
            "34/34 [==============================] - 0s 1ms/step - loss: 3473.2156 - mean_absolute_error: 3473.2156\n",
            "Epoch 244/500\n",
            "34/34 [==============================] - 0s 2ms/step - loss: 3473.9944 - mean_absolute_error: 3473.9944\n",
            "Epoch 245/500\n",
            "34/34 [==============================] - 0s 1ms/step - loss: 3472.6233 - mean_absolute_error: 3472.6233\n",
            "Epoch 246/500\n",
            "34/34 [==============================] - 0s 2ms/step - loss: 3473.9248 - mean_absolute_error: 3473.9248\n",
            "Epoch 247/500\n",
            "34/34 [==============================] - 0s 2ms/step - loss: 3472.6240 - mean_absolute_error: 3472.6240\n",
            "Epoch 248/500\n",
            "34/34 [==============================] - 0s 2ms/step - loss: 3473.9434 - mean_absolute_error: 3473.9434\n",
            "Epoch 249/500\n",
            "34/34 [==============================] - 0s 2ms/step - loss: 3474.6504 - mean_absolute_error: 3474.6504\n",
            "Epoch 250/500\n",
            "34/34 [==============================] - 0s 1ms/step - loss: 3472.0322 - mean_absolute_error: 3472.0322\n",
            "Epoch 251/500\n",
            "34/34 [==============================] - 0s 2ms/step - loss: 3471.2280 - mean_absolute_error: 3471.2280\n",
            "Epoch 252/500\n",
            "34/34 [==============================] - 0s 1ms/step - loss: 3473.3792 - mean_absolute_error: 3473.3792\n",
            "Epoch 253/500\n",
            "34/34 [==============================] - 0s 2ms/step - loss: 3472.6968 - mean_absolute_error: 3472.6968\n",
            "Epoch 254/500\n",
            "34/34 [==============================] - 0s 2ms/step - loss: 3472.0579 - mean_absolute_error: 3472.0579\n",
            "Epoch 255/500\n",
            "34/34 [==============================] - 0s 2ms/step - loss: 3472.2163 - mean_absolute_error: 3472.2163\n",
            "Epoch 256/500\n",
            "34/34 [==============================] - 0s 2ms/step - loss: 3473.6611 - mean_absolute_error: 3473.6611\n"
          ],
          "name": "stdout"
        }
      ]
    },
    {
      "cell_type": "code",
      "metadata": {
        "colab": {
          "base_uri": "https://localhost:8080/"
        },
        "id": "cA-tG79lSfbS",
        "outputId": "f989a1fe-f809-43f3-b4c5-fed400015288"
      },
      "source": [
        "# Check the results of the insurance model on the test data.\n",
        "insurance_model_5.evaluate(X_test_normal,y_test)"
      ],
      "execution_count": 134,
      "outputs": [
        {
          "output_type": "stream",
          "text": [
            "9/9 [==============================] - 0s 2ms/step - loss: 3163.6101 - mean_absolute_error: 3163.6101\n"
          ],
          "name": "stdout"
        },
        {
          "output_type": "execute_result",
          "data": {
            "text/plain": [
              "[3163.610107421875, 3163.610107421875]"
            ]
          },
          "metadata": {
            "tags": []
          },
          "execution_count": 134
        }
      ]
    },
    {
      "cell_type": "code",
      "metadata": {
        "colab": {
          "base_uri": "https://localhost:8080/",
          "height": 282
        },
        "id": "x-CTCXNdSo_o",
        "outputId": "0b88032d-2f3f-4083-94a5-baa2a3d994b5"
      },
      "source": [
        "# Plot Loss Curve / Training Curve\n",
        "pd.DataFrame(history.history).plot()\n",
        "plt.ylabel('loss')\n",
        "plt.ylabel('epochs')"
      ],
      "execution_count": 135,
      "outputs": [
        {
          "output_type": "execute_result",
          "data": {
            "text/plain": [
              "Text(0, 0.5, 'epochs')"
            ]
          },
          "metadata": {
            "tags": []
          },
          "execution_count": 135
        },
        {
          "output_type": "display_data",
          "data": {
            "image/png": "[encoded data removed]",
            "text/plain": [
              "<Figure size 432x288 with 1 Axes>"
            ]
          },
          "metadata": {
            "tags": [],
            "needs_background": "light"
          }
        }
      ]
    },
    {
      "cell_type": "code",
      "metadata": {
        "id": "GIbIJN3LSsiQ"
      },
      "source": [
        ""
      ],
      "execution_count": null,
      "outputs": []
    }
  ]
}