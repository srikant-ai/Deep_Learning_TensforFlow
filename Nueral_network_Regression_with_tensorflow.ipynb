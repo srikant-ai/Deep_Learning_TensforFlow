{
  "nbformat": 4,
  "nbformat_minor": 0,
  "metadata": {
    "colab": {
      "name": "Nueral_network_Regression_with_tensorflow.ipynb",
      "provenance": [],
      "collapsed_sections": [],
      "authorship_tag": "ABX9TyOkW3sRoWei5SFoHMJqXgRD",
      "include_colab_link": true
    },
    "kernelspec": {
      "name": "python3",
      "display_name": "Python 3"
    },
    "language_info": {
      "name": "python"
    }
  },
  "cells": [
    {
      "cell_type": "markdown",
      "metadata": {
        "id": "view-in-github",
        "colab_type": "text"
      },
      "source": [
        "<a href=\"https://colab.research.google.com/github/srikant-ai/Deep_Learning_TensforFlow/blob/main/Nueral_network_Regression_with_tensorflow.ipynb\" target=\"_parent\"><img src=\"https://colab.research.google.com/assets/colab-badge.svg\" alt=\"Open In Colab\"/></a>"
      ]
    },
    {
      "cell_type": "markdown",
      "metadata": {
        "id": "6Q98aOF9AUz2"
      },
      "source": [
        "### Introduction to Regression with Nueral networks in TensorFlow."
      ]
    },
    {
      "cell_type": "code",
      "metadata": {
        "colab": {
          "base_uri": "https://localhost:8080/"
        },
        "id": "y4xRuRNUK66N",
        "outputId": "d57da28d-b358-4c53-eb91-a6e0bf6713fa"
      },
      "source": [
        "#Import Tensorflow\n",
        "import tensorflow as tf\n",
        "print(tf.__version__)"
      ],
      "execution_count": 1,
      "outputs": [
        {
          "output_type": "stream",
          "text": [
            "2.5.0\n"
          ],
          "name": "stdout"
        }
      ]
    },
    {
      "cell_type": "markdown",
      "metadata": {
        "id": "Dj28otH3LDqO"
      },
      "source": [
        "### Creating data to view and fit"
      ]
    },
    {
      "cell_type": "code",
      "metadata": {
        "colab": {
          "base_uri": "https://localhost:8080/",
          "height": 286
        },
        "id": "KqKx7eEOLNBx",
        "outputId": "feb93e29-65d3-4287-84e7-cc2a0e2a1bcf"
      },
      "source": [
        "import numpy as np \n",
        "import matplotlib.pyplot as plt\n",
        "\n",
        "# Create features\n",
        "X = np.array([-7.0,-4.0,-1.0,2.0,5.0,8.0,11.0,14.0])\n",
        "\n",
        "# Create Labels\n",
        "y=np.array([3.0,6.0,9.0,12.0,15.0,18.0,21.0,24.0])\n",
        "\n",
        "# visualize it\n",
        "plt.scatter(X,y) "
      ],
      "execution_count": 4,
      "outputs": [
        {
          "output_type": "execute_result",
          "data": {
            "text/plain": [
              "<matplotlib.collections.PathCollection at 0x7f3109126610>"
            ]
          },
          "metadata": {
            "tags": []
          },
          "execution_count": 4
        },
        {
          "output_type": "display_data",
          "data": {
            "image/png": "[encoded data removed]",
            "text/plain": [
              "<Figure size 432x288 with 1 Axes>"
            ]
          },
          "metadata": {
            "tags": [],
            "needs_background": "light"
          }
        }
      ]
    },
    {
      "cell_type": "code",
      "metadata": {
        "colab": {
          "base_uri": "https://localhost:8080/"
        },
        "id": "mz02O4RcLtjN",
        "outputId": "8e0fcf2d-5d91-4a0e-d37d-e8041569d8cb"
      },
      "source": [
        "# The Equation we would want aour nueral network to learn \n",
        "y == X + 10"
      ],
      "execution_count": 5,
      "outputs": [
        {
          "output_type": "execute_result",
          "data": {
            "text/plain": [
              "array([ True,  True,  True,  True,  True,  True,  True,  True])"
            ]
          },
          "metadata": {
            "tags": []
          },
          "execution_count": 5
        }
      ]
    },
    {
      "cell_type": "markdown",
      "metadata": {
        "id": "ZPw32zu-NQJo"
      },
      "source": [
        "### Input and Output Shapes"
      ]
    },
    {
      "cell_type": "code",
      "metadata": {
        "colab": {
          "base_uri": "https://localhost:8080/"
        },
        "id": "QUtjW2-bNZCt",
        "outputId": "7e00f098-3367-4ba9-c566-dfb0761aa19c"
      },
      "source": [
        "# Create a Demo Tensor  for Housing Price Prediction Problem\n",
        "\n",
        "house_info = tf.constant([\"bedroom\",\"bathroom\",\"garage\"])\n",
        "house_price = tf.constant([939700])\n",
        "\n",
        "house_info, house_price"
      ],
      "execution_count": 7,
      "outputs": [
        {
          "output_type": "execute_result",
          "data": {
            "text/plain": [
              "(<tf.Tensor: shape=(3,), dtype=string, numpy=array([b'bedroom', b'bathroom', b'garage'], dtype=object)>,\n",
              " <tf.Tensor: shape=(1,), dtype=int32, numpy=array([939700], dtype=int32)>)"
            ]
          },
          "metadata": {
            "tags": []
          },
          "execution_count": 7
        }
      ]
    },
    {
      "cell_type": "code",
      "metadata": {
        "colab": {
          "base_uri": "https://localhost:8080/"
        },
        "id": "ah0kPn5oOCiC",
        "outputId": "a6af0ac3-ed2e-4847-b0f7-107c030a2303"
      },
      "source": [
        "X[0] , y[0]"
      ],
      "execution_count": 9,
      "outputs": [
        {
          "output_type": "execute_result",
          "data": {
            "text/plain": [
              "(-7.0, 3.0)"
            ]
          },
          "metadata": {
            "tags": []
          },
          "execution_count": 9
        }
      ]
    },
    {
      "cell_type": "code",
      "metadata": {
        "colab": {
          "base_uri": "https://localhost:8080/"
        },
        "id": "5iWWyncEOFmJ",
        "outputId": "35f4f415-ae2e-4f99-d03d-262d189f89f2"
      },
      "source": [
        "X[1] , y[1]"
      ],
      "execution_count": 10,
      "outputs": [
        {
          "output_type": "execute_result",
          "data": {
            "text/plain": [
              "(-4.0, 6.0)"
            ]
          },
          "metadata": {
            "tags": []
          },
          "execution_count": 10
        }
      ]
    },
    {
      "cell_type": "code",
      "metadata": {
        "colab": {
          "base_uri": "https://localhost:8080/"
        },
        "id": "54RvExOYNyhw",
        "outputId": "88ddc060-5f67-4a99-c34f-10ffe165db1d"
      },
      "source": [
        "input_shape = X[0].shape\n",
        "output_shape = y[0].shape\n",
        "\n",
        "input_shape , output_shape"
      ],
      "execution_count": 11,
      "outputs": [
        {
          "output_type": "execute_result",
          "data": {
            "text/plain": [
              "((), ())"
            ]
          },
          "metadata": {
            "tags": []
          },
          "execution_count": 11
        }
      ]
    },
    {
      "cell_type": "code",
      "metadata": {
        "colab": {
          "base_uri": "https://localhost:8080/"
        },
        "id": "8iRE8vWTN8vF",
        "outputId": "1a14c673-2ded-4e17-a599-91c417230d6c"
      },
      "source": [
        "# Scalers : hence no dimension\n",
        "X[0].ndim "
      ],
      "execution_count": 14,
      "outputs": [
        {
          "output_type": "execute_result",
          "data": {
            "text/plain": [
              "0"
            ]
          },
          "metadata": {
            "tags": []
          },
          "execution_count": 14
        }
      ]
    },
    {
      "cell_type": "code",
      "metadata": {
        "colab": {
          "base_uri": "https://localhost:8080/"
        },
        "id": "5Ne4t71lOcZv",
        "outputId": "7e606b08-e17a-4f36-8220-2952f743a744"
      },
      "source": [
        "# Turn the numpy array's into tensors\n",
        "X = tf.constant(X)\n",
        "y = tf.constant(y)\n",
        "\n",
        "X,y"
      ],
      "execution_count": 15,
      "outputs": [
        {
          "output_type": "execute_result",
          "data": {
            "text/plain": [
              "(<tf.Tensor: shape=(8,), dtype=float64, numpy=array([-7., -4., -1.,  2.,  5.,  8., 11., 14.])>,\n",
              " <tf.Tensor: shape=(8,), dtype=float64, numpy=array([ 3.,  6.,  9., 12., 15., 18., 21., 24.])>)"
            ]
          },
          "metadata": {
            "tags": []
          },
          "execution_count": 15
        }
      ]
    },
    {
      "cell_type": "code",
      "metadata": {
        "colab": {
          "base_uri": "https://localhost:8080/"
        },
        "id": "_-S4IZ58OzgA",
        "outputId": "f18a0ea8-e8dc-4fbc-fb24-e7a1319b8aaf"
      },
      "source": [
        "input_shape = X[0].shape\n",
        "output_shape = y[0].shape\n",
        "\n",
        "input_shape , output_shape"
      ],
      "execution_count": 16,
      "outputs": [
        {
          "output_type": "execute_result",
          "data": {
            "text/plain": [
              "(TensorShape([]), TensorShape([]))"
            ]
          },
          "metadata": {
            "tags": []
          },
          "execution_count": 16
        }
      ]
    },
    {
      "cell_type": "code",
      "metadata": {
        "colab": {
          "base_uri": "https://localhost:8080/",
          "height": 286
        },
        "id": "NjEZy3RDO5ZX",
        "outputId": "7f5e8b29-18f4-4dee-c7a8-8f4f12c34c35"
      },
      "source": [
        "plt.scatter(X,y)"
      ],
      "execution_count": 17,
      "outputs": [
        {
          "output_type": "execute_result",
          "data": {
            "text/plain": [
              "<matplotlib.collections.PathCollection at 0x7f310908e190>"
            ]
          },
          "metadata": {
            "tags": []
          },
          "execution_count": 17
        },
        {
          "output_type": "display_data",
          "data": {
            "image/png": "[encoded data removed]",
            "text/plain": [
              "<Figure size 432x288 with 1 Axes>"
            ]
          },
          "metadata": {
            "tags": [],
            "needs_background": "light"
          }
        }
      ]
    },
    {
      "cell_type": "markdown",
      "metadata": {
        "id": "cFoO8kUsPCP7"
      },
      "source": [
        "#### Steps in Modellling in TensorFlow :\n",
        "\n",
        "1. **Creating a model** - Define the input and output Layers , as well as the hidden layers of a deep learning model.\n",
        "2. **Compiling a model**  - Define the loss function (in other words , the function which tells our model how wrong it is) and the optimizer (tells our model how to improve the patterns its learning) and the evaluation metrics (whar we can use to interprete the performance of our model).\n",
        "3. Fitting a model - Letting the Model try to find the patterns between X & y (features and labels)"
      ]
    },
    {
      "cell_type": "code",
      "metadata": {
        "colab": {
          "base_uri": "https://localhost:8080/"
        },
        "id": "7cTAwmoyQ2iy",
        "outputId": "fc550b5c-57ee-4468-93da-8f621636b29e"
      },
      "source": [
        "# set random seed \n",
        "tf.random.set_seed(42)\n",
        "\n",
        "# 1. Create a model using the Sequential API : This Groups a Linear Stack of Layers into Model\n",
        "# Method : 1\n",
        "#-----------\n",
        "model = tf.keras.Sequential([\n",
        "  tf.keras.layers.Dense(1)\n",
        "])\n",
        "\n",
        "\n",
        "# Method : 2\n",
        "#-----------\n",
        "#model = tf.keras.Sequential()\n",
        "#model.add(tf.keras.layers.Dense(1))\n",
        "\n",
        "#2. Compile the model\n",
        "model.compile(loss=tf.keras.losses.mae ,# mae -> Mean Absolute Error between Labels and Predictions  : mean(abs(y_true - y_pred))\n",
        "              optimizer = tf.keras.optimizers.SGD(),# sgd : Stochastic Gradient Descent \n",
        "              metrics =[ tf.keras.losses.mae])\n",
        "\n",
        "#3. Fit the Model\n",
        "model.fit(X,y,epochs=5) # Epochs tells the model how many time the model has to go through the examples to understand the patterns "
      ],
      "execution_count": 20,
      "outputs": [
        {
          "output_type": "stream",
          "text": [
            "Epoch 1/5\n",
            "1/1 [==============================] - 0s 209ms/step - loss: 11.5048 - mean_absolute_error: 11.5048\n",
            "Epoch 2/5\n",
            "1/1 [==============================] - 0s 4ms/step - loss: 11.3723 - mean_absolute_error: 11.3723\n",
            "Epoch 3/5\n",
            "1/1 [==============================] - 0s 5ms/step - loss: 11.2398 - mean_absolute_error: 11.2398\n",
            "Epoch 4/5\n",
            "1/1 [==============================] - 0s 3ms/step - loss: 11.1073 - mean_absolute_error: 11.1073\n",
            "Epoch 5/5\n",
            "1/1 [==============================] - 0s 5ms/step - loss: 10.9748 - mean_absolute_error: 10.9748\n"
          ],
          "name": "stdout"
        },
        {
          "output_type": "execute_result",
          "data": {
            "text/plain": [
              "<tensorflow.python.keras.callbacks.History at 0x7f31032f1550>"
            ]
          },
          "metadata": {
            "tags": []
          },
          "execution_count": 20
        }
      ]
    },
    {
      "cell_type": "code",
      "metadata": {
        "colab": {
          "base_uri": "https://localhost:8080/"
        },
        "id": "-1sTz5kSSI35",
        "outputId": "00320fe4-29ea-4211-88c4-11a869cdf72a"
      },
      "source": [
        "# check out X and y \n",
        "X,y"
      ],
      "execution_count": 21,
      "outputs": [
        {
          "output_type": "execute_result",
          "data": {
            "text/plain": [
              "(<tf.Tensor: shape=(8,), dtype=float64, numpy=array([-7., -4., -1.,  2.,  5.,  8., 11., 14.])>,\n",
              " <tf.Tensor: shape=(8,), dtype=float64, numpy=array([ 3.,  6.,  9., 12., 15., 18., 21., 24.])>)"
            ]
          },
          "metadata": {
            "tags": []
          },
          "execution_count": 21
        }
      ]
    },
    {
      "cell_type": "code",
      "metadata": {
        "colab": {
          "base_uri": "https://localhost:8080/"
        },
        "id": "UJIpZzU9Tla8",
        "outputId": "69e83076-09db-4488-f22d-92d233e8d1ec"
      },
      "source": [
        "# Try and make a prediction using our model\n",
        "y_pred=model.predict([17.0])\n",
        "y_pred"
      ],
      "execution_count": 23,
      "outputs": [
        {
          "output_type": "execute_result",
          "data": {
            "text/plain": [
              "array([[12.716021]], dtype=float32)"
            ]
          },
          "metadata": {
            "tags": []
          },
          "execution_count": 23
        }
      ]
    },
    {
      "cell_type": "code",
      "metadata": {
        "colab": {
          "base_uri": "https://localhost:8080/"
        },
        "id": "yxkBuqUKTvDq",
        "outputId": "f7c355c6-d771-4731-f8eb-b9678d769cab"
      },
      "source": [
        "y_pred + 11"
      ],
      "execution_count": 24,
      "outputs": [
        {
          "output_type": "execute_result",
          "data": {
            "text/plain": [
              "array([[23.71602]], dtype=float32)"
            ]
          },
          "metadata": {
            "tags": []
          },
          "execution_count": 24
        }
      ]
    },
    {
      "cell_type": "markdown",
      "metadata": {
        "id": "OeMSt821T_b_"
      },
      "source": [
        "### Improving our Model\n",
        "\n",
        "we can improve our model , by altering the steps we took to create a model.\n",
        "\n",
        "1. **Creating a model** - Here we might add more layers, increase the number of hidden units, (all called nuerons) within each of the hidden layers, change the activation function of each layer.\n",
        "\n",
        "2. **Compiling a model** - here we might change the optimization function or perhaps the **learning rate**  of the optimization function.\n",
        "\n",
        "3. **Fitting a model** - here we might fit a model for more **epochs** (leave it training for longer) or on more data (give the model more examaples to learn form.)"
      ]
    },
    {
      "cell_type": "code",
      "metadata": {
        "colab": {
          "base_uri": "https://localhost:8080/"
        },
        "id": "5ZYpCZosUExo",
        "outputId": "23471e6f-512c-434c-fc7f-c3c87d7a4db5"
      },
      "source": [
        "# Let's Rebuild our model\n",
        "\n",
        "# set random seed \n",
        "tf.random.set_seed(42)\n",
        "\n",
        "# 1. Create a model using the Sequential API : This Groups a Linear Stack of Layers into Model\n",
        "# Method : 1\n",
        "#-----------\n",
        "model = tf.keras.Sequential([\n",
        "  tf.keras.layers.Dense(1)\n",
        "])\n",
        "\n",
        "\n",
        "# Method : 2\n",
        "#-----------\n",
        "#model = tf.keras.Sequential()\n",
        "#model.add(tf.keras.layers.Dense(1))\n",
        "\n",
        "#2. Compile the model\n",
        "model.compile(loss=tf.keras.losses.mae ,# mae -> Mean Absolute Error between Labels and Predictions  : mean(abs(y_true - y_pred))\n",
        "              optimizer = tf.keras.optimizers.SGD(),# sgd : Stochastic Gradient Descent \n",
        "              metrics =[ tf.keras.losses.mae])\n",
        "\n",
        "#3. Fit the Model\n",
        "model.fit(X,y,epochs=100) # Epochs tells the model how many time the model has to go through the examples to understand the patterns "
      ],
      "execution_count": 26,
      "outputs": [
        {
          "output_type": "stream",
          "text": [
            "Epoch 1/100\n",
            "1/1 [==============================] - 0s 201ms/step - loss: 11.5048 - mean_absolute_error: 11.5048\n",
            "Epoch 2/100\n",
            "1/1 [==============================] - 0s 6ms/step - loss: 11.3723 - mean_absolute_error: 11.3723\n",
            "Epoch 3/100\n",
            "1/1 [==============================] - 0s 3ms/step - loss: 11.2398 - mean_absolute_error: 11.2398\n",
            "Epoch 4/100\n",
            "1/1 [==============================] - 0s 4ms/step - loss: 11.1073 - mean_absolute_error: 11.1073\n",
            "Epoch 5/100\n",
            "1/1 [==============================] - 0s 10ms/step - loss: 10.9748 - mean_absolute_error: 10.9748\n",
            "Epoch 6/100\n",
            "1/1 [==============================] - 0s 5ms/step - loss: 10.8423 - mean_absolute_error: 10.8423\n",
            "Epoch 7/100\n",
            "1/1 [==============================] - 0s 4ms/step - loss: 10.7098 - mean_absolute_error: 10.7098\n",
            "Epoch 8/100\n",
            "1/1 [==============================] - 0s 4ms/step - loss: 10.5773 - mean_absolute_error: 10.5773\n",
            "Epoch 9/100\n",
            "1/1 [==============================] - 0s 4ms/step - loss: 10.4448 - mean_absolute_error: 10.4448\n",
            "Epoch 10/100\n",
            "1/1 [==============================] - 0s 3ms/step - loss: 10.3123 - mean_absolute_error: 10.3123\n",
            "Epoch 11/100\n",
            "1/1 [==============================] - 0s 3ms/step - loss: 10.1798 - mean_absolute_error: 10.1798\n",
            "Epoch 12/100\n",
            "1/1 [==============================] - 0s 5ms/step - loss: 10.0473 - mean_absolute_error: 10.0473\n",
            "Epoch 13/100\n",
            "1/1 [==============================] - 0s 4ms/step - loss: 9.9148 - mean_absolute_error: 9.9148\n",
            "Epoch 14/100\n",
            "1/1 [==============================] - 0s 4ms/step - loss: 9.7823 - mean_absolute_error: 9.7823\n",
            "Epoch 15/100\n",
            "1/1 [==============================] - 0s 4ms/step - loss: 9.6498 - mean_absolute_error: 9.6498\n",
            "Epoch 16/100\n",
            "1/1 [==============================] - 0s 4ms/step - loss: 9.5173 - mean_absolute_error: 9.5173\n",
            "Epoch 17/100\n",
            "1/1 [==============================] - 0s 7ms/step - loss: 9.3848 - mean_absolute_error: 9.3848\n",
            "Epoch 18/100\n",
            "1/1 [==============================] - 0s 4ms/step - loss: 9.2523 - mean_absolute_error: 9.2523\n",
            "Epoch 19/100\n",
            "1/1 [==============================] - 0s 5ms/step - loss: 9.1198 - mean_absolute_error: 9.1198\n",
            "Epoch 20/100\n",
            "1/1 [==============================] - 0s 4ms/step - loss: 8.9873 - mean_absolute_error: 8.9873\n",
            "Epoch 21/100\n",
            "1/1 [==============================] - 0s 8ms/step - loss: 8.8548 - mean_absolute_error: 8.8548\n",
            "Epoch 22/100\n",
            "1/1 [==============================] - 0s 7ms/step - loss: 8.7223 - mean_absolute_error: 8.7223\n",
            "Epoch 23/100\n",
            "1/1 [==============================] - 0s 3ms/step - loss: 8.5898 - mean_absolute_error: 8.5898\n",
            "Epoch 24/100\n",
            "1/1 [==============================] - 0s 4ms/step - loss: 8.4573 - mean_absolute_error: 8.4573\n",
            "Epoch 25/100\n",
            "1/1 [==============================] - 0s 9ms/step - loss: 8.3248 - mean_absolute_error: 8.3248\n",
            "Epoch 26/100\n",
            "1/1 [==============================] - 0s 5ms/step - loss: 8.1923 - mean_absolute_error: 8.1923\n",
            "Epoch 27/100\n",
            "1/1 [==============================] - 0s 3ms/step - loss: 8.0598 - mean_absolute_error: 8.0598\n",
            "Epoch 28/100\n",
            "1/1 [==============================] - 0s 3ms/step - loss: 7.9273 - mean_absolute_error: 7.9273\n",
            "Epoch 29/100\n",
            "1/1 [==============================] - 0s 5ms/step - loss: 7.7948 - mean_absolute_error: 7.7948\n",
            "Epoch 30/100\n",
            "1/1 [==============================] - 0s 3ms/step - loss: 7.6623 - mean_absolute_error: 7.6623\n",
            "Epoch 31/100\n",
            "1/1 [==============================] - 0s 4ms/step - loss: 7.5298 - mean_absolute_error: 7.5298\n",
            "Epoch 32/100\n",
            "1/1 [==============================] - 0s 3ms/step - loss: 7.3973 - mean_absolute_error: 7.3973\n",
            "Epoch 33/100\n",
            "1/1 [==============================] - 0s 3ms/step - loss: 7.2648 - mean_absolute_error: 7.2648\n",
            "Epoch 34/100\n",
            "1/1 [==============================] - 0s 5ms/step - loss: 7.2525 - mean_absolute_error: 7.2525\n",
            "Epoch 35/100\n",
            "1/1 [==============================] - 0s 3ms/step - loss: 7.2469 - mean_absolute_error: 7.2469\n",
            "Epoch 36/100\n",
            "1/1 [==============================] - 0s 3ms/step - loss: 7.2413 - mean_absolute_error: 7.2413\n",
            "Epoch 37/100\n",
            "1/1 [==============================] - 0s 4ms/step - loss: 7.2356 - mean_absolute_error: 7.2356\n",
            "Epoch 38/100\n",
            "1/1 [==============================] - 0s 4ms/step - loss: 7.2300 - mean_absolute_error: 7.2300\n",
            "Epoch 39/100\n",
            "1/1 [==============================] - 0s 4ms/step - loss: 7.2244 - mean_absolute_error: 7.2244\n",
            "Epoch 40/100\n",
            "1/1 [==============================] - 0s 6ms/step - loss: 7.2188 - mean_absolute_error: 7.2188\n",
            "Epoch 41/100\n",
            "1/1 [==============================] - 0s 3ms/step - loss: 7.2131 - mean_absolute_error: 7.2131\n",
            "Epoch 42/100\n",
            "1/1 [==============================] - 0s 3ms/step - loss: 7.2075 - mean_absolute_error: 7.2075\n",
            "Epoch 43/100\n",
            "1/1 [==============================] - 0s 3ms/step - loss: 7.2019 - mean_absolute_error: 7.2019\n",
            "Epoch 44/100\n",
            "1/1 [==============================] - 0s 2ms/step - loss: 7.1963 - mean_absolute_error: 7.1963\n",
            "Epoch 45/100\n",
            "1/1 [==============================] - 0s 2ms/step - loss: 7.1906 - mean_absolute_error: 7.1906\n",
            "Epoch 46/100\n",
            "1/1 [==============================] - 0s 6ms/step - loss: 7.1850 - mean_absolute_error: 7.1850\n",
            "Epoch 47/100\n",
            "1/1 [==============================] - 0s 3ms/step - loss: 7.1794 - mean_absolute_error: 7.1794\n",
            "Epoch 48/100\n",
            "1/1 [==============================] - 0s 3ms/step - loss: 7.1738 - mean_absolute_error: 7.1738\n",
            "Epoch 49/100\n",
            "1/1 [==============================] - 0s 4ms/step - loss: 7.1681 - mean_absolute_error: 7.1681\n",
            "Epoch 50/100\n",
            "1/1 [==============================] - 0s 6ms/step - loss: 7.1625 - mean_absolute_error: 7.1625\n",
            "Epoch 51/100\n",
            "1/1 [==============================] - 0s 5ms/step - loss: 7.1569 - mean_absolute_error: 7.1569\n",
            "Epoch 52/100\n",
            "1/1 [==============================] - 0s 9ms/step - loss: 7.1512 - mean_absolute_error: 7.1512\n",
            "Epoch 53/100\n",
            "1/1 [==============================] - 0s 3ms/step - loss: 7.1456 - mean_absolute_error: 7.1456\n",
            "Epoch 54/100\n",
            "1/1 [==============================] - 0s 3ms/step - loss: 7.1400 - mean_absolute_error: 7.1400\n",
            "Epoch 55/100\n",
            "1/1 [==============================] - 0s 4ms/step - loss: 7.1344 - mean_absolute_error: 7.1344\n",
            "Epoch 56/100\n",
            "1/1 [==============================] - 0s 5ms/step - loss: 7.1287 - mean_absolute_error: 7.1287\n",
            "Epoch 57/100\n",
            "1/1 [==============================] - 0s 3ms/step - loss: 7.1231 - mean_absolute_error: 7.1231\n",
            "Epoch 58/100\n",
            "1/1 [==============================] - 0s 5ms/step - loss: 7.1175 - mean_absolute_error: 7.1175\n",
            "Epoch 59/100\n",
            "1/1 [==============================] - 0s 3ms/step - loss: 7.1119 - mean_absolute_error: 7.1119\n",
            "Epoch 60/100\n",
            "1/1 [==============================] - 0s 4ms/step - loss: 7.1063 - mean_absolute_error: 7.1063\n",
            "Epoch 61/100\n",
            "1/1 [==============================] - 0s 7ms/step - loss: 7.1006 - mean_absolute_error: 7.1006\n",
            "Epoch 62/100\n",
            "1/1 [==============================] - 0s 4ms/step - loss: 7.0950 - mean_absolute_error: 7.0950\n",
            "Epoch 63/100\n",
            "1/1 [==============================] - 0s 3ms/step - loss: 7.0894 - mean_absolute_error: 7.0894\n",
            "Epoch 64/100\n",
            "1/1 [==============================] - 0s 4ms/step - loss: 7.0838 - mean_absolute_error: 7.0838\n",
            "Epoch 65/100\n",
            "1/1 [==============================] - 0s 5ms/step - loss: 7.0781 - mean_absolute_error: 7.0781\n",
            "Epoch 66/100\n",
            "1/1 [==============================] - 0s 6ms/step - loss: 7.0725 - mean_absolute_error: 7.0725\n",
            "Epoch 67/100\n",
            "1/1 [==============================] - 0s 5ms/step - loss: 7.0669 - mean_absolute_error: 7.0669\n",
            "Epoch 68/100\n",
            "1/1 [==============================] - 0s 3ms/step - loss: 7.0613 - mean_absolute_error: 7.0613\n",
            "Epoch 69/100\n",
            "1/1 [==============================] - 0s 4ms/step - loss: 7.0556 - mean_absolute_error: 7.0556\n",
            "Epoch 70/100\n",
            "1/1 [==============================] - 0s 4ms/step - loss: 7.0500 - mean_absolute_error: 7.0500\n",
            "Epoch 71/100\n",
            "1/1 [==============================] - 0s 5ms/step - loss: 7.0444 - mean_absolute_error: 7.0444\n",
            "Epoch 72/100\n",
            "1/1 [==============================] - 0s 5ms/step - loss: 7.0388 - mean_absolute_error: 7.0388\n",
            "Epoch 73/100\n",
            "1/1 [==============================] - 0s 5ms/step - loss: 7.0331 - mean_absolute_error: 7.0331\n",
            "Epoch 74/100\n",
            "1/1 [==============================] - 0s 6ms/step - loss: 7.0275 - mean_absolute_error: 7.0275\n",
            "Epoch 75/100\n",
            "1/1 [==============================] - 0s 6ms/step - loss: 7.0219 - mean_absolute_error: 7.0219\n",
            "Epoch 76/100\n",
            "1/1 [==============================] - 0s 5ms/step - loss: 7.0163 - mean_absolute_error: 7.0163\n",
            "Epoch 77/100\n",
            "1/1 [==============================] - 0s 3ms/step - loss: 7.0106 - mean_absolute_error: 7.0106\n",
            "Epoch 78/100\n",
            "1/1 [==============================] - 0s 5ms/step - loss: 7.0050 - mean_absolute_error: 7.0050\n",
            "Epoch 79/100\n",
            "1/1 [==============================] - 0s 6ms/step - loss: 6.9994 - mean_absolute_error: 6.9994\n",
            "Epoch 80/100\n",
            "1/1 [==============================] - 0s 3ms/step - loss: 6.9938 - mean_absolute_error: 6.9938\n",
            "Epoch 81/100\n",
            "1/1 [==============================] - 0s 7ms/step - loss: 6.9881 - mean_absolute_error: 6.9881\n",
            "Epoch 82/100\n",
            "1/1 [==============================] - 0s 11ms/step - loss: 6.9825 - mean_absolute_error: 6.9825\n",
            "Epoch 83/100\n",
            "1/1 [==============================] - 0s 8ms/step - loss: 6.9769 - mean_absolute_error: 6.9769\n",
            "Epoch 84/100\n",
            "1/1 [==============================] - 0s 6ms/step - loss: 6.9713 - mean_absolute_error: 6.9713\n",
            "Epoch 85/100\n",
            "1/1 [==============================] - 0s 5ms/step - loss: 6.9656 - mean_absolute_error: 6.9656\n",
            "Epoch 86/100\n",
            "1/1 [==============================] - 0s 3ms/step - loss: 6.9600 - mean_absolute_error: 6.9600\n",
            "Epoch 87/100\n",
            "1/1 [==============================] - 0s 4ms/step - loss: 6.9544 - mean_absolute_error: 6.9544\n",
            "Epoch 88/100\n",
            "1/1 [==============================] - 0s 6ms/step - loss: 6.9488 - mean_absolute_error: 6.9488\n",
            "Epoch 89/100\n",
            "1/1 [==============================] - 0s 5ms/step - loss: 6.9431 - mean_absolute_error: 6.9431\n",
            "Epoch 90/100\n",
            "1/1 [==============================] - 0s 3ms/step - loss: 6.9375 - mean_absolute_error: 6.9375\n",
            "Epoch 91/100\n",
            "1/1 [==============================] - 0s 5ms/step - loss: 6.9319 - mean_absolute_error: 6.9319\n",
            "Epoch 92/100\n",
            "1/1 [==============================] - 0s 4ms/step - loss: 6.9263 - mean_absolute_error: 6.9263\n",
            "Epoch 93/100\n",
            "1/1 [==============================] - 0s 14ms/step - loss: 6.9206 - mean_absolute_error: 6.9206\n",
            "Epoch 94/100\n",
            "1/1 [==============================] - 0s 4ms/step - loss: 6.9150 - mean_absolute_error: 6.9150\n",
            "Epoch 95/100\n",
            "1/1 [==============================] - 0s 7ms/step - loss: 6.9094 - mean_absolute_error: 6.9094\n",
            "Epoch 96/100\n",
            "1/1 [==============================] - 0s 5ms/step - loss: 6.9038 - mean_absolute_error: 6.9038\n",
            "Epoch 97/100\n",
            "1/1 [==============================] - 0s 7ms/step - loss: 6.8981 - mean_absolute_error: 6.8981\n",
            "Epoch 98/100\n",
            "1/1 [==============================] - 0s 12ms/step - loss: 6.8925 - mean_absolute_error: 6.8925\n",
            "Epoch 99/100\n",
            "1/1 [==============================] - 0s 3ms/step - loss: 6.8869 - mean_absolute_error: 6.8869\n",
            "Epoch 100/100\n",
            "1/1 [==============================] - 0s 7ms/step - loss: 6.8813 - mean_absolute_error: 6.8813\n"
          ],
          "name": "stdout"
        },
        {
          "output_type": "execute_result",
          "data": {
            "text/plain": [
              "<tensorflow.python.keras.callbacks.History at 0x7f310194a910>"
            ]
          },
          "metadata": {
            "tags": []
          },
          "execution_count": 26
        }
      ]
    },
    {
      "cell_type": "code",
      "metadata": {
        "colab": {
          "base_uri": "https://localhost:8080/"
        },
        "id": "4hfYb7A2WncI",
        "outputId": "0c10db48-8b84-40ac-a7e9-893e8e79d16f"
      },
      "source": [
        "# check out X and y \n",
        "X,y"
      ],
      "execution_count": 27,
      "outputs": [
        {
          "output_type": "execute_result",
          "data": {
            "text/plain": [
              "(<tf.Tensor: shape=(8,), dtype=float64, numpy=array([-7., -4., -1.,  2.,  5.,  8., 11., 14.])>,\n",
              " <tf.Tensor: shape=(8,), dtype=float64, numpy=array([ 3.,  6.,  9., 12., 15., 18., 21., 24.])>)"
            ]
          },
          "metadata": {
            "tags": []
          },
          "execution_count": 27
        }
      ]
    },
    {
      "cell_type": "code",
      "metadata": {
        "colab": {
          "base_uri": "https://localhost:8080/"
        },
        "id": "1QQBdqioWzZL",
        "outputId": "0675c568-22ea-4fda-d4ed-360ac5695230"
      },
      "source": [
        "model.predict([17.0])"
      ],
      "execution_count": 28,
      "outputs": [
        {
          "output_type": "execute_result",
          "data": {
            "text/plain": [
              "array([[30.158512]], dtype=float32)"
            ]
          },
          "metadata": {
            "tags": []
          },
          "execution_count": 28
        }
      ]
    },
    {
      "cell_type": "code",
      "metadata": {
        "colab": {
          "base_uri": "https://localhost:8080/"
        },
        "id": "XJJ7LOfPW1rw",
        "outputId": "56a17ee6-f935-486e-a12a-5b1a8c441a12"
      },
      "source": [
        "# Let's Rebuild our model\n",
        "\n",
        "# set random seed \n",
        "tf.random.set_seed(42)\n",
        "\n",
        "# 1. Create a model using the Sequential API : This Groups a Linear Stack of Layers into Model\n",
        "# Method : 1\n",
        "#-----------\n",
        "model = tf.keras.Sequential([\n",
        "  tf.keras.layers.Dense(1)\n",
        "])\n",
        "\n",
        "\n",
        "# Method : 2\n",
        "#-----------\n",
        "#model = tf.keras.Sequential()\n",
        "#model.add(tf.keras.layers.Dense(1))\n",
        "\n",
        "#2. Compile the model\n",
        "model.compile(loss=tf.keras.losses.mae ,# mae -> Mean Absolute Error between Labels and Predictions  : mean(abs(y_true - y_pred))\n",
        "              optimizer = tf.keras.optimizers.Adam(learning_rate=0.001),# Adam : Best of AdaGrad and RMSProp\n",
        "              metrics =[ tf.keras.losses.mae])\n",
        "\n",
        "#3. Fit the Model\n",
        "model.fit(X,y,epochs=100) # Epochs tells the model how many time the model has to go through the examples to understand the patterns "
      ],
      "execution_count": 29,
      "outputs": [
        {
          "output_type": "stream",
          "text": [
            "Epoch 1/100\n",
            "1/1 [==============================] - 0s 266ms/step - loss: 11.5048 - mean_absolute_error: 11.5048\n",
            "Epoch 2/100\n",
            "1/1 [==============================] - 0s 4ms/step - loss: 11.5003 - mean_absolute_error: 11.5003\n",
            "Epoch 3/100\n",
            "1/1 [==============================] - 0s 5ms/step - loss: 11.4958 - mean_absolute_error: 11.4958\n",
            "Epoch 4/100\n",
            "1/1 [==============================] - 0s 7ms/step - loss: 11.4913 - mean_absolute_error: 11.4913\n",
            "Epoch 5/100\n",
            "1/1 [==============================] - 0s 6ms/step - loss: 11.4868 - mean_absolute_error: 11.4868\n",
            "Epoch 6/100\n",
            "1/1 [==============================] - 0s 5ms/step - loss: 11.4823 - mean_absolute_error: 11.4823\n",
            "Epoch 7/100\n",
            "1/1 [==============================] - 0s 5ms/step - loss: 11.4778 - mean_absolute_error: 11.4778\n",
            "Epoch 8/100\n",
            "1/1 [==============================] - 0s 9ms/step - loss: 11.4733 - mean_absolute_error: 11.4733\n",
            "Epoch 9/100\n",
            "1/1 [==============================] - 0s 5ms/step - loss: 11.4688 - mean_absolute_error: 11.4688\n",
            "Epoch 10/100\n",
            "1/1 [==============================] - 0s 5ms/step - loss: 11.4643 - mean_absolute_error: 11.4643\n",
            "Epoch 11/100\n",
            "1/1 [==============================] - 0s 6ms/step - loss: 11.4598 - mean_absolute_error: 11.4598\n",
            "Epoch 12/100\n",
            "1/1 [==============================] - 0s 6ms/step - loss: 11.4553 - mean_absolute_error: 11.4553\n",
            "Epoch 13/100\n",
            "1/1 [==============================] - 0s 4ms/step - loss: 11.4508 - mean_absolute_error: 11.4508\n",
            "Epoch 14/100\n",
            "1/1 [==============================] - 0s 3ms/step - loss: 11.4463 - mean_absolute_error: 11.4463\n",
            "Epoch 15/100\n",
            "1/1 [==============================] - 0s 3ms/step - loss: 11.4418 - mean_absolute_error: 11.4418\n",
            "Epoch 16/100\n",
            "1/1 [==============================] - 0s 4ms/step - loss: 11.4373 - mean_absolute_error: 11.4373\n",
            "Epoch 17/100\n",
            "1/1 [==============================] - 0s 6ms/step - loss: 11.4328 - mean_absolute_error: 11.4328\n",
            "Epoch 18/100\n",
            "1/1 [==============================] - 0s 5ms/step - loss: 11.4283 - mean_absolute_error: 11.4283\n",
            "Epoch 19/100\n",
            "1/1 [==============================] - 0s 3ms/step - loss: 11.4238 - mean_absolute_error: 11.4238\n",
            "Epoch 20/100\n",
            "1/1 [==============================] - 0s 7ms/step - loss: 11.4193 - mean_absolute_error: 11.4193\n",
            "Epoch 21/100\n",
            "1/1 [==============================] - 0s 7ms/step - loss: 11.4148 - mean_absolute_error: 11.4148\n",
            "Epoch 22/100\n",
            "1/1 [==============================] - 0s 4ms/step - loss: 11.4103 - mean_absolute_error: 11.4103\n",
            "Epoch 23/100\n",
            "1/1 [==============================] - 0s 4ms/step - loss: 11.4058 - mean_absolute_error: 11.4058\n",
            "Epoch 24/100\n",
            "1/1 [==============================] - 0s 8ms/step - loss: 11.4013 - mean_absolute_error: 11.4013\n",
            "Epoch 25/100\n",
            "1/1 [==============================] - 0s 5ms/step - loss: 11.3968 - mean_absolute_error: 11.3968\n",
            "Epoch 26/100\n",
            "1/1 [==============================] - 0s 11ms/step - loss: 11.3923 - mean_absolute_error: 11.3923\n",
            "Epoch 27/100\n",
            "1/1 [==============================] - 0s 3ms/step - loss: 11.3878 - mean_absolute_error: 11.3878\n",
            "Epoch 28/100\n",
            "1/1 [==============================] - 0s 8ms/step - loss: 11.3833 - mean_absolute_error: 11.3833\n",
            "Epoch 29/100\n",
            "1/1 [==============================] - 0s 10ms/step - loss: 11.3788 - mean_absolute_error: 11.3788\n",
            "Epoch 30/100\n",
            "1/1 [==============================] - 0s 4ms/step - loss: 11.3743 - mean_absolute_error: 11.3743\n",
            "Epoch 31/100\n",
            "1/1 [==============================] - 0s 8ms/step - loss: 11.3698 - mean_absolute_error: 11.3698\n",
            "Epoch 32/100\n",
            "1/1 [==============================] - 0s 4ms/step - loss: 11.3653 - mean_absolute_error: 11.3653\n",
            "Epoch 33/100\n",
            "1/1 [==============================] - 0s 4ms/step - loss: 11.3608 - mean_absolute_error: 11.3608\n",
            "Epoch 34/100\n",
            "1/1 [==============================] - 0s 5ms/step - loss: 11.3563 - mean_absolute_error: 11.3563\n",
            "Epoch 35/100\n",
            "1/1 [==============================] - 0s 6ms/step - loss: 11.3518 - mean_absolute_error: 11.3518\n",
            "Epoch 36/100\n",
            "1/1 [==============================] - 0s 3ms/step - loss: 11.3473 - mean_absolute_error: 11.3473\n",
            "Epoch 37/100\n",
            "1/1 [==============================] - 0s 4ms/step - loss: 11.3428 - mean_absolute_error: 11.3428\n",
            "Epoch 38/100\n",
            "1/1 [==============================] - 0s 6ms/step - loss: 11.3383 - mean_absolute_error: 11.3383\n",
            "Epoch 39/100\n",
            "1/1 [==============================] - 0s 5ms/step - loss: 11.3338 - mean_absolute_error: 11.3338\n",
            "Epoch 40/100\n",
            "1/1 [==============================] - 0s 3ms/step - loss: 11.3293 - mean_absolute_error: 11.3293\n",
            "Epoch 41/100\n",
            "1/1 [==============================] - 0s 4ms/step - loss: 11.3248 - mean_absolute_error: 11.3248\n",
            "Epoch 42/100\n",
            "1/1 [==============================] - 0s 4ms/step - loss: 11.3203 - mean_absolute_error: 11.3203\n",
            "Epoch 43/100\n",
            "1/1 [==============================] - 0s 6ms/step - loss: 11.3158 - mean_absolute_error: 11.3158\n",
            "Epoch 44/100\n",
            "1/1 [==============================] - 0s 3ms/step - loss: 11.3113 - mean_absolute_error: 11.3113\n",
            "Epoch 45/100\n",
            "1/1 [==============================] - 0s 4ms/step - loss: 11.3068 - mean_absolute_error: 11.3068\n",
            "Epoch 46/100\n",
            "1/1 [==============================] - 0s 7ms/step - loss: 11.3023 - mean_absolute_error: 11.3023\n",
            "Epoch 47/100\n",
            "1/1 [==============================] - 0s 3ms/step - loss: 11.2978 - mean_absolute_error: 11.2978\n",
            "Epoch 48/100\n",
            "1/1 [==============================] - 0s 3ms/step - loss: 11.2933 - mean_absolute_error: 11.2933\n",
            "Epoch 49/100\n",
            "1/1 [==============================] - 0s 4ms/step - loss: 11.2888 - mean_absolute_error: 11.2888\n",
            "Epoch 50/100\n",
            "1/1 [==============================] - 0s 6ms/step - loss: 11.2843 - mean_absolute_error: 11.2843\n",
            "Epoch 51/100\n",
            "1/1 [==============================] - 0s 3ms/step - loss: 11.2798 - mean_absolute_error: 11.2798\n",
            "Epoch 52/100\n",
            "1/1 [==============================] - 0s 4ms/step - loss: 11.2753 - mean_absolute_error: 11.2753\n",
            "Epoch 53/100\n",
            "1/1 [==============================] - 0s 3ms/step - loss: 11.2708 - mean_absolute_error: 11.2708\n",
            "Epoch 54/100\n",
            "1/1 [==============================] - 0s 6ms/step - loss: 11.2663 - mean_absolute_error: 11.2663\n",
            "Epoch 55/100\n",
            "1/1 [==============================] - 0s 5ms/step - loss: 11.2618 - mean_absolute_error: 11.2618\n",
            "Epoch 56/100\n",
            "1/1 [==============================] - 0s 17ms/step - loss: 11.2573 - mean_absolute_error: 11.2573\n",
            "Epoch 57/100\n",
            "1/1 [==============================] - 0s 6ms/step - loss: 11.2528 - mean_absolute_error: 11.2528\n",
            "Epoch 58/100\n",
            "1/1 [==============================] - 0s 4ms/step - loss: 11.2483 - mean_absolute_error: 11.2483\n",
            "Epoch 59/100\n",
            "1/1 [==============================] - 0s 5ms/step - loss: 11.2438 - mean_absolute_error: 11.2438\n",
            "Epoch 60/100\n",
            "1/1 [==============================] - 0s 5ms/step - loss: 11.2393 - mean_absolute_error: 11.2393\n",
            "Epoch 61/100\n",
            "1/1 [==============================] - 0s 5ms/step - loss: 11.2348 - mean_absolute_error: 11.2348\n",
            "Epoch 62/100\n",
            "1/1 [==============================] - 0s 5ms/step - loss: 11.2303 - mean_absolute_error: 11.2303\n",
            "Epoch 63/100\n",
            "1/1 [==============================] - 0s 3ms/step - loss: 11.2258 - mean_absolute_error: 11.2258\n",
            "Epoch 64/100\n",
            "1/1 [==============================] - 0s 6ms/step - loss: 11.2213 - mean_absolute_error: 11.2213\n",
            "Epoch 65/100\n",
            "1/1 [==============================] - 0s 4ms/step - loss: 11.2168 - mean_absolute_error: 11.2168\n",
            "Epoch 66/100\n",
            "1/1 [==============================] - 0s 3ms/step - loss: 11.2123 - mean_absolute_error: 11.2123\n",
            "Epoch 67/100\n",
            "1/1 [==============================] - 0s 3ms/step - loss: 11.2078 - mean_absolute_error: 11.2078\n",
            "Epoch 68/100\n",
            "1/1 [==============================] - 0s 3ms/step - loss: 11.2033 - mean_absolute_error: 11.2033\n",
            "Epoch 69/100\n",
            "1/1 [==============================] - 0s 5ms/step - loss: 11.1988 - mean_absolute_error: 11.1988\n",
            "Epoch 70/100\n",
            "1/1 [==============================] - 0s 4ms/step - loss: 11.1943 - mean_absolute_error: 11.1943\n",
            "Epoch 71/100\n",
            "1/1 [==============================] - 0s 8ms/step - loss: 11.1898 - mean_absolute_error: 11.1898\n",
            "Epoch 72/100\n",
            "1/1 [==============================] - 0s 4ms/step - loss: 11.1853 - mean_absolute_error: 11.1853\n",
            "Epoch 73/100\n",
            "1/1 [==============================] - 0s 5ms/step - loss: 11.1808 - mean_absolute_error: 11.1808\n",
            "Epoch 74/100\n",
            "1/1 [==============================] - 0s 3ms/step - loss: 11.1763 - mean_absolute_error: 11.1763\n",
            "Epoch 75/100\n",
            "1/1 [==============================] - 0s 4ms/step - loss: 11.1718 - mean_absolute_error: 11.1718\n",
            "Epoch 76/100\n",
            "1/1 [==============================] - 0s 8ms/step - loss: 11.1673 - mean_absolute_error: 11.1673\n",
            "Epoch 77/100\n",
            "1/1 [==============================] - 0s 3ms/step - loss: 11.1628 - mean_absolute_error: 11.1628\n",
            "Epoch 78/100\n",
            "1/1 [==============================] - 0s 4ms/step - loss: 11.1583 - mean_absolute_error: 11.1583\n",
            "Epoch 79/100\n",
            "1/1 [==============================] - 0s 14ms/step - loss: 11.1538 - mean_absolute_error: 11.1538\n",
            "Epoch 80/100\n",
            "1/1 [==============================] - 0s 4ms/step - loss: 11.1493 - mean_absolute_error: 11.1493\n",
            "Epoch 81/100\n",
            "1/1 [==============================] - 0s 11ms/step - loss: 11.1448 - mean_absolute_error: 11.1448\n",
            "Epoch 82/100\n",
            "1/1 [==============================] - 0s 13ms/step - loss: 11.1403 - mean_absolute_error: 11.1403\n",
            "Epoch 83/100\n",
            "1/1 [==============================] - 0s 8ms/step - loss: 11.1358 - mean_absolute_error: 11.1358\n",
            "Epoch 84/100\n",
            "1/1 [==============================] - 0s 15ms/step - loss: 11.1313 - mean_absolute_error: 11.1313\n",
            "Epoch 85/100\n",
            "1/1 [==============================] - 0s 4ms/step - loss: 11.1268 - mean_absolute_error: 11.1268\n",
            "Epoch 86/100\n",
            "1/1 [==============================] - 0s 4ms/step - loss: 11.1223 - mean_absolute_error: 11.1223\n",
            "Epoch 87/100\n",
            "1/1 [==============================] - 0s 5ms/step - loss: 11.1178 - mean_absolute_error: 11.1178\n",
            "Epoch 88/100\n",
            "1/1 [==============================] - 0s 6ms/step - loss: 11.1133 - mean_absolute_error: 11.1133\n",
            "Epoch 89/100\n",
            "1/1 [==============================] - 0s 3ms/step - loss: 11.1088 - mean_absolute_error: 11.1088\n",
            "Epoch 90/100\n",
            "1/1 [==============================] - 0s 6ms/step - loss: 11.1043 - mean_absolute_error: 11.1043\n",
            "Epoch 91/100\n",
            "1/1 [==============================] - 0s 6ms/step - loss: 11.0998 - mean_absolute_error: 11.0998\n",
            "Epoch 92/100\n",
            "1/1 [==============================] - 0s 4ms/step - loss: 11.0953 - mean_absolute_error: 11.0953\n",
            "Epoch 93/100\n",
            "1/1 [==============================] - 0s 6ms/step - loss: 11.0908 - mean_absolute_error: 11.0908\n",
            "Epoch 94/100\n",
            "1/1 [==============================] - 0s 4ms/step - loss: 11.0863 - mean_absolute_error: 11.0863\n",
            "Epoch 95/100\n",
            "1/1 [==============================] - 0s 6ms/step - loss: 11.0818 - mean_absolute_error: 11.0818\n",
            "Epoch 96/100\n",
            "1/1 [==============================] - 0s 6ms/step - loss: 11.0773 - mean_absolute_error: 11.0773\n",
            "Epoch 97/100\n",
            "1/1 [==============================] - 0s 6ms/step - loss: 11.0728 - mean_absolute_error: 11.0728\n",
            "Epoch 98/100\n",
            "1/1 [==============================] - 0s 5ms/step - loss: 11.0683 - mean_absolute_error: 11.0683\n",
            "Epoch 99/100\n",
            "1/1 [==============================] - 0s 5ms/step - loss: 11.0638 - mean_absolute_error: 11.0638\n",
            "Epoch 100/100\n",
            "1/1 [==============================] - 0s 4ms/step - loss: 11.0593 - mean_absolute_error: 11.0593\n"
          ],
          "name": "stdout"
        },
        {
          "output_type": "execute_result",
          "data": {
            "text/plain": [
              "<tensorflow.python.keras.callbacks.History at 0x7f310103b950>"
            ]
          },
          "metadata": {
            "tags": []
          },
          "execution_count": 29
        }
      ]
    },
    {
      "cell_type": "code",
      "metadata": {
        "colab": {
          "base_uri": "https://localhost:8080/"
        },
        "id": "Hd3LBa-NXVLA",
        "outputId": "ff5c2bb0-1722-400d-9dff-0bd403bbf49a"
      },
      "source": [
        "model.predict([17.0])"
      ],
      "execution_count": 30,
      "outputs": [
        {
          "output_type": "execute_result",
          "data": {
            "text/plain": [
              "array([[11.490996]], dtype=float32)"
            ]
          },
          "metadata": {
            "tags": []
          },
          "execution_count": 30
        }
      ]
    },
    {
      "cell_type": "code",
      "metadata": {
        "colab": {
          "base_uri": "https://localhost:8080/"
        },
        "id": "QfzP27SGXXJ4",
        "outputId": "3b8fa3d3-7f1f-49c8-9bb3-e03de83b827b"
      },
      "source": [
        "# Let's Rebuild our model\n",
        "\n",
        "# set random seed \n",
        "tf.random.set_seed(42)\n",
        "\n",
        "# 1. Create a model using the Sequential API : This Groups a Linear Stack of Layers into Model\n",
        "# Method : 1\n",
        "#-----------\n",
        "model = tf.keras.Sequential([\n",
        "  tf.keras.layers.Dense(50, activation =None),\n",
        "  tf.keras.layers.Dense(1)\n",
        "])\n",
        "\n",
        "\n",
        "# Method : 2\n",
        "#-----------\n",
        "#model = tf.keras.Sequential()\n",
        "#model.add(tf.keras.layers.Dense(1))\n",
        "\n",
        "#2. Compile the model\n",
        "model.compile(loss=tf.keras.losses.mae ,# mae -> Mean Absolute Error between Labels and Predictions  : mean(abs(y_true - y_pred))\n",
        "              optimizer = tf.keras.optimizers.Adam(learning_rate=0.01),# Adam : Best of AdaGrad and RMSProp\n",
        "              metrics =[ tf.keras.losses.mae])\n",
        "\n",
        "#3. Fit the Model\n",
        "model.fit(X,y,epochs=100) # Epochs tells the model how many time the model has to go through the examples to understand the patterns "
      ],
      "execution_count": 38,
      "outputs": [
        {
          "output_type": "stream",
          "text": [
            "Epoch 1/100\n",
            "1/1 [==============================] - 0s 268ms/step - loss: 13.1820 - mean_absolute_error: 13.1820\n",
            "Epoch 2/100\n",
            "1/1 [==============================] - 0s 4ms/step - loss: 12.5071 - mean_absolute_error: 12.5071\n",
            "Epoch 3/100\n",
            "1/1 [==============================] - 0s 3ms/step - loss: 11.8279 - mean_absolute_error: 11.8279\n",
            "Epoch 4/100\n",
            "1/1 [==============================] - 0s 5ms/step - loss: 11.1425 - mean_absolute_error: 11.1425\n",
            "Epoch 5/100\n",
            "1/1 [==============================] - 0s 8ms/step - loss: 10.4485 - mean_absolute_error: 10.4485\n",
            "Epoch 6/100\n",
            "1/1 [==============================] - 0s 3ms/step - loss: 9.7427 - mean_absolute_error: 9.7427\n",
            "Epoch 7/100\n",
            "1/1 [==============================] - 0s 5ms/step - loss: 9.0218 - mean_absolute_error: 9.0218\n",
            "Epoch 8/100\n",
            "1/1 [==============================] - 0s 3ms/step - loss: 8.2826 - mean_absolute_error: 8.2826\n",
            "Epoch 9/100\n",
            "1/1 [==============================] - 0s 4ms/step - loss: 7.5221 - mean_absolute_error: 7.5221\n",
            "Epoch 10/100\n",
            "1/1 [==============================] - 0s 5ms/step - loss: 6.7841 - mean_absolute_error: 6.7841\n",
            "Epoch 11/100\n",
            "1/1 [==============================] - 0s 3ms/step - loss: 6.7505 - mean_absolute_error: 6.7505\n",
            "Epoch 12/100\n",
            "1/1 [==============================] - 0s 10ms/step - loss: 7.0302 - mean_absolute_error: 7.0302\n",
            "Epoch 13/100\n",
            "1/1 [==============================] - 0s 3ms/step - loss: 7.1931 - mean_absolute_error: 7.1931\n",
            "Epoch 14/100\n",
            "1/1 [==============================] - 0s 3ms/step - loss: 7.2735 - mean_absolute_error: 7.2735\n",
            "Epoch 15/100\n",
            "1/1 [==============================] - 0s 3ms/step - loss: 7.2165 - mean_absolute_error: 7.2165\n",
            "Epoch 16/100\n",
            "1/1 [==============================] - 0s 4ms/step - loss: 7.0282 - mean_absolute_error: 7.0282\n",
            "Epoch 17/100\n",
            "1/1 [==============================] - 0s 5ms/step - loss: 6.8275 - mean_absolute_error: 6.8275\n",
            "Epoch 18/100\n",
            "1/1 [==============================] - 0s 3ms/step - loss: 6.5956 - mean_absolute_error: 6.5956\n",
            "Epoch 19/100\n",
            "1/1 [==============================] - 0s 4ms/step - loss: 6.3389 - mean_absolute_error: 6.3389\n",
            "Epoch 20/100\n",
            "1/1 [==============================] - 0s 3ms/step - loss: 6.0742 - mean_absolute_error: 6.0742\n",
            "Epoch 21/100\n",
            "1/1 [==============================] - 0s 6ms/step - loss: 6.0195 - mean_absolute_error: 6.0195\n",
            "Epoch 22/100\n",
            "1/1 [==============================] - 0s 3ms/step - loss: 5.9610 - mean_absolute_error: 5.9610\n",
            "Epoch 23/100\n",
            "1/1 [==============================] - 0s 4ms/step - loss: 6.0150 - mean_absolute_error: 6.0150\n",
            "Epoch 24/100\n",
            "1/1 [==============================] - 0s 5ms/step - loss: 6.0147 - mean_absolute_error: 6.0147\n",
            "Epoch 25/100\n",
            "1/1 [==============================] - 0s 3ms/step - loss: 5.9085 - mean_absolute_error: 5.9085\n",
            "Epoch 26/100\n",
            "1/1 [==============================] - 0s 4ms/step - loss: 5.7090 - mean_absolute_error: 5.7090\n",
            "Epoch 27/100\n",
            "1/1 [==============================] - 0s 4ms/step - loss: 5.5382 - mean_absolute_error: 5.5382\n",
            "Epoch 28/100\n",
            "1/1 [==============================] - 0s 5ms/step - loss: 5.4295 - mean_absolute_error: 5.4295\n",
            "Epoch 29/100\n",
            "1/1 [==============================] - 0s 3ms/step - loss: 5.3177 - mean_absolute_error: 5.3177\n",
            "Epoch 30/100\n",
            "1/1 [==============================] - 0s 6ms/step - loss: 5.3173 - mean_absolute_error: 5.3173\n",
            "Epoch 31/100\n",
            "1/1 [==============================] - 0s 3ms/step - loss: 5.2878 - mean_absolute_error: 5.2878\n",
            "Epoch 32/100\n",
            "1/1 [==============================] - 0s 13ms/step - loss: 5.2103 - mean_absolute_error: 5.2103\n",
            "Epoch 33/100\n",
            "1/1 [==============================] - 0s 3ms/step - loss: 5.0890 - mean_absolute_error: 5.0890\n",
            "Epoch 34/100\n",
            "1/1 [==============================] - 0s 4ms/step - loss: 4.9280 - mean_absolute_error: 4.9280\n",
            "Epoch 35/100\n",
            "1/1 [==============================] - 0s 3ms/step - loss: 4.7312 - mean_absolute_error: 4.7312\n",
            "Epoch 36/100\n",
            "1/1 [==============================] - 0s 3ms/step - loss: 4.6041 - mean_absolute_error: 4.6041\n",
            "Epoch 37/100\n",
            "1/1 [==============================] - 0s 6ms/step - loss: 4.5056 - mean_absolute_error: 4.5056\n",
            "Epoch 38/100\n",
            "1/1 [==============================] - 0s 4ms/step - loss: 4.4017 - mean_absolute_error: 4.4017\n",
            "Epoch 39/100\n",
            "1/1 [==============================] - 0s 4ms/step - loss: 4.2958 - mean_absolute_error: 4.2958\n",
            "Epoch 40/100\n",
            "1/1 [==============================] - 0s 6ms/step - loss: 4.1313 - mean_absolute_error: 4.1313\n",
            "Epoch 41/100\n",
            "1/1 [==============================] - 0s 5ms/step - loss: 3.9818 - mean_absolute_error: 3.9818\n",
            "Epoch 42/100\n",
            "1/1 [==============================] - 0s 5ms/step - loss: 3.8253 - mean_absolute_error: 3.8253\n",
            "Epoch 43/100\n",
            "1/1 [==============================] - 0s 3ms/step - loss: 3.6671 - mean_absolute_error: 3.6671\n",
            "Epoch 44/100\n",
            "1/1 [==============================] - 0s 5ms/step - loss: 3.5365 - mean_absolute_error: 3.5365\n",
            "Epoch 45/100\n",
            "1/1 [==============================] - 0s 4ms/step - loss: 3.3534 - mean_absolute_error: 3.3534\n",
            "Epoch 46/100\n",
            "1/1 [==============================] - 0s 5ms/step - loss: 3.1903 - mean_absolute_error: 3.1903\n",
            "Epoch 47/100\n",
            "1/1 [==============================] - 0s 6ms/step - loss: 3.0254 - mean_absolute_error: 3.0254\n",
            "Epoch 48/100\n",
            "1/1 [==============================] - 0s 3ms/step - loss: 2.8499 - mean_absolute_error: 2.8499\n",
            "Epoch 49/100\n",
            "1/1 [==============================] - 0s 4ms/step - loss: 2.6844 - mean_absolute_error: 2.6844\n",
            "Epoch 50/100\n",
            "1/1 [==============================] - 0s 4ms/step - loss: 2.4541 - mean_absolute_error: 2.4541\n",
            "Epoch 51/100\n",
            "1/1 [==============================] - 0s 5ms/step - loss: 2.2346 - mean_absolute_error: 2.2346\n",
            "Epoch 52/100\n",
            "1/1 [==============================] - 0s 5ms/step - loss: 2.0468 - mean_absolute_error: 2.0468\n",
            "Epoch 53/100\n",
            "1/1 [==============================] - 0s 3ms/step - loss: 1.8348 - mean_absolute_error: 1.8348\n",
            "Epoch 54/100\n",
            "1/1 [==============================] - 0s 3ms/step - loss: 1.5549 - mean_absolute_error: 1.5549\n",
            "Epoch 55/100\n",
            "1/1 [==============================] - 0s 6ms/step - loss: 1.3570 - mean_absolute_error: 1.3570\n",
            "Epoch 56/100\n",
            "1/1 [==============================] - 0s 3ms/step - loss: 1.1130 - mean_absolute_error: 1.1130\n",
            "Epoch 57/100\n",
            "1/1 [==============================] - 0s 3ms/step - loss: 0.8263 - mean_absolute_error: 0.8263\n",
            "Epoch 58/100\n",
            "1/1 [==============================] - 0s 4ms/step - loss: 0.6080 - mean_absolute_error: 0.6080\n",
            "Epoch 59/100\n",
            "1/1 [==============================] - 0s 5ms/step - loss: 0.2654 - mean_absolute_error: 0.2654\n",
            "Epoch 60/100\n",
            "1/1 [==============================] - 0s 5ms/step - loss: 0.1994 - mean_absolute_error: 0.1994\n",
            "Epoch 61/100\n",
            "1/1 [==============================] - 0s 4ms/step - loss: 0.3319 - mean_absolute_error: 0.3319\n",
            "Epoch 62/100\n",
            "1/1 [==============================] - 0s 4ms/step - loss: 0.5022 - mean_absolute_error: 0.5022\n",
            "Epoch 63/100\n",
            "1/1 [==============================] - 0s 5ms/step - loss: 0.6316 - mean_absolute_error: 0.6316\n",
            "Epoch 64/100\n",
            "1/1 [==============================] - 0s 6ms/step - loss: 0.7575 - mean_absolute_error: 0.7575\n",
            "Epoch 65/100\n",
            "1/1 [==============================] - 0s 3ms/step - loss: 0.6993 - mean_absolute_error: 0.6993\n",
            "Epoch 66/100\n",
            "1/1 [==============================] - 0s 8ms/step - loss: 0.8384 - mean_absolute_error: 0.8384\n",
            "Epoch 67/100\n",
            "1/1 [==============================] - 0s 5ms/step - loss: 0.8231 - mean_absolute_error: 0.8231\n",
            "Epoch 68/100\n",
            "1/1 [==============================] - 0s 4ms/step - loss: 0.6088 - mean_absolute_error: 0.6088\n",
            "Epoch 69/100\n",
            "1/1 [==============================] - 0s 5ms/step - loss: 0.6624 - mean_absolute_error: 0.6624\n",
            "Epoch 70/100\n",
            "1/1 [==============================] - 0s 6ms/step - loss: 0.6882 - mean_absolute_error: 0.6882\n",
            "Epoch 71/100\n",
            "1/1 [==============================] - 0s 8ms/step - loss: 0.4096 - mean_absolute_error: 0.4096\n",
            "Epoch 72/100\n",
            "1/1 [==============================] - 0s 22ms/step - loss: 0.2376 - mean_absolute_error: 0.2376\n",
            "Epoch 73/100\n",
            "1/1 [==============================] - 0s 11ms/step - loss: 0.4573 - mean_absolute_error: 0.4573\n",
            "Epoch 74/100\n",
            "1/1 [==============================] - 0s 8ms/step - loss: 0.3699 - mean_absolute_error: 0.3699\n",
            "Epoch 75/100\n",
            "1/1 [==============================] - 0s 8ms/step - loss: 0.3439 - mean_absolute_error: 0.3439\n",
            "Epoch 76/100\n",
            "1/1 [==============================] - 0s 16ms/step - loss: 0.5023 - mean_absolute_error: 0.5023\n",
            "Epoch 77/100\n",
            "1/1 [==============================] - 0s 9ms/step - loss: 0.4859 - mean_absolute_error: 0.4859\n",
            "Epoch 78/100\n",
            "1/1 [==============================] - 0s 7ms/step - loss: 0.3219 - mean_absolute_error: 0.3219\n",
            "Epoch 79/100\n",
            "1/1 [==============================] - 0s 7ms/step - loss: 0.3975 - mean_absolute_error: 0.3975\n",
            "Epoch 80/100\n",
            "1/1 [==============================] - 0s 4ms/step - loss: 0.3645 - mean_absolute_error: 0.3645\n",
            "Epoch 81/100\n",
            "1/1 [==============================] - 0s 4ms/step - loss: 0.1428 - mean_absolute_error: 0.1428\n",
            "Epoch 82/100\n",
            "1/1 [==============================] - 0s 6ms/step - loss: 0.0749 - mean_absolute_error: 0.0749\n",
            "Epoch 83/100\n",
            "1/1 [==============================] - 0s 5ms/step - loss: 0.1437 - mean_absolute_error: 0.1437\n",
            "Epoch 84/100\n",
            "1/1 [==============================] - 0s 5ms/step - loss: 0.1804 - mean_absolute_error: 0.1804\n",
            "Epoch 85/100\n",
            "1/1 [==============================] - 0s 5ms/step - loss: 0.3013 - mean_absolute_error: 0.3013\n",
            "Epoch 86/100\n",
            "1/1 [==============================] - 0s 5ms/step - loss: 0.2711 - mean_absolute_error: 0.2711\n",
            "Epoch 87/100\n",
            "1/1 [==============================] - 0s 8ms/step - loss: 0.2547 - mean_absolute_error: 0.2547\n",
            "Epoch 88/100\n",
            "1/1 [==============================] - 0s 3ms/step - loss: 0.2350 - mean_absolute_error: 0.2350\n",
            "Epoch 89/100\n",
            "1/1 [==============================] - 0s 3ms/step - loss: 0.0871 - mean_absolute_error: 0.0871\n",
            "Epoch 90/100\n",
            "1/1 [==============================] - 0s 3ms/step - loss: 0.0687 - mean_absolute_error: 0.0687\n",
            "Epoch 91/100\n",
            "1/1 [==============================] - 0s 6ms/step - loss: 0.2191 - mean_absolute_error: 0.2191\n",
            "Epoch 92/100\n",
            "1/1 [==============================] - 0s 3ms/step - loss: 0.2195 - mean_absolute_error: 0.2195\n",
            "Epoch 93/100\n",
            "1/1 [==============================] - 0s 4ms/step - loss: 0.2530 - mean_absolute_error: 0.2530\n",
            "Epoch 94/100\n",
            "1/1 [==============================] - 0s 13ms/step - loss: 0.2993 - mean_absolute_error: 0.2993\n",
            "Epoch 95/100\n",
            "1/1 [==============================] - 0s 7ms/step - loss: 0.1965 - mean_absolute_error: 0.1965\n",
            "Epoch 96/100\n",
            "1/1 [==============================] - 0s 14ms/step - loss: 0.2204 - mean_absolute_error: 0.2204\n",
            "Epoch 97/100\n",
            "1/1 [==============================] - 0s 6ms/step - loss: 0.1981 - mean_absolute_error: 0.1981\n",
            "Epoch 98/100\n",
            "1/1 [==============================] - 0s 6ms/step - loss: 0.1086 - mean_absolute_error: 0.1086\n",
            "Epoch 99/100\n",
            "1/1 [==============================] - 0s 5ms/step - loss: 0.1370 - mean_absolute_error: 0.1370\n",
            "Epoch 100/100\n",
            "1/1 [==============================] - 0s 4ms/step - loss: 0.1814 - mean_absolute_error: 0.1814\n"
          ],
          "name": "stdout"
        },
        {
          "output_type": "execute_result",
          "data": {
            "text/plain": [
              "<tensorflow.python.keras.callbacks.History at 0x7f3101833550>"
            ]
          },
          "metadata": {
            "tags": []
          },
          "execution_count": 38
        }
      ]
    },
    {
      "cell_type": "code",
      "metadata": {
        "colab": {
          "base_uri": "https://localhost:8080/"
        },
        "id": "wBfVF3HJXi4M",
        "outputId": "d73b74cd-8571-40cd-f271-7c9657d1762a"
      },
      "source": [
        "model.predict([17.0])"
      ],
      "execution_count": 39,
      "outputs": [
        {
          "output_type": "execute_result",
          "data": {
            "text/plain": [
              "array([[27.216782]], dtype=float32)"
            ]
          },
          "metadata": {
            "tags": []
          },
          "execution_count": 39
        }
      ]
    },
    {
      "cell_type": "markdown",
      "metadata": {
        "id": "4IaF71aLXo4U"
      },
      "source": [
        "### Evaluating a Model\n",
        "\n",
        "When it comes to evaluation. the Best Way to analyze the results would be to Visualiza the Results.\n",
        "\n",
        "Its a good idea to visualize:\n",
        "* The data - what data are we working with ? What does it look like ?\n",
        "* The Model itself - what does our model look like ?\n",
        "* The training of a model - how does a model perform while it learns?\n",
        "* The Predictions of the model - how do the predictions of a model line up against the ground truth (the original labels)"
      ]
    },
    {
      "cell_type": "code",
      "metadata": {
        "colab": {
          "base_uri": "https://localhost:8080/"
        },
        "id": "cs5qSyKEYzk4",
        "outputId": "4e67303e-065b-4172-a8bf-6fa0ce32ca29"
      },
      "source": [
        "# Lets create a Bigger Dataset\n",
        "X = tf.range(-100,100,4)\n",
        "X"
      ],
      "execution_count": 41,
      "outputs": [
        {
          "output_type": "execute_result",
          "data": {
            "text/plain": [
              "<tf.Tensor: shape=(50,), dtype=int32, numpy=\n",
              "array([-100,  -96,  -92,  -88,  -84,  -80,  -76,  -72,  -68,  -64,  -60,\n",
              "        -56,  -52,  -48,  -44,  -40,  -36,  -32,  -28,  -24,  -20,  -16,\n",
              "        -12,   -8,   -4,    0,    4,    8,   12,   16,   20,   24,   28,\n",
              "         32,   36,   40,   44,   48,   52,   56,   60,   64,   68,   72,\n",
              "         76,   80,   84,   88,   92,   96], dtype=int32)>"
            ]
          },
          "metadata": {
            "tags": []
          },
          "execution_count": 41
        }
      ]
    },
    {
      "cell_type": "code",
      "metadata": {
        "colab": {
          "base_uri": "https://localhost:8080/"
        },
        "id": "BNjbZsztcPO0",
        "outputId": "be5adc99-dfdb-48be-f043-0c53c4a475ef"
      },
      "source": [
        "# Create Labesla for the input Features \n",
        "y= X +10 \n",
        "y"
      ],
      "execution_count": 42,
      "outputs": [
        {
          "output_type": "execute_result",
          "data": {
            "text/plain": [
              "<tf.Tensor: shape=(50,), dtype=int32, numpy=\n",
              "array([-90, -86, -82, -78, -74, -70, -66, -62, -58, -54, -50, -46, -42,\n",
              "       -38, -34, -30, -26, -22, -18, -14, -10,  -6,  -2,   2,   6,  10,\n",
              "        14,  18,  22,  26,  30,  34,  38,  42,  46,  50,  54,  58,  62,\n",
              "        66,  70,  74,  78,  82,  86,  90,  94,  98, 102, 106], dtype=int32)>"
            ]
          },
          "metadata": {
            "tags": []
          },
          "execution_count": 42
        }
      ]
    },
    {
      "cell_type": "code",
      "metadata": {
        "colab": {
          "base_uri": "https://localhost:8080/",
          "height": 282
        },
        "id": "Nfc-o2hccZ0n",
        "outputId": "3564c1a0-9d8e-43e4-aa8b-91f9b8b76f03"
      },
      "source": [
        "# Visualize the Data\n",
        "\n",
        "plt.scatter(X,y)"
      ],
      "execution_count": 43,
      "outputs": [
        {
          "output_type": "execute_result",
          "data": {
            "text/plain": [
              "<matplotlib.collections.PathCollection at 0x7f3101731810>"
            ]
          },
          "metadata": {
            "tags": []
          },
          "execution_count": 43
        },
        {
          "output_type": "display_data",
          "data": {
            "image/png": "[encoded data removed]",
            "text/plain": [
              "<Figure size 432x288 with 1 Axes>"
            ]
          },
          "metadata": {
            "tags": [],
            "needs_background": "light"
          }
        }
      ]
    },
    {
      "cell_type": "markdown",
      "metadata": {
        "id": "DM8YtnJAcf9v"
      },
      "source": [
        "### Lets Divide the Set into the Popular 3 Sets Logic \n",
        "\n",
        "* **Training Set** : the model learns from this data, which is typically 70-80% of the total data you have available.\n",
        "* **Validation Set** : the model gets the tuned on this data, which is typically 10-15% of the data available.\n",
        "* **Test Set** : the model gets evaluated on this data to test what it has learned,  this is typically 10-15% of the total data available.\n",
        "\n"
      ]
    },
    {
      "cell_type": "code",
      "metadata": {
        "colab": {
          "base_uri": "https://localhost:8080/"
        },
        "id": "tjKtjgCGdxKW",
        "outputId": "05b2b9cf-ac36-4441-b3f5-70cd40edf29f"
      },
      "source": [
        "# check the length the of the input samples we have \n",
        "len(X)"
      ],
      "execution_count": 44,
      "outputs": [
        {
          "output_type": "execute_result",
          "data": {
            "text/plain": [
              "50"
            ]
          },
          "metadata": {
            "tags": []
          },
          "execution_count": 44
        }
      ]
    },
    {
      "cell_type": "code",
      "metadata": {
        "colab": {
          "base_uri": "https://localhost:8080/"
        },
        "id": "BBbgE6vBd7PP",
        "outputId": "098bef10-115c-4c3d-c03e-25de5578c00f"
      },
      "source": [
        "# Split the data into train and test data.\n",
        "X_train = X[:40] # first 40 are training sample (80% data)\n",
        "X_test =  X[40:] # Last 10 are test sample (20% data)\n",
        "\n",
        "y_train = y[:40] # first 40 are training sample (80% data)\n",
        "y_test =  y[40:] # Last 10 are test sample (20% data)\n",
        "\n",
        "len(X_train),len(y_train),len(X_test),len(X_test)"
      ],
      "execution_count": 45,
      "outputs": [
        {
          "output_type": "execute_result",
          "data": {
            "text/plain": [
              "(40, 40, 10, 10)"
            ]
          },
          "metadata": {
            "tags": []
          },
          "execution_count": 45
        }
      ]
    },
    {
      "cell_type": "markdown",
      "metadata": {
        "id": "ObMZRfj0ebki"
      },
      "source": [
        "### Visualizaing the data"
      ]
    },
    {
      "cell_type": "code",
      "metadata": {
        "colab": {
          "base_uri": "https://localhost:8080/",
          "height": 445
        },
        "id": "b5m1i_eNej7H",
        "outputId": "ebfe152b-c35b-4bc4-d04b-678adda8a31b"
      },
      "source": [
        "plt.figure(figsize=(10,7))\n",
        "# Plot training data in blue\n",
        "plt.scatter(X_train,y_train , c='b', label = 'training data')\n",
        "# Plot testing data in blue\n",
        "plt.scatter(X_test,y_test , c='r', label = 'testing data')\n",
        "plt.legend()"
      ],
      "execution_count": 46,
      "outputs": [
        {
          "output_type": "execute_result",
          "data": {
            "text/plain": [
              "<matplotlib.legend.Legend at 0x7f31016ef290>"
            ]
          },
          "metadata": {
            "tags": []
          },
          "execution_count": 46
        },
        {
          "output_type": "display_data",
          "data": {
            "image/png": "[encoded data removed]",
            "text/plain": [
              "<Figure size 720x504 with 1 Axes>"
            ]
          },
          "metadata": {
            "tags": [],
            "needs_background": "light"
          }
        }
      ]
    },
    {
      "cell_type": "code",
      "metadata": {
        "colab": {
          "base_uri": "https://localhost:8080/"
        },
        "id": "Nj0N1n2Xe4Dk",
        "outputId": "9f91cff1-0267-4938-edf0-b91ef75e30fe"
      },
      "source": [
        "# set random seed \n",
        "tf.random.set_seed(42)\n",
        "\n",
        "# 1. Create a model using the Sequential API : This Groups a Linear Stack of Layers into Model.\n",
        "# Method : 1\n",
        "#-----------\n",
        "model = tf.keras.Sequential([\n",
        "  tf.keras.layers.Dense(10, input_shape=[1], name='Hidden-layer-1'),  # Dense : Fully Connected Layer\n",
        "  tf.keras.layers.Dense(1 ,name='Output-layer')\n",
        "], name = 'Model-1')\n",
        "\n",
        "\n",
        "# Method : 2\n",
        "#-----------\n",
        "#model = tf.keras.Sequential()\n",
        "#model.add(tf.keras.layers.Dense(1))\n",
        "\n",
        "#2. Compile the model\n",
        "model.compile(loss=tf.keras.losses.mae ,# mae -> Mean Absolute Error between Labels and Predictions  : mean(abs(y_true - y_pred))\n",
        "              optimizer = tf.keras.optimizers.SGD(),\n",
        "              metrics =[ tf.keras.losses.mae])\n",
        "model.summary()"
      ],
      "execution_count": 75,
      "outputs": [
        {
          "output_type": "stream",
          "text": [
            "Model: \"Model-1\"\n",
            "_________________________________________________________________\n",
            "Layer (type)                 Output Shape              Param #   \n",
            "=================================================================\n",
            "Hidden-layer-1 (Dense)       (None, 10)                20        \n",
            "_________________________________________________________________\n",
            "Output-layer (Dense)         (None, 1)                 11        \n",
            "=================================================================\n",
            "Total params: 31\n",
            "Trainable params: 31\n",
            "Non-trainable params: 0\n",
            "_________________________________________________________________\n"
          ],
          "name": "stdout"
        }
      ]
    },
    {
      "cell_type": "markdown",
      "metadata": {
        "id": "tE3s61eBnqpH"
      },
      "source": [
        "* Total Params : Total number of parameters in the model.\n",
        "* Trainable Parameters : these are the parameters (patterns) the model can update as it trains.\n",
        "* Non-Trainable Params : These Parameters aren't updated during training (this is typical when you bring in already learn patterns from other models during **transfer learning**)."
      ]
    },
    {
      "cell_type": "code",
      "metadata": {
        "colab": {
          "base_uri": "https://localhost:8080/"
        },
        "id": "wG1dpVnanOkD",
        "outputId": "73943d9f-8b89-4967-e3d3-37c0d2e3fe6b"
      },
      "source": [
        "#3. Fit the Model\n",
        "model.fit(X_train,y_train,epochs=100,verbose=0) # Epochs tells the model how many time the model has to go through the examples to understand the patterns "
      ],
      "execution_count": 76,
      "outputs": [
        {
          "output_type": "execute_result",
          "data": {
            "text/plain": [
              "<tensorflow.python.keras.callbacks.History at 0x7f31038f1bd0>"
            ]
          },
          "metadata": {
            "tags": []
          },
          "execution_count": 76
        }
      ]
    },
    {
      "cell_type": "code",
      "metadata": {
        "colab": {
          "base_uri": "https://localhost:8080/",
          "height": 312
        },
        "id": "5V3lwaM30F1P",
        "outputId": "fad1b427-3da2-4c75-a5d7-b51071c17a5f"
      },
      "source": [
        "from tensorflow.keras.utils import plot_model\n",
        "plot_model(model=model , show_shapes =True)"
      ],
      "execution_count": 77,
      "outputs": [
        {
          "output_type": "execute_result",
          "data": {
            "image/png": "[encoded data removed]",
            "text/plain": [
              "<IPython.core.display.Image object>"
            ]
          },
          "metadata": {
            "tags": []
          },
          "execution_count": 77
        }
      ]
    },
    {
      "cell_type": "markdown",
      "metadata": {
        "id": "U2GYOqSz0oIF"
      },
      "source": [
        "### Visualizing our Model's Predictions \n",
        "\n",
        "To Visualize Predictions, its a good odea to plot them against the ground truth labels.\n",
        "\n",
        "Often we will see this is in form of `y_test` or `y_true` versus `y_pred` "
      ]
    },
    {
      "cell_type": "code",
      "metadata": {
        "colab": {
          "base_uri": "https://localhost:8080/"
        },
        "id": "rBXZ_mVm4b_e",
        "outputId": "ffb46d8c-9fb7-467e-e756-8a3d99a40ca0"
      },
      "source": [
        "# Make some preidctions\n",
        "y_pred = model.predict(X_test)\n",
        "y_pred"
      ],
      "execution_count": 78,
      "outputs": [
        {
          "output_type": "execute_result",
          "data": {
            "text/plain": [
              "array([[ 70.55218 ],\n",
              "       [ 75.13991 ],\n",
              "       [ 79.72763 ],\n",
              "       [ 84.31535 ],\n",
              "       [ 88.903076],\n",
              "       [ 93.49081 ],\n",
              "       [ 98.07853 ],\n",
              "       [102.66625 ],\n",
              "       [107.253975],\n",
              "       [111.8417  ]], dtype=float32)"
            ]
          },
          "metadata": {
            "tags": []
          },
          "execution_count": 78
        }
      ]
    },
    {
      "cell_type": "code",
      "metadata": {
        "id": "MBqa8ZIx5xQM"
      },
      "source": [
        "# lets create a plotting Function\n",
        "def plot_predictions(train_data=X_train,\n",
        "                     train_labels=y_train,\n",
        "                     test_data=X_test,\n",
        "                     test_labels=y_test,\n",
        "                     predictions=y_pred):\n",
        "  \n",
        "  \"\"\"\n",
        "  Plots training data, test data and compares predictions to ground truth labels\n",
        "  \"\"\"\n",
        "  plt.figure(figsize=(10,7))\n",
        "  # Plot training data in blue\n",
        "  plt.scatter(train_data,train_labels , c='b', label = 'training data')\n",
        "  # Plot testing data in green\n",
        "  plt.scatter(test_data,test_labels , c='g', label = 'testing data')\n",
        "  # Plot testing data in red\n",
        "  plt.scatter(test_data,predictions , c='r', label = 'predictions data')\n",
        "  plt.legend()\n"
      ],
      "execution_count": 79,
      "outputs": []
    },
    {
      "cell_type": "code",
      "metadata": {
        "colab": {
          "base_uri": "https://localhost:8080/",
          "height": 428
        },
        "id": "eEZfOPjZ9nfa",
        "outputId": "e3732987-1642-489c-9f41-45837ffad297"
      },
      "source": [
        "plot_predictions(train_data=X_train,\n",
        "                     train_labels=y_train,\n",
        "                     test_data=X_test,\n",
        "                     test_labels=y_test,\n",
        "                     predictions=y_pred)"
      ],
      "execution_count": 80,
      "outputs": [
        {
          "output_type": "display_data",
          "data": {
            "image/png": "[encoded data removed]",
            "text/plain": [
              "<Figure size 720x504 with 1 Axes>"
            ]
          },
          "metadata": {
            "tags": [],
            "needs_background": "light"
          }
        }
      ]
    },
    {
      "cell_type": "markdown",
      "metadata": {
        "id": "iCxPXVcB9q-_"
      },
      "source": [
        "###  Evaluating  our Model's Predictions with Regression Evaluation Metrics\n",
        "\n",
        "Depending on the Problem you are working on, there will be different evaluation metrics to evaluate your model's performance.\n",
        "\n",
        "Since we are working on a regression, two main metrics are :\n",
        "* **MAE** : Mean Absolute Error : \"On Average, how wrong is each of my models predictions\" \n",
        "\n",
        "* **MSE** : Mean Square Error : \"Square of the Average Errors\"\n",
        "\n",
        "* **Huber** : Combination of MSE and MAE. Less Sensitive to outliers than MSE."
      ]
    },
    {
      "cell_type": "code",
      "metadata": {
        "colab": {
          "base_uri": "https://localhost:8080/"
        },
        "id": "K9SFEp9XDTfF",
        "outputId": "2c1a185e-24b5-460d-f0bd-acad1a7e6cc8"
      },
      "source": [
        "# Evaluate the Model on the test set\n",
        "model.evaluate(X_test,y_test)"
      ],
      "execution_count": 81,
      "outputs": [
        {
          "output_type": "stream",
          "text": [
            "1/1 [==============================] - 0s 109ms/step - loss: 3.1969 - mean_absolute_error: 3.1969\n"
          ],
          "name": "stdout"
        },
        {
          "output_type": "execute_result",
          "data": {
            "text/plain": [
              "[3.196942090988159, 3.196942090988159]"
            ]
          },
          "metadata": {
            "tags": []
          },
          "execution_count": 81
        }
      ]
    },
    {
      "cell_type": "code",
      "metadata": {
        "colab": {
          "base_uri": "https://localhost:8080/"
        },
        "id": "ul1hVaY5D5Wq",
        "outputId": "042bed80-5022-432f-c5f6-ec8963bed910"
      },
      "source": [
        "# Calculate the Mean absolute Error\n",
        "tf.metrics.mean_absolute_error(y_test,tf.squeeze(y_pred))"
      ],
      "execution_count": 84,
      "outputs": [
        {
          "output_type": "execute_result",
          "data": {
            "text/plain": [
              "<tf.Tensor: shape=(), dtype=float32, numpy=3.1969407>"
            ]
          },
          "metadata": {
            "tags": []
          },
          "execution_count": 84
        }
      ]
    },
    {
      "cell_type": "code",
      "metadata": {
        "colab": {
          "base_uri": "https://localhost:8080/"
        },
        "id": "PGwEP8bbENSn",
        "outputId": "127b351f-e944-4423-861b-2d8dce749d48"
      },
      "source": [
        "# Calculate the Mean Squared Error\n",
        "tf.metrics.mean_squared_error(y_test,tf.squeeze(y_pred))"
      ],
      "execution_count": 86,
      "outputs": [
        {
          "output_type": "execute_result",
          "data": {
            "text/plain": [
              "<tf.Tensor: shape=(), dtype=float32, numpy=13.070143>"
            ]
          },
          "metadata": {
            "tags": []
          },
          "execution_count": 86
        }
      ]
    },
    {
      "cell_type": "code",
      "metadata": {
        "colab": {
          "base_uri": "https://localhost:8080/"
        },
        "id": "95ELKP6-FEcU",
        "outputId": "c95d3833-c1f2-4baf-bbf4-f9e07549ba90"
      },
      "source": [
        "# Calculate the Huber Loss\n",
        "hubber_loss=tf.keras.losses.Huber()\n",
        "hubber_loss(y_test,tf.squeeze(y_pred)).numpy()"
      ],
      "execution_count": 90,
      "outputs": [
        {
          "output_type": "execute_result",
          "data": {
            "text/plain": [
              "2.7069678"
            ]
          },
          "metadata": {
            "tags": []
          },
          "execution_count": 90
        }
      ]
    },
    {
      "cell_type": "code",
      "metadata": {
        "id": "1cLHsP_gFXc-"
      },
      "source": [
        ""
      ],
      "execution_count": null,
      "outputs": []
    }
  ]
}